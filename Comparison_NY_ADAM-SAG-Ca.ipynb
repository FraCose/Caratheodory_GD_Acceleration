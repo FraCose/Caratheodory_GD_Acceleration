{
 "cells": [
  {
   "cell_type": "code",
   "execution_count": 1,
   "metadata": {},
   "outputs": [],
   "source": [
    "import numpy as np\n",
    "import pandas as pd"
   ]
  },
  {
   "cell_type": "code",
   "execution_count": 2,
   "metadata": {},
   "outputs": [
    {
     "name": "stdout",
     "output_type": "stream",
     "text": [
      "['pickup_datetime', 'pickup_longitude', 'pickup_latitude', 'dropoff_longitude', 'dropoff_latitude', 'trip_duration']\n",
      "(1458644, 6)\n",
      "pickup_longitude          float64\n",
      "pickup_latitude           float64\n",
      "dropoff_longitude         float64\n",
      "dropoff_latitude          float64\n",
      "trip_duration               int64\n",
      "pickup_mins_of_the_day      int64\n",
      "dtype: object\n"
     ]
    }
   ],
   "source": [
    "# Please, to run the experiments donwload the following dataset and put them in the /Datasets folder:\n",
    "#     - NY_train.csv - \n",
    "#       https://www.kaggle.com/c/nyc-taxi-trip-duration/data?select=train.zip\n",
    "#       (extract the .csv file and rename it to NY_train.csv)\n",
    "\n",
    "filename = \"Datasets/NY_train.csv\"\n",
    "df = pd.read_csv(filename, header=0, usecols=[2,5,6,7,8,10])\n",
    "df = df.dropna()\n",
    "\n",
    "print(list(df.columns.values))\n",
    "\n",
    "df['pickup_datetime'] = pd.to_datetime(df['pickup_datetime'] , errors='coerce')\n",
    "df['hour'] = df.pickup_datetime.dt.hour\n",
    "df['minute'] = df.pickup_datetime.dt.minute\n",
    "df['pickup_mins_of_the_day'] = df['hour']*60 + df['minute']\n",
    "df = df.drop(['pickup_datetime', 'hour','minute'], axis=1)\n",
    "df = df.dropna()\n",
    "\n",
    "print(df.shape)\n",
    "print(df.dtypes)"
   ]
  },
  {
   "cell_type": "code",
   "execution_count": 3,
   "metadata": {},
   "outputs": [
    {
     "data": {
      "text/plain": [
       "(1458644, 5)"
      ]
     },
     "execution_count": 3,
     "metadata": {},
     "output_type": "execute_result"
    }
   ],
   "source": [
    "x = df[['pickup_mins_of_the_day','pickup_longitude','pickup_latitude','dropoff_longitude','dropoff_latitude']]\n",
    "x = x.to_numpy()\n",
    "y = df['trip_duration']\n",
    "y = y.to_numpy()\n",
    "\n",
    "np.shape(x)"
   ]
  },
  {
   "cell_type": "code",
   "execution_count": 4,
   "metadata": {
    "scrolled": true
   },
   "outputs": [
    {
     "name": "stdout",
     "output_type": "stream",
     "text": [
      "(1458644, 5)\n",
      "(1458644, 155)\n"
     ]
    }
   ],
   "source": [
    "import CaGD_ls\n",
    "\n",
    "x = np.ascontiguousarray(x)\n",
    "print(x.shape)\n",
    "x = CaGD_ls.tens_pow(x,3) \n",
    "print(x.shape)"
   ]
  },
  {
   "cell_type": "code",
   "execution_count": 5,
   "metadata": {},
   "outputs": [],
   "source": [
    "from sklearn.preprocessing import StandardScaler\n",
    "\n",
    "scaler = StandardScaler()\n",
    "scaler.fit(x)\n",
    "x_scaled = scaler.transform(x)"
   ]
  },
  {
   "cell_type": "code",
   "execution_count": 6,
   "metadata": {},
   "outputs": [
    {
     "name": "stdout",
     "output_type": "stream",
     "text": [
      "(1458644, 8)\n"
     ]
    },
    {
     "data": {
      "text/plain": [
       "0.9999999999999999"
      ]
     },
     "execution_count": 6,
     "metadata": {},
     "output_type": "execute_result"
    }
   ],
   "source": [
    "from sklearn.decomposition import PCA\n",
    "\n",
    "pca = PCA(n_components=0.999, svd_solver='full')\n",
    "pca.fit(x_scaled)\n",
    "x_scaled_pca = pca.transform(x_scaled)\n",
    "print(np.shape(x_scaled_pca))\n",
    "pca.explained_variance_ratio_.sum()"
   ]
  },
  {
   "cell_type": "code",
   "execution_count": 7,
   "metadata": {},
   "outputs": [
    {
     "name": "stdout",
     "output_type": "stream",
     "text": [
      "(1458644, 9)\n"
     ]
    }
   ],
   "source": [
    "x_scaled_pca = CaGD_ls.add_bias(x_scaled_pca)\n",
    "print(np.shape(x_scaled_pca))"
   ]
  },
  {
   "cell_type": "code",
   "execution_count": 8,
   "metadata": {},
   "outputs": [
    {
     "name": "stdout",
     "output_type": "stream",
     "text": [
      "5237.429929188888\n",
      "1458644\n"
     ]
    },
    {
     "name": "stderr",
     "output_type": "stream",
     "text": [
      "/Users/fcosentino/opt/anaconda3/lib/python3.7/site-packages/seaborn/distributions.py:2551: FutureWarning: `distplot` is a deprecated function and will be removed in a future version. Please adapt your code to use either `displot` (a figure-level function with similar flexibility) or `histplot` (an axes-level function for histograms).\n",
      "  warnings.warn(msg, FutureWarning)\n"
     ]
    },
    {
     "data": {
      "image/png": "[encoded data removed]",
      "text/plain": [
       "<Figure size 432x288 with 1 Axes>"
      ]
     },
     "metadata": {
      "needs_background": "light"
     },
     "output_type": "display_data"
    },
    {
     "name": "stderr",
     "output_type": "stream",
     "text": [
      "/Users/fcosentino/opt/anaconda3/lib/python3.7/site-packages/seaborn/distributions.py:2551: FutureWarning: `distplot` is a deprecated function and will be removed in a future version. Please adapt your code to use either `displot` (a figure-level function with similar flexibility) or `histplot` (an axes-level function for histograms).\n",
      "  warnings.warn(msg, FutureWarning)\n"
     ]
    },
    {
     "data": {
      "image/png": "[encoded data removed]",
      "text/plain": [
       "<Figure size 432x288 with 1 Axes>"
      ]
     },
     "metadata": {
      "needs_background": "light"
     },
     "output_type": "display_data"
    },
    {
     "name": "stdout",
     "output_type": "stream",
     "text": [
      "657.9589263820384\n",
      "1456521\n"
     ]
    }
   ],
   "source": [
    "import seaborn as sns\n",
    "import matplotlib.pyplot as plt\n",
    "\n",
    "print(y.std())\n",
    "print(len(y))\n",
    "sns.distplot(y, hist=True, kde=True, \n",
    "             bins=int(180/5), color = 'darkblue', \n",
    "             hist_kws={'edgecolor':'black'},\n",
    "             kde_kws={'linewidth': 4})\n",
    "plt.show()\n",
    "\n",
    "idx = y<=10000\n",
    "sns.distplot(y[idx], hist=True, kde=True, \n",
    "             bins=int(180/5), color = 'darkblue', \n",
    "             hist_kws={'edgecolor':'black'},\n",
    "             kde_kws={'linewidth': 2})\n",
    "\n",
    "plt.show()\n",
    "print(y[idx].std())\n",
    "print(len(y[idx]))"
   ]
  },
  {
   "cell_type": "code",
   "execution_count": 9,
   "metadata": {},
   "outputs": [],
   "source": [
    "x_scaled_pca = x_scaled_pca[idx]\n",
    "y = y[idx]"
   ]
  },
  {
   "cell_type": "code",
   "execution_count": 10,
   "metadata": {
    "scrolled": true
   },
   "outputs": [
    {
     "name": "stdout",
     "output_type": "stream",
     "text": [
      "number of parameters  9\n",
      "number of points  1456521\n"
     ]
    }
   ],
   "source": [
    "lr = 1e-3\n",
    "block_dim = 2\n",
    "loss_accepted = 1e-5\n",
    "max_iter = 5e1\n",
    "lambda_LASSO = 1e-2\n",
    "batch_size = 256\n",
    "\n",
    "n = np.shape(x_scaled_pca)[1]\n",
    "print(\"number of parameters \", n)\n",
    "print(\"number of points \", x_scaled_pca.shape[0])\n",
    "theta_0 = np.random.uniform(-1/n**0.5,1/n**0.5,n)"
   ]
  },
  {
   "cell_type": "code",
   "execution_count": 11,
   "metadata": {
    "scrolled": true
   },
   "outputs": [
    {
     "name": "stdout",
     "output_type": "stream",
     "text": [
      "iteration =  0  | loss =  1133660.0168822673  | time =  0.008951945000035266\n",
      "iteration =  1  | loss =  1133660.0269696403  | time =  0.08787877600002503\n",
      "PID parallel:  23582  | process number  0\n",
      "iteration =  3  | loss =  1125014.6258067465  | time =  0.44639971300000525\n",
      "PID parallel:  23584  | process number  0\n",
      "iteration =  5  | loss =  1106922.5957704799  | time =  0.8074074460000702\n",
      "PID parallel:  23586  | process number  0\n",
      "iteration =  7  | loss =  1081646.7632807621  | time =  1.1784172160000708\n",
      "PID parallel:  23588  | process number  0\n",
      "iteration =  9  | loss =  1051156.8076966216  | time =  1.48542167100004\n",
      "PID parallel:  23590  | process number  0\n",
      "iteration =  11  | loss =  1017120.8182122894  | time =  1.8561094130000129\n",
      "PID parallel:  23592  | process number  0\n",
      "iteration =  13  | loss =  980918.4560775352  | time =  2.2281771050001\n",
      "PID parallel:  23594  | process number  0\n",
      "iteration =  15  | loss =  943665.9957914175  | time =  2.5957429610000418\n",
      "PID parallel:  23596  | process number  0\n",
      "iteration =  17  | loss =  906246.8890997045  | time =  2.9682425270000294\n",
      "PID parallel:  23598  | process number  0\n",
      "iteration =  19  | loss =  869343.820242758  | time =  3.3368657150000445\n",
      "PID parallel:  23600  | process number  0\n",
      "iteration =  21  | loss =  833469.8045030928  | time =  3.6950117780000937\n",
      "PID parallel:  23602  | process number  0\n",
      "iteration =  23  | loss =  798996.9452750619  | time =  4.060099939000111\n",
      "PID parallel:  23604  | process number  0\n",
      "iteration =  25  | loss =  766182.1650385875  | time =  4.435050580000052\n",
      "PID parallel:  23606  | process number  0\n",
      "iteration =  27  | loss =  735189.674684746  | time =  4.806313506000038\n",
      "PID parallel:  23608  | process number  0\n",
      "iteration =  29  | loss =  706110.2228384458  | time =  5.173141270000087\n",
      "PID parallel:  23610  | process number  0\n",
      "iteration =  31  | loss =  678977.3279395675  | time =  5.545466008000062\n",
      "PID parallel:  23612  | process number  0\n",
      "iteration =  33  | loss =  653780.7799135066  | time =  5.9117172670000855\n",
      "PID parallel:  23614  | process number  0\n",
      "iteration =  35  | loss =  630477.7323864762  | time =  6.284230655000101\n",
      "PID parallel:  23616  | process number  0\n",
      "iteration =  37  | loss =  609001.7092154738  | time =  6.662611070000025\n",
      "PID parallel:  23619  | process number  0\n",
      "iteration =  39  | loss =  589269.833266022  | time =  7.045947281000053\n",
      "PID parallel:  23621  | process number  0\n",
      "iteration =  41  | loss =  571188.5593465752  | time =  7.425336123000079\n",
      "PID parallel:  23623  | process number  0\n",
      "iteration =  43  | loss =  554658.16253818  | time =  7.811178613000038\n",
      "PID parallel:  23625  | process number  0\n",
      "iteration =  45  | loss =  539576.2013651774  | time =  8.177007076000109\n",
      "PID parallel:  23627  | process number  0\n",
      "iteration =  47  | loss =  525840.1444830406  | time =  8.557507506000093\n",
      "PID parallel:  23629  | process number  0\n",
      "iteration =  49  | loss =  513349.32103100495  | time =  8.927862269000002\n",
      "PID parallel:  23631  | process number  0\n",
      "iteration =  50  | loss =  502006.2131661545  | time =  9.155517775000021\n"
     ]
    }
   ],
   "source": [
    "loss_momBCD_GS,iteration_momBCD_GS,theta_momBCD_GS,t_momBCD_GS = CaGD_ls.mom_BCD_GS_ls(\n",
    "                            x_scaled_pca,y,theta_0,lambda_LASSO,lr,loss_accepted,max_iter,2,0.75)"
   ]
  },
  {
   "cell_type": "code",
   "execution_count": 12,
   "metadata": {
    "scrolled": true
   },
   "outputs": [
    {
     "name": "stdout",
     "output_type": "stream",
     "text": [
      "iteration =  0  | loss =  1133660.0168822673  | time =  0.008476718999986588\n",
      "iteration =  0  | loss =  1133660.0168822673  | time =  0.009491195000009611\n",
      "PID parallel: PID parallel:  PID parallel:  23633  2363423635 | process number   | process number    | process number  0\n",
      " 1\n",
      "2\n",
      "PID parallel: PID parallel:   2363623637PID parallel:    | process number    | process number 23638 3 \n",
      "4 | process number \n",
      " 5\n",
      "iteration =  6  | loss =  1130838.745021048  | time =  0.413521209999999\n",
      "PID parallel:  23640 PID parallel:  | process number  PID parallel: PID parallel:  23641PID parallel:  0   \n",
      "2364423643 | process number 23642     | process number  | process number 1  | process number  3 \n",
      "4\n",
      "2\n",
      "\n",
      "PID parallel:  23645  | process number  5\n",
      "iteration =  12  | loss =  1130639.9077137997  | time =  0.83010952799998\n",
      "PID parallel:  23647  | process number  PID parallel: PID parallel: 0  \n",
      "2364823649PID parallel:     | process number  | process number 23650   21\n",
      " | process number \n",
      " PID parallel: 3 \n",
      "23651  | process number PID parallel:   236524 \n",
      " | process number  5\n",
      "iteration =  18  | loss =  1125324.7881244658  | time =  1.2405463620000319\n",
      "PID parallel:  PID parallel: PID parallel: 23654 PID parallel:   23655  | process number 23656 23657   | process number  0 | process number  | process number    \n",
      "123\n",
      "\n",
      "\n",
      "PID parallel: PID parallel:   2365823659   | process number  | process number   54\n",
      "\n",
      "iteration =  24  | loss =  1117430.675923419  | time =  1.672572827999943\n",
      "PID parallel:  PID parallel: 23661  PID parallel: 23663 | process number PID parallel:     23662 | process number 023664 \n",
      "   | process number 2 | process number \n",
      "  13\n",
      "PID parallel:  \n",
      "PID parallel: 23666 23665  | process number    | process number 5 \n",
      "4\n",
      "iteration =  30  | loss =  1107926.3189791157  | time =  2.081534419000036\n",
      "PID parallel:  23668 PID parallel: PID parallel:  PID parallel:  | process number  23669  23671 236700 | process number   \n",
      "  | process number  | process number 1 \n",
      " 32\n",
      "PID parallel: \n",
      " PID parallel: 23672  23673 | process number   4 | process number  \n",
      "5\n",
      "iteration =  36  | loss =  1096258.360761108  | time =  2.4918988709999894\n",
      "PID parallel:  23675PID parallel:    | process number 23676 PID parallel:  0 PID parallel:  | process number \n",
      "23677   23678 | process number 1\n",
      "  2 | process number  \n",
      "3\n",
      "PID parallel: PID parallel:   2367923680   | process number  | process number   45\n",
      "\n",
      "iteration =  42  | loss =  1095583.6684618923  | time =  2.9219742889999907\n",
      "PID parallel:  23682 PID parallel:  | process number PID parallel:    023683PID parallel: 23684\n",
      "    | process number 23685 | process number    1 | process number 2\n",
      " \n",
      "3\n",
      "PID parallel:  23686 PID parallel:  | process number   236874\n",
      "  | process number  5\n",
      "iteration =  48  | loss =  1082276.510443649  | time =  3.3386458420000054\n",
      "PID parallel:  23689  | process number  0\n",
      "PID parallel: PID parallel: PID parallel:   23690  2369123692 | process number    | process number   | process number  12 PID parallel: \n",
      "\n",
      " 3\n",
      "23693PID parallel:   23694 | process number    | process number 4\n",
      " 5\n",
      "iteration =  54  | loss =  1081391.400327015  | time =  3.7503075199999785\n"
     ]
    }
   ],
   "source": [
    "loss_randomBCD_GS,iteration_randomBCD_GS,theta_randomBCD_GS,t_randomBCD_GS = CaGD_ls.mom_BCD_random_ls(\n",
    "                            x_scaled_pca,y,theta_0,lambda_LASSO,lr,loss_accepted,max_iter,2,0.75)"
   ]
  },
  {
   "cell_type": "code",
   "execution_count": 13,
   "metadata": {
    "scrolled": true
   },
   "outputs": [
    {
     "name": "stdout",
     "output_type": "stream",
     "text": [
      "iteration =  0  | loss =  1133660.0168822673  | time =  0.008656704000031823\n",
      "iteration =  1  | loss =  1133660.0269696403  | time =  0.10718629900009091\n",
      "PID parallel:  23696  | process number  0\n",
      "iteration =  3  | loss =  1127687.4170788538  | time =  0.4641626710000537\n",
      "PID parallel:  23698  | process number  0\n",
      "iteration =  5  | loss =  1121763.6162277954  | time =  0.8376116890000276\n",
      "PID parallel:  23700  | process number  0\n",
      "iteration =  7  | loss =  1115888.183394566  | time =  1.2154050430000325\n",
      "PID parallel:  23702  | process number  0\n",
      "iteration =  9  | loss =  1110060.7163163964  | time =  1.5822695210000575\n",
      "PID parallel:  23704  | process number  0\n",
      "iteration =  11  | loss =  1104280.8196137615  | time =  1.9640512840001065\n",
      "PID parallel:  23706  | process number  0\n",
      "iteration =  13  | loss =  1098548.1012064575  | time =  2.3297467320001033\n",
      "PID parallel:  23708  | process number  0\n",
      "iteration =  15  | loss =  1092862.1722854641  | time =  2.7093393890000925\n",
      "PID parallel:  23710  | process number  0\n",
      "iteration =  17  | loss =  1087222.647285088  | time =  3.0793784040000673\n",
      "PID parallel:  23712  | process number  0\n",
      "iteration =  19  | loss =  1081629.1438553662  | time =  3.4632250050000266\n",
      "PID parallel:  23714  | process number  0\n",
      "iteration =  21  | loss =  1076081.2828347536  | time =  3.830149946000006\n",
      "PID parallel:  23716  | process number  0\n",
      "iteration =  23  | loss =  1070578.6882230474  | time =  4.2054533700001\n",
      "PID parallel:  23718  | process number  0\n",
      "iteration =  25  | loss =  1065120.9871545702  | time =  4.568555842000023\n",
      "PID parallel:  23720  | process number  0\n",
      "iteration =  27  | loss =  1059707.809871594  | time =  4.935164296000039\n",
      "PID parallel:  23722  | process number  0\n",
      "iteration =  29  | loss =  1054338.7896980036  | time =  5.307347776000029\n",
      "PID parallel:  23724  | process number  0\n",
      "iteration =  31  | loss =  1049013.563013195  | time =  5.681050216000017\n",
      "PID parallel:  23726  | process number  0\n",
      "iteration =  33  | loss =  1043731.7692262084  | time =  6.056433203000097\n",
      "PID parallel:  23728  | process number  0\n",
      "iteration =  35  | loss =  1038493.0507500829  | time =  6.428353016000074\n",
      "PID parallel:  23730  | process number  0\n",
      "iteration =  37  | loss =  1033297.0529764427  | time =  6.807921074000092\n",
      "PID parallel:  23732  | process number  0\n",
      "iteration =  39  | loss =  1028143.4242503014  | time =  7.181006822000086\n",
      "PID parallel:  23734  | process number  0\n",
      "iteration =  41  | loss =  1023031.8158450867  | time =  7.561138701000004\n",
      "PID parallel:  23736  | process number  0\n",
      "iteration =  43  | loss =  1017961.8819378839  | time =  7.933809059000055\n",
      "PID parallel:  23738  | process number  0\n",
      "iteration =  45  | loss =  1012933.279584892  | time =  8.303695070000003\n",
      "PID parallel:  23740  | process number  0\n",
      "iteration =  47  | loss =  1007945.6686970942  | time =  8.678045368000085\n",
      "PID parallel:  23742  | process number  0\n",
      "iteration =  49  | loss =  1002998.7120161365  | time =  9.054033054000001\n",
      "PID parallel:  23744  | process number  0\n",
      "iteration =  50  | loss =  998092.0535178476  | time =  9.274496881000005\n"
     ]
    }
   ],
   "source": [
    "loss_BCD_GS,iteration_BCD_GS,theta_BCD_GS,t_BCD_GS = CaGD_ls.BCD_GS_ls(\n",
    "                            x_scaled_pca,y,theta_0,lambda_LASSO,lr,loss_accepted,max_iter,2,0.75)"
   ]
  },
  {
   "cell_type": "code",
   "execution_count": 14,
   "metadata": {
    "scrolled": true
   },
   "outputs": [
    {
     "name": "stdout",
     "output_type": "stream",
     "text": [
      "iteration =  0  | loss =  1133660.0168822673  | time =  0.009498032000010426\n",
      "iteration =  2  | loss =  1130656.8692568368  | time =  0.27945826699999543\n",
      "PID parallel:  23746  | process number  0  | iterations CA =  33\n",
      "iteration =  4  | loss =  608741.3294869227  | time =  0.9428073289999475\n",
      "PID parallel:  23748  | process number  0  | iterations CA =  100\n",
      "iteration =  6  | loss =  402348.91075146873  | time =  1.658273773000019\n",
      "PID parallel:  23750  | process number  0  | iterations CA =  9\n",
      "PID parallel:  23751  | process number  1  | iterations CA =  18\n",
      "iteration =  8  | loss =  400199.89890522626  | time =  2.446366664999914\n",
      "PID parallel:  23753  | process number  0  | iterations CA =  14\n",
      "PID parallel:  23754  | process number  1  | iterations CA =  27\n",
      "iteration =  10  | loss =  398201.8561528757  | time =  3.2277333429999544\n",
      "PID parallel:  23756  | process number  0  | iterations CA =  100\n",
      "PID parallel:  23757  | process number  1  | iterations CA =  10\n",
      "iteration =  12  | loss =  395808.9741359768  | time =  4.020902188999912\n",
      "PID parallel:  23759  | process number  0  | iterations CA =  88\n",
      "PID parallel:  23760  | process number  1  | iterations CA =  22\n",
      "iteration =  14  | loss =  394708.384570192  | time =  4.826081662999968\n",
      "PID parallel:  23762  | process number  0  | iterations CA =  66\n",
      "PID parallel:  23763  | process number  1  | iterations CA =  6\n",
      "iteration =  16  | loss =  394268.1604363675  | time =  5.621914690999915\n",
      "PID parallel:  23765  | process number  0  | iterations CA =  78\n",
      "PID parallel:  23766  | process number  1  | iterations CA =  9\n",
      "iteration =  18  | loss =  394121.00018272543  | time =  6.410969356999999\n",
      "PID parallel:  23768  | process number  0  | iterations CA =  100\n",
      "PID parallel:  23769  | process number  1  | iterations CA =  11\n",
      "iteration =  20  | loss =  394053.5332181152  | time =  7.193136057999936\n",
      "PID parallel:  23771  | process number  0  | iterations CA =  100\n",
      "PID parallel:  23772  | process number  1  | iterations CA =  3\n",
      "iteration =  22  | loss =  394030.7142496638  | time =  7.977418435000004\n",
      "PID parallel:  23774  | process number  0  | iterations CA =  38\n",
      "PID parallel:  23775  | process number  1  | iterations CA =  8\n",
      "iteration =  24  | loss =  394026.33615952963  | time =  8.77071566699999\n",
      "PID parallel:  23777  | process number  0  | iterations CA =  100\n",
      "PID parallel:  23778  | process number  1  | iterations CA =  6\n",
      "iteration =  26  | loss =  394021.49532762833  | time =  9.585916735999945\n",
      "PID parallel:  23780  | process number  0  | iterations CA =  100\n",
      "PID parallel:  23781  | process number  1  | iterations CA =  1\n",
      "iteration =  28  | loss =  394019.82786995044  | time =  10.373535478999997\n",
      "PID parallel:  23785  | process number  0  | iterations CA =  59\n",
      "PID parallel:  23786  | process number  1  | iterations CA =  10\n",
      "iteration =  30  | loss =  394019.30753973743  | time =  11.200024428999996\n",
      "PID parallel:  23788  | process number  0  | iterations CA =  1\n",
      "PID parallel:  23789  | process number  1  | iterations CA =  14\n",
      "iteration =  32  | loss =  394019.2675004438  | time =  11.988234970000008\n",
      "PID parallel:  23791  | process number  0  | iterations CA =  1\n",
      "PID parallel:  23792  | process number  1  | iterations CA =  1\n",
      "iteration =  34  | loss =  394019.2799048489  | time =  12.79067806699993\n",
      "PID parallel:  23794  | process number  0  | iterations CA =  1\n",
      "PID parallel:  23795  | process number  1  | iterations CA =  1\n",
      "iteration =  36  | loss =  394019.2894094136  | time =  13.576811019999923\n",
      "PID parallel:  23797  | process number  0  | iterations CA =  1\n",
      "PID parallel:  23798  | process number  1  | iterations CA =  100\n",
      "iteration =  38  | loss =  394019.2628854838  | time =  14.371536662999915\n",
      "PID parallel:  23800  | process number  0  | iterations CA =  1\n",
      "PID parallel:  23801  | process number  1  | iterations CA =  100\n",
      "iteration =  40  | loss =  394019.2252990698  | time =  15.194220228999939\n",
      "PID parallel:  23803  | process number  0  | iterations CA =  1\n",
      "iteration =  42  | loss =  394019.2271143185  | time =  15.939855912999974\n",
      "PID parallel:  23805  | process number  0  | iterations CA =  100\n",
      "iteration =  44  | loss =  394019.1717572393  | time =  16.67473918299993\n",
      "PID parallel:  23807  | process number  0  | iterations CA =  52\n",
      "iteration =  46  | loss =  394018.8526997036  | time =  17.41707511300001\n",
      "PID parallel:  23810  | process number  0  | iterations CA =  1\n",
      "PID parallel:  23811  | process number  1  | iterations CA =  100\n",
      "iteration =  48  | loss =  394018.85254494334  | time =  18.22502349499996\n",
      "PID parallel:  23813  | process number  0  | iterations CA =  1\n",
      "iteration =  50  | loss =  394018.85459239763  | time =  18.972822234999967\n",
      "PID parallel:  23815  | process number  0  | iterations CA =  1\n",
      "iteration =  50  | loss =  394018.85459239763  | time =  19.279492677999997\n"
     ]
    }
   ],
   "source": [
    "loss_momCA_GS,iteration_momCA_GS,theta_momCA_GS,t_momCA_GS = CaGD_ls.mom_CA_BCD_GS_ls(\n",
    "                            x_scaled_pca,y,theta_0,lambda_LASSO,lr,loss_accepted,max_iter,2,0.75)"
   ]
  },
  {
   "cell_type": "code",
   "execution_count": 15,
   "metadata": {
    "scrolled": true
   },
   "outputs": [
    {
     "name": "stdout",
     "output_type": "stream",
     "text": [
      "iteration =  0  | loss =  1133660.0168822673  | time =  0.009946550999984538\n",
      "iteration =  2  | loss =  1130857.313791695  | time =  0.17600064499993096\n",
      "PID parallel:  23817  | process number PID parallel:   238180   | iterations CA =  | process number   1001\n",
      "  | iterations CA =  100\n",
      "iteration =  4  | loss =  437543.3290285062  | time =  0.7278699080000024\n",
      "PID parallel:  23820 PID parallel:  | process number   238210   | process number  | iterations CA =   301\n",
      "  | iterations CA =  6\n",
      "iteration =  6  | loss =  434699.8776302954  | time =  1.27299609399995\n",
      "PID parallel:  PID parallel:  23824 23823  | process number   | process number  10   | iterations CA =   | iterations CA =  2320\n",
      "\n",
      "iteration =  8  | loss =  429990.56502991176  | time =  1.8036657000000105\n",
      "PID parallel:  23826  | process number  0 PID parallel:  | iterations CA =   2382731 \n",
      " | process number  1  | iterations CA =  6\n",
      "iteration =  10  | loss =  402822.78532010375  | time =  2.3411938519999467\n",
      "PID parallel:  23829PID parallel:    | process number 23830  0 | process number    | iterations CA = 1  9 | iterations CA = \n",
      " 100\n",
      "iteration =  12  | loss =  401760.0970850768  | time =  2.8695869299999686\n",
      "PID parallel:  23832PID parallel:    | process number 23833  0  | process number  | iterations CA =   15  | iterations CA = \n",
      " 13\n",
      "iteration =  14  | loss =  399718.43813879683  | time =  3.392897179999977\n",
      "PID parallel:  23836  | process number  PID parallel: 1  23835 | iterations CA =    | process number 6 \n",
      "0  | iterations CA =  100\n",
      "iteration =  16  | loss =  398662.42304082395  | time =  3.92398931799994\n",
      "PID parallel:  23839PID parallel:    | process number 23838 1  | process number    | iterations CA = 0  1 | iterations CA = \n",
      " 12\n",
      "iteration =  18  | loss =  396628.9227067407  | time =  4.461168981000014\n",
      "PID parallel:  PID parallel: 23841  23842 | process number   0 | process number    | iterations CA = 1  7 | iterations CA =  \n",
      "100\n",
      "iteration =  20  | loss =  395937.63261371915  | time =  5.002602806000027\n",
      "PID parallel:  PID parallel: 23845  23844 | process number    | process number 1   | iterations CA = 0  24 | iterations CA = \n",
      " 100\n",
      "iteration =  22  | loss =  394950.09876128635  | time =  5.531216669999935\n",
      "PID parallel:  23847  | process number  0PID parallel:    | iterations CA = 23848  3 | process number \n",
      " 1  | iterations CA =  100\n",
      "iteration =  24  | loss =  394586.5544996279  | time =  6.072700123000004\n",
      "PID parallel: PID parallel:   2385023851   | process number  | process number   01  | iterations CA =   | iterations CA =   1001\n",
      "\n",
      "iteration =  26  | loss =  394552.50041222933  | time =  6.610385362999978\n",
      "PID parallel:  23854 PID parallel:  | process number   123853   | iterations CA =  | process number   0100\n",
      "  | iterations CA =  100\n",
      "iteration =  28  | loss =  394475.18685447023  | time =  7.143537149999929\n",
      "PID parallel:  23856 PID parallel:  | process number   238570   | process number   | iterations CA =  113 \n",
      " | iterations CA =  67\n",
      "iteration =  30  | loss =  394444.22575085715  | time =  7.664881316999981\n",
      "PID parallel:  23859  | process number  0 PID parallel:   | iterations CA =  2386018  | process number \n",
      " 1  | iterations CA =  46\n",
      "iteration =  32  | loss =  394380.4294086776  | time =  8.190463765999993\n",
      "PID parallel: PID parallel:   2386323862   | process number  | process number   10   | iterations CA =  | iterations CA =   87100\n",
      "\n",
      "iteration =  34  | loss =  395103.9111502164  | time =  8.721109145000014\n",
      "PID parallel:  23866PID parallel:   23865 | process number    | process number 1   | iterations CA = 0  20 | iterations CA = \n",
      " 100\n",
      "iteration =  36  | loss =  395100.00537728536  | time =  9.262522372000035\n",
      "PID parallel:  23868  | process number PID parallel:   023869  | iterations CA =   | process number   100\n",
      "1  | iterations CA =  100\n",
      "iteration =  38  | loss =  395115.28717926156  | time =  9.788996451000003\n",
      "PID parallel:  23871  | process number  0 PID parallel:  | iterations CA =   238721 \n",
      " | process number  1  | iterations CA =  24\n",
      "iteration =  40  | loss =  395134.01191155805  | time =  10.318025072999944\n",
      "PID parallel:  23874  | process number  PID parallel: 0  23875 | iterations CA =    | process number 1 \n",
      "1  | iterations CA =  1\n",
      "iteration =  42  | loss =  395134.00930580974  | time =  10.856528734999983\n",
      "PID parallel:  23878PID parallel:    | process number 23877  1 | process number   0 | iterations CA =    | iterations CA = 4 \n",
      "100\n",
      "iteration =  44  | loss =  395129.09847627097  | time =  11.418004879000023\n",
      "PID parallel: PID parallel:   2388123882   | process number  | process number   10   | iterations CA =  | iterations CA =   1001\n",
      "\n",
      "iteration =  46  | loss =  395131.18327210407  | time =  11.955626142000028\n",
      "PID parallel: PID parallel:   2388623885   | process number  | process number   10   | iterations CA =  | iterations CA =   100\n",
      "21\n",
      "iteration =  48  | loss =  395021.87486545445  | time =  12.500623964999932\n",
      "PID parallel:  23888  | process number  0  | iterations CA = PID parallel:   238891 \n",
      " | process number  1  | iterations CA =  100\n",
      "iteration =  50  | loss =  395044.3748653696  | time =  13.050055463000035\n",
      "PID parallel:  23891  | process number PID parallel:   023892   | process number  | iterations CA =   11 \n",
      " | iterations CA =  1\n",
      "iteration =  50  | loss =  395044.3748653696  | time =  13.346289260999924\n"
     ]
    }
   ],
   "source": [
    "loss_momCA_random,iteration_momCA_random,theta_momCA_random,t_momCA_random = CaGD_ls.mom_CA_BCD_random_ls(\n",
    "                            x_scaled_pca,y,theta_0,lambda_LASSO,lr,loss_accepted,max_iter,2,0.5)"
   ]
  },
  {
   "cell_type": "code",
   "execution_count": 16,
   "metadata": {
    "scrolled": true
   },
   "outputs": [
    {
     "name": "stdout",
     "output_type": "stream",
     "text": [
      "iteration =  0  | loss =  1133660.0168822673  | time =  0.009656780000000253\n",
      "iteration =  2  | loss =  1130656.8692568368  | time =  0.23890483499997117\n",
      "PID parallel:  23894  | process number  0  | iterations CA =  100\n",
      "iteration =  4  | loss =  883023.2331084061  | time =  0.8448275240000385\n",
      "PID parallel:  23896  | process number  0  | iterations CA =  100\n",
      "iteration =  6  | loss =  719829.0204077221  | time =  1.4772450130000152\n",
      "PID parallel:  23898  | process number  0  | iterations CA =  100\n",
      "iteration =  8  | loss =  612100.3145253916  | time =  2.1322627890000376\n",
      "PID parallel:  23900  | process number  0  | iterations CA =  100\n",
      "iteration =  10  | loss =  541303.4357028885  | time =  2.79358210700002\n",
      "PID parallel:  23902  | process number  0  | iterations CA =  100\n",
      "iteration =  12  | loss =  494245.15290719783  | time =  3.447928970000021\n",
      "PID parallel:  23904  | process number  0  | iterations CA =  100\n",
      "iteration =  14  | loss =  461991.21836348233  | time =  4.11923514700004\n",
      "PID parallel:  23906  | process number  0  | iterations CA =  100\n",
      "iteration =  16  | loss =  441033.616062395  | time =  4.765764674000025\n",
      "PID parallel:  23908  | process number  0  | iterations CA =  100\n",
      "iteration =  18  | loss =  427084.7673921376  | time =  5.402028610000002\n",
      "PID parallel:  23910  | process number  0  | iterations CA =  100\n",
      "PID parallel:  23911  | process number  1  | iterations CA =  100\n",
      "iteration =  20  | loss =  417124.22751965025  | time =  6.102191489999996\n",
      "PID parallel:  23913  | process number  0  | iterations CA =  100\n",
      "PID parallel:  23914  | process number  1  | iterations CA =  100\n",
      "iteration =  22  | loss =  410458.2690535845  | time =  6.800743670999964\n",
      "PID parallel:  23916  | process number  0  | iterations CA =  100\n",
      "PID parallel:  23917  | process number  1  | iterations CA =  100\n",
      "iteration =  24  | loss =  405946.0560201143  | time =  7.495328280999956\n",
      "PID parallel:  23919  | process number  0  | iterations CA =  100\n",
      "PID parallel:  23920  | process number  1  | iterations CA =  100\n",
      "iteration =  26  | loss =  402872.0432342551  | time =  8.19152000400004\n",
      "PID parallel:  23922  | process number  0  | iterations CA =  100\n",
      "PID parallel:  23923  | process number  1  | iterations CA =  100\n",
      "iteration =  28  | loss =  400700.17901115713  | time =  8.887828990999992\n",
      "PID parallel:  23925  | process number  0  | iterations CA =  100\n",
      "PID parallel:  23926  | process number  1  | iterations CA =  100\n",
      "iteration =  30  | loss =  399179.73286077223  | time =  9.582773631999999\n",
      "PID parallel:  23928  | process number  0  | iterations CA =  100\n",
      "PID parallel:  23929  | process number  1  | iterations CA =  100\n",
      "iteration =  32  | loss =  398091.1105285545  | time =  10.277638519999982\n",
      "PID parallel:  23931  | process number  0  | iterations CA =  100\n",
      "PID parallel:  23932  | process number  1  | iterations CA =  100\n",
      "iteration =  34  | loss =  397308.3800581294  | time =  10.97269814599997\n",
      "PID parallel:  23934  | process number  0  | iterations CA =  100\n",
      "PID parallel:  23935  | process number  1  | iterations CA =  100\n",
      "iteration =  36  | loss =  396727.8233851858  | time =  11.676289752999992\n",
      "PID parallel:  23937  | process number  0  | iterations CA =  100\n",
      "PID parallel:  23938  | process number  1  | iterations CA =  100\n",
      "iteration =  38  | loss =  396294.28017347696  | time =  12.37842104699996\n",
      "PID parallel:  23940  | process number  0  | iterations CA =  100\n",
      "PID parallel:  23941  | process number  1  | iterations CA =  100\n",
      "iteration =  40  | loss =  395956.4029010013  | time =  13.070947916000023\n",
      "PID parallel:  23943  | process number  0  | iterations CA =  100\n",
      "PID parallel:  23944  | process number  1  | iterations CA =  100\n",
      "iteration =  42  | loss =  395695.02790809947  | time =  13.767757663999987\n",
      "PID parallel:  23946  | process number  0  | iterations CA =  100\n",
      "PID parallel:  23947  | process number  1  | iterations CA =  100\n",
      "iteration =  44  | loss =  395485.36817205104  | time =  14.462216551999973\n",
      "PID parallel:  23949  | process number  0  | iterations CA =  100\n",
      "PID parallel:  23950  | process number  1  | iterations CA =  100\n",
      "iteration =  46  | loss =  395314.31276202004  | time =  15.17040078599996\n",
      "PID parallel:  23952  | process number  0  | iterations CA =  100\n",
      "PID parallel:  23953  | process number  1  | iterations CA =  100\n",
      "iteration =  48  | loss =  395168.8431518594  | time =  15.872972068999957\n",
      "PID parallel:  23955  | process number  0  | iterations CA =  100\n",
      "PID parallel:  23956  | process number  1  | iterations CA =  100\n",
      "iteration =  50  | loss =  395047.2313332669  | time =  16.578227803000004\n",
      "PID parallel:  23958  | process number  0  | iterations CA =  100\n",
      "PID parallel:  23959  | process number  1  | iterations CA =  100\n",
      "iteration =  50  | loss =  394943.3197608981  | time =  16.933112500999982\n"
     ]
    }
   ],
   "source": [
    "loss_CABCD_stand_GS,iteration_CABCD_stand_GS,theta_CABCD_stand_GS,t_CABCD_stand_GS = CaGD_ls.CA_BCD_GS_ls(\n",
    "                             x_scaled_pca,y,theta_0,lambda_LASSO,lr,loss_accepted,max_iter,2,0.75)"
   ]
  },
  {
   "cell_type": "code",
   "execution_count": 17,
   "metadata": {
    "scrolled": true
   },
   "outputs": [
    {
     "name": "stdout",
     "output_type": "stream",
     "text": [
      "iteration =  0  | loss =  1133660.0168822673  | time =  0.009754057000009198\n",
      "iteration =  1  | loss =  1122055.3139264677  | time =  0.4066320189999715\n",
      "iteration =  2  | loss =  1110772.9891279992  | time =  0.7914480270000013\n",
      "iteration =  3  | loss =  1099822.6125033488  | time =  1.1722247940000443\n",
      "iteration =  4  | loss =  1089092.4713368919  | time =  1.55063154700008\n",
      "iteration =  5  | loss =  1078566.907011908  | time =  1.9268887460000315\n",
      "iteration =  6  | loss =  1068312.938477343  | time =  2.310819305999985\n",
      "iteration =  7  | loss =  1058247.2093008626  | time =  2.6889551400000755\n",
      "iteration =  8  | loss =  1048166.0379781998  | time =  3.070968549999975\n",
      "iteration =  9  | loss =  1038454.9143707625  | time =  3.448830686000065\n",
      "iteration =  10  | loss =  1028858.7194385142  | time =  3.828258384000037\n",
      "iteration =  11  | loss =  1019334.4061838727  | time =  4.210787766000067\n",
      "iteration =  12  | loss =  1009874.7161771177  | time =  4.5924887350000745\n",
      "iteration =  13  | loss =  1000679.948074223  | time =  4.970907429000022\n",
      "iteration =  14  | loss =  991442.4618274956  | time =  5.351842243000078\n",
      "iteration =  15  | loss =  982170.4622587399  | time =  5.732116479000069\n",
      "iteration =  16  | loss =  973207.2975368836  | time =  6.110183349000067\n",
      "iteration =  17  | loss =  964348.9711236447  | time =  6.486658542999976\n",
      "iteration =  18  | loss =  955574.6444458119  | time =  6.860639601999992\n",
      "iteration =  19  | loss =  946834.1353056547  | time =  7.237534245999996\n",
      "iteration =  20  | loss =  938151.6829294389  | time =  7.613690855000073\n",
      "iteration =  21  | loss =  929610.1335105491  | time =  7.991548200000011\n",
      "iteration =  22  | loss =  921064.0772370977  | time =  8.366291421000028\n",
      "iteration =  23  | loss =  912731.6616550284  | time =  8.739522425000018\n",
      "iteration =  24  | loss =  904411.3296717295  | time =  9.11435415699998\n",
      "iteration =  25  | loss =  896221.2141493026  | time =  9.502923190000047\n",
      "iteration =  26  | loss =  888013.6052657907  | time =  9.881753711999977\n",
      "iteration =  27  | loss =  879922.742496735  | time =  10.256971759000066\n",
      "iteration =  28  | loss =  871859.4590452467  | time =  10.631989437000016\n",
      "iteration =  29  | loss =  863862.9421551266  | time =  11.012693926999987\n",
      "iteration =  30  | loss =  856034.7175287588  | time =  11.394644441000082\n",
      "iteration =  31  | loss =  848258.9321812302  | time =  11.772496563999994\n",
      "iteration =  32  | loss =  840501.2317142007  | time =  12.149475069000005\n",
      "iteration =  33  | loss =  832882.9069013094  | time =  12.52577015700001\n",
      "iteration =  34  | loss =  825289.9923049733  | time =  12.904934131000005\n",
      "iteration =  35  | loss =  817850.1840261422  | time =  13.283944805000033\n",
      "iteration =  36  | loss =  810442.0266968741  | time =  13.665496251000036\n",
      "iteration =  37  | loss =  803108.7189205054  | time =  14.038118541000017\n",
      "iteration =  38  | loss =  795781.2940455497  | time =  14.422809980000011\n",
      "iteration =  39  | loss =  788606.4655060027  | time =  14.800264783999978\n",
      "iteration =  40  | loss =  781437.2573524666  | time =  15.178229578000014\n",
      "iteration =  41  | loss =  774271.7050634554  | time =  15.555889030999992\n",
      "iteration =  42  | loss =  767328.8880553668  | time =  15.932782649000046\n",
      "iteration =  43  | loss =  760389.3395170837  | time =  16.31184375800001\n",
      "iteration =  44  | loss =  753557.9582978718  | time =  16.68615266000006\n",
      "iteration =  45  | loss =  746732.6348448523  | time =  17.06137753400003\n",
      "iteration =  46  | loss =  739930.2591787219  | time =  17.440912808999997\n",
      "iteration =  47  | loss =  733227.549322931  | time =  17.819349235999994\n",
      "iteration =  48  | loss =  726679.4943178566  | time =  18.195326640000076\n",
      "iteration =  49  | loss =  720160.7003660253  | time =  18.572363834000043\n",
      "iteration =  50  | loss =  713739.760529807  | time =  18.952444267000033\n",
      "iteration =  51  | loss =  707321.4745911083  | time =  19.33132287400008\n"
     ]
    }
   ],
   "source": [
    "loss_ADAM,iteration_ADAM,theta_ADAM,t_ADAM = CaGD_ls.ADAM_ls(x_scaled_pca,y,theta_0,lambda_LASSO,batch_size,lr,loss_accepted,max_iter)"
   ]
  },
  {
   "cell_type": "code",
   "execution_count": 18,
   "metadata": {
    "scrolled": true
   },
   "outputs": [
    {
     "name": "stdout",
     "output_type": "stream",
     "text": [
      "iteration =  0  | loss =  1133660.0168822673  | time =  0.045426958999996714\n",
      "iteration =  1  | loss =  1116707.5255911783  | time =  0.6187485489999744\n",
      "iteration =  2  | loss =  1100083.447963294  | time =  1.3729747209999914\n",
      "iteration =  3  | loss =  1083846.349964911  | time =  2.1374380599999085\n",
      "iteration =  4  | loss =  1067986.6598624305  | time =  2.9018200849999403\n",
      "iteration =  5  | loss =  1052495.111981658  | time =  3.668328914999961\n",
      "iteration =  6  | loss =  1037364.1992622461  | time =  4.416854892999936\n",
      "iteration =  7  | loss =  1022584.9413882627  | time =  5.152716366999925\n",
      "iteration =  8  | loss =  1008146.8257271774  | time =  5.900662613000009\n",
      "iteration =  9  | loss =  994046.2205752968  | time =  6.694402104999995\n",
      "iteration =  10  | loss =  980272.8224443722  | time =  7.4600920679999945\n",
      "iteration =  11  | loss =  966818.459950109  | time =  8.224653353999997\n",
      "iteration =  12  | loss =  953677.4562840291  | time =  8.986474254999962\n",
      "iteration =  13  | loss =  940841.1424363757  | time =  9.741476407999926\n",
      "iteration =  14  | loss =  928301.2827394425  | time =  10.490656556999966\n",
      "iteration =  15  | loss =  916053.2613580878  | time =  11.272630191999951\n",
      "iteration =  16  | loss =  904088.998595674  | time =  12.030479526999898\n",
      "iteration =  17  | loss =  892402.0664500871  | time =  12.7939876559999\n",
      "iteration =  18  | loss =  880985.0661097583  | time =  13.54001360899997\n",
      "iteration =  19  | loss =  869833.2764472736  | time =  14.299059489000001\n",
      "iteration =  20  | loss =  858939.9819191755  | time =  15.051963627999953\n",
      "iteration =  21  | loss =  848297.968515974  | time =  15.801017725999941\n",
      "iteration =  22  | loss =  837902.6323524832  | time =  16.571879728\n",
      "iteration =  23  | loss =  827748.2425512377  | time =  17.333550935999938\n",
      "iteration =  24  | loss =  817828.1473811488  | time =  18.084522029999903\n",
      "iteration =  25  | loss =  808138.1167555572  | time =  18.83275201799995\n",
      "iteration =  26  | loss =  798671.5173835978  | time =  19.58188569099991\n",
      "iteration =  27  | loss =  789423.9342986058  | time =  20.33357584999999\n",
      "iteration =  28  | loss =  780390.6361096486  | time =  21.08787458500001\n",
      "iteration =  29  | loss =  771565.1545453896  | time =  21.839979282999934\n",
      "iteration =  30  | loss =  762943.7655176407  | time =  22.586363115999916\n",
      "iteration =  31  | loss =  754522.0199501272  | time =  23.335393634999946\n",
      "iteration =  32  | loss =  746294.0968306229  | time =  24.07958045099997\n",
      "iteration =  33  | loss =  738256.7631476088  | time =  24.817717823999942\n",
      "iteration =  34  | loss =  730404.5115339424  | time =  25.562476994999997\n",
      "iteration =  35  | loss =  722733.6454039271  | time =  26.314531833999922\n",
      "iteration =  36  | loss =  715239.5103016148  | time =  27.06633651300001\n",
      "iteration =  37  | loss =  707917.7410452844  | time =  27.811480798999924\n",
      "iteration =  38  | loss =  700765.4793253776  | time =  28.558592344999965\n",
      "iteration =  39  | loss =  693777.8344540107  | time =  29.303976347000003\n",
      "iteration =  40  | loss =  686951.1251726366  | time =  30.04605762999995\n",
      "iteration =  41  | loss =  680281.9790569057  | time =  30.785617954999907\n",
      "iteration =  42  | loss =  673766.4178997123  | time =  31.52462608499991\n",
      "iteration =  43  | loss =  667401.041753125  | time =  32.29611429499994\n",
      "iteration =  44  | loss =  661181.9771379728  | time =  33.04214367299994\n",
      "iteration =  45  | loss =  655106.2438690343  | time =  33.79653362399995\n",
      "iteration =  46  | loss =  649170.0822204447  | time =  34.53808362099994\n",
      "iteration =  47  | loss =  643370.9439727736  | time =  35.27840089299991\n",
      "iteration =  48  | loss =  637705.1434226339  | time =  36.035524818\n",
      "iteration =  49  | loss =  632169.5747444388  | time =  36.78065272999993\n",
      "iteration =  50  | loss =  626761.2705983137  | time =  37.52294584699996\n",
      "iteration =  51  | loss =  621477.3488950098  | time =  38.26616822799997\n"
     ]
    }
   ],
   "source": [
    "lr = 1e-6\n",
    "loss_SAG,iteration_SAG,theta_SAG,t_SAG = CaGD_ls.SAG_ls(x_scaled_pca,y,theta_0,lambda_LASSO,batch_size,lr,loss_accepted,max_iter)"
   ]
  },
  {
   "cell_type": "code",
   "execution_count": 19,
   "metadata": {},
   "outputs": [
    {
     "name": "stdout",
     "output_type": "stream",
     "text": [
      "loss min mom GS CA =  394018.85254494334\n",
      "loss min mom random CA =  394380.4294086776\n",
      "loss min standard GS CA =  394943.3197608981\n",
      "loss min ADAM =  707321.4745911083\n",
      "loss min SAG =  621477.3488950098\n"
     ]
    }
   ],
   "source": [
    "print(\"loss min mom GS CA = \", min(loss_momCA_GS))\n",
    "print(\"loss min mom random CA = \", min(loss_momCA_random))\n",
    "print(\"loss min standard GS CA = \", min(loss_CABCD_stand_GS))\n",
    "print(\"loss min ADAM = \", min(loss_ADAM))\n",
    "print(\"loss min SAG = \", min(loss_SAG))"
   ]
  },
  {
   "cell_type": "code",
   "execution_count": 21,
   "metadata": {},
   "outputs": [
    {
     "data": {
      "image/png": "[encoded data removed]",
      "text/plain": [
       "<Figure size 432x288 with 1 Axes>"
      ]
     },
     "metadata": {
      "needs_background": "light"
     },
     "output_type": "display_data"
    },
    {
     "data": {
      "image/png": "[encoded data removed]",
      "text/plain": [
       "<Figure size 432x288 with 1 Axes>"
      ]
     },
     "metadata": {
      "needs_background": "light"
     },
     "output_type": "display_data"
    }
   ],
   "source": [
    "from matplotlib import pyplot as plt\n",
    "\n",
    "plt.plot(t_momBCD_GS, loss_momBCD_GS, label=\"BCD mom GS\", color='green')\n",
    "plt.plot(t_randomBCD_GS, loss_randomBCD_GS, label=\"BCD mom random\", color='blue')\n",
    "plt.plot(t_BCD_GS, loss_BCD_GS, label=\"BCD GS\", color='orange')\n",
    "plt.plot(t_momCA_GS, loss_momCA_GS, label=\"CaBCD mom GS\", linestyle='--', color='green')\n",
    "plt.plot(t_momCA_random, loss_momCA_random, label=\"CaBCD mom random\", linestyle='--', color='blue')\n",
    "plt.plot(t_CABCD_stand_GS, loss_CABCD_stand_GS, label=\"CaBCD GS\", linestyle='--', color='orange')\n",
    "plt.plot(t_ADAM, loss_ADAM, label=\"ADAM\", linestyle=':', color='red')\n",
    "plt.plot(t_SAG, loss_SAG, label=\"SAG\", linestyle=':', color='black')\n",
    "plt.legend(loc = \"right\")\n",
    "plt.title('Loss MSE vs time NY')\n",
    "plt.xlabel('time')\n",
    "plt.ylabel('loss')\n",
    "\n",
    "plt.xlim([0,10])\n",
    "plt.ylim([min(loss_ADAM)*0.5,max(loss_ADAM)])\n",
    "# plt.savefig('CaBCD_vs_all_time_NY.pdf', bbox_inches='tight')\n",
    "plt.show()\n",
    "\n",
    "plt.plot(iteration_momBCD_GS, loss_momBCD_GS, label=\"BCD mom GS\", color='green')\n",
    "plt.plot(iteration_randomBCD_GS, loss_randomBCD_GS, label=\"BCD mom random\", color='blue')\n",
    "plt.plot(iteration_BCD_GS, loss_BCD_GS, label=\"BCD GS\", color='orange')\n",
    "plt.plot(iteration_momCA_GS, loss_momCA_GS, label=\"CaBCD mom GS\", linestyle='--', color='green')\n",
    "plt.plot(iteration_momCA_random, loss_momCA_random, label=\"CaBCD mom random\", linestyle='--', color='blue')\n",
    "plt.plot(iteration_CABCD_stand_GS, loss_CABCD_stand_GS, label=\"CaBCD GS\", linestyle='--', color='orange')\n",
    "plt.plot(iteration_ADAM, loss_ADAM, label=\"ADAM\", linestyle=':', color='red')\n",
    "plt.plot(iteration_SAG, loss_SAG, label=\"SAG\", linestyle=':', color='black')\n",
    "plt.legend(loc = \"right\")\n",
    "plt.title('Loss MSE vs iteration NY')\n",
    "plt.xlabel('iteration (over the entire dataset)')\n",
    "plt.ylabel('loss')\n",
    "plt.xlim([0,30])\n",
    "plt.ylim([min(loss_ADAM)*0.5,max(loss_ADAM)])\n",
    "# plt.savefig('CaBCD_vs_all_iteration_NY.pdf', bbox_inches='tight')\n",
    "plt.show()"
   ]
  },
  {
   "cell_type": "code",
   "execution_count": null,
   "metadata": {},
   "outputs": [],
   "source": []
  }
 ],
 "metadata": {
  "kernelspec": {
   "display_name": "Python 3",
   "language": "python",
   "name": "python3"
  },
  "language_info": {
   "codemirror_mode": {
    "name": "ipython",
    "version": 3
   },
   "file_extension": ".py",
   "mimetype": "text/x-python",
   "name": "python",
   "nbconvert_exporter": "python",
   "pygments_lexer": "ipython3",
   "version": "3.7.9"
  }
 },
 "nbformat": 4,
 "nbformat_minor": 4
}
