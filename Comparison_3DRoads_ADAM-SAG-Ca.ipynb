{
 "cells": [
  {
   "cell_type": "code",
   "execution_count": 1,
   "metadata": {},
   "outputs": [],
   "source": [
    "import numpy as np\n",
    "import pandas as pd"
   ]
  },
  {
   "cell_type": "code",
   "execution_count": 2,
   "metadata": {},
   "outputs": [
    {
     "name": "stdout",
     "output_type": "stream",
     "text": [
      "['Longitude', 'Latitude', 'Altitude']\n",
      "(434873, 3)\n",
      "Longitude    float64\n",
      "Latitude     float64\n",
      "Altitude     float64\n",
      "dtype: object\n"
     ]
    }
   ],
   "source": [
    "# Please, to run the experiments donwload the following dataset and put them in the /Datasets folder:\n",
    "# \t- 3D_spatial_network.txt - \n",
    "#       https://archive.ics.uci.edu/ml/machine-learning-databases/00246/3D_spatial_network.txt\n",
    "\n",
    "filename = \"Datasets/3D_spatial_network.txt\"\n",
    "df = pd.read_csv(filename, sep=',', usecols=[1,2,3])\n",
    "df = df.dropna()\n",
    "\n",
    "df.columns = ['Longitude', 'Latitude', 'Altitude']\n",
    "print(list(df.columns.values) )\n",
    "\n",
    "df['Longitude'] = pd.to_numeric(df['Longitude'], errors='coerce')\n",
    "df['Latitude'] = pd.to_numeric(df['Latitude'], errors='coerce')\n",
    "df['Altitude'] = pd.to_numeric(df['Altitude'], errors='coerce')\n",
    "\n",
    "df = df.dropna()\n",
    "\n",
    "print(df.shape)\n",
    "print(df.dtypes)"
   ]
  },
  {
   "cell_type": "code",
   "execution_count": 3,
   "metadata": {},
   "outputs": [],
   "source": [
    "x = df[['Longitude','Latitude']]\n",
    "x = x.to_numpy()\n",
    "y = df['Altitude']\n",
    "y = y.to_numpy()"
   ]
  },
  {
   "cell_type": "code",
   "execution_count": 4,
   "metadata": {
    "scrolled": true
   },
   "outputs": [
    {
     "name": "stdout",
     "output_type": "stream",
     "text": [
      "(434873, 2)\n",
      "(434873, 62)\n"
     ]
    }
   ],
   "source": [
    "import CaGD_ls\n",
    "\n",
    "x = np.ascontiguousarray(x)\n",
    "print(x.shape)\n",
    "x = CaGD_ls.tens_pow(x,5) \n",
    "print(x.shape)"
   ]
  },
  {
   "cell_type": "code",
   "execution_count": 5,
   "metadata": {},
   "outputs": [],
   "source": [
    "from sklearn.preprocessing import StandardScaler\n",
    "\n",
    "scaler = StandardScaler()\n",
    "scaler.fit(x)\n",
    "x_scaled = scaler.transform(x)"
   ]
  },
  {
   "cell_type": "code",
   "execution_count": 6,
   "metadata": {},
   "outputs": [
    {
     "name": "stdout",
     "output_type": "stream",
     "text": [
      "(434873, 7)\n"
     ]
    },
    {
     "data": {
      "text/plain": [
       "0.9999999999870592"
      ]
     },
     "execution_count": 6,
     "metadata": {},
     "output_type": "execute_result"
    }
   ],
   "source": [
    "from sklearn.decomposition import PCA\n",
    "\n",
    "pca = PCA(n_components=0.999, svd_solver='full')\n",
    "pca.fit(x_scaled)\n",
    "\n",
    "x_scaled_pca = pca.transform(x_scaled)\n",
    "\n",
    "print(np.shape(x_scaled_pca))\n",
    "pca.explained_variance_ratio_.sum()"
   ]
  },
  {
   "cell_type": "code",
   "execution_count": 7,
   "metadata": {},
   "outputs": [
    {
     "name": "stdout",
     "output_type": "stream",
     "text": [
      "(434873, 8)\n"
     ]
    }
   ],
   "source": [
    "x_scaled_pca = CaGD_ls.add_bias(x_scaled_pca)\n",
    "print(np.shape(x_scaled_pca))"
   ]
  },
  {
   "cell_type": "code",
   "execution_count": 8,
   "metadata": {},
   "outputs": [
    {
     "name": "stderr",
     "output_type": "stream",
     "text": [
      "/Users/fcosentino/opt/anaconda3/lib/python3.7/site-packages/seaborn/distributions.py:2551: FutureWarning: `distplot` is a deprecated function and will be removed in a future version. Please adapt your code to use either `displot` (a figure-level function with similar flexibility) or `histplot` (an axes-level function for histograms).\n",
      "  warnings.warn(msg, FutureWarning)\n"
     ]
    },
    {
     "data": {
      "text/plain": [
       "18.617987672939996"
      ]
     },
     "execution_count": 8,
     "metadata": {},
     "output_type": "execute_result"
    },
    {
     "data": {
      "image/png": "[encoded data removed]",
      "text/plain": [
       "<Figure size 432x288 with 1 Axes>"
      ]
     },
     "metadata": {
      "needs_background": "light"
     },
     "output_type": "display_data"
    }
   ],
   "source": [
    "import seaborn as sns\n",
    "\n",
    "sns.distplot(y, hist=True, kde=True, \n",
    "             bins=int(180/5), color = 'darkblue', \n",
    "             hist_kws={'edgecolor':'black'},\n",
    "             kde_kws={'linewidth': 4})\n",
    "y.std()"
   ]
  },
  {
   "cell_type": "code",
   "execution_count": 9,
   "metadata": {
    "scrolled": true
   },
   "outputs": [
    {
     "name": "stdout",
     "output_type": "stream",
     "text": [
      "number of parameters  8\n",
      "number of points  434873\n"
     ]
    }
   ],
   "source": [
    "lr = 1e-3 \n",
    "block_dim = 2\n",
    "loss_accepted = 1e-5\n",
    "max_iter = 5e1\n",
    "lambda_LASSO = 1e-2\n",
    "batch_size = 256\n",
    "\n",
    "n = np.shape(x_scaled_pca)[1]\n",
    "print(\"number of parameters \", n)\n",
    "print(\"number of points \", x_scaled_pca.shape[0])\n",
    "theta_0 = np.random.uniform(-1/n**0.5,1/n**0.5,n)\n",
    "# %run CaGD_ls.py"
   ]
  },
  {
   "cell_type": "code",
   "execution_count": 10,
   "metadata": {
    "scrolled": true
   },
   "outputs": [
    {
     "name": "stdout",
     "output_type": "stream",
     "text": [
      "iteration =  0  | loss =  853.1092227710537  | time =  0.0035205289999993283\n",
      "iteration =  1  | loss =  853.1083727335757  | time =  0.03141836700000056\n",
      "PID parallel:  25095  | process number  0\n",
      "iteration =  3  | loss =  844.9635439262295  | time =  0.16818691799999996\n",
      "PID parallel:  25097  | process number  0\n",
      "iteration =  5  | loss =  830.3185895092561  | time =  0.3118098919999994\n",
      "PID parallel:  25099  | process number  0\n",
      "iteration =  7  | loss =  813.0369239342241  | time =  0.44679444600000195\n",
      "PID parallel:  25101  | process number  0\n",
      "iteration =  9  | loss =  793.6278996981008  | time =  0.5804731020000027\n",
      "PID parallel:  25103  | process number  0\n",
      "iteration =  11  | loss =  771.2057934620594  | time =  0.7177369870000021\n",
      "PID parallel:  25105  | process number  0\n",
      "iteration =  13  | loss =  746.1033604136053  | time =  0.8548773840000017\n",
      "PID parallel:  25107  | process number  0\n",
      "iteration =  15  | loss =  720.0444651848696  | time =  0.9873381979999998\n",
      "PID parallel:  25109  | process number  0\n",
      "iteration =  17  | loss =  694.5428581117625  | time =  1.1228291289999994\n",
      "PID parallel:  25111  | process number  0\n",
      "iteration =  19  | loss =  669.6073206738864  | time =  1.2584035880000002\n",
      "PID parallel:  25113  | process number  0\n",
      "iteration =  21  | loss =  645.655801845753  | time =  1.3930552410000026\n",
      "PID parallel:  25116  | process number  0\n",
      "iteration =  23  | loss =  622.2650511978559  | time =  1.5331547930000013\n",
      "PID parallel:  25118  | process number  0\n",
      "iteration =  25  | loss =  599.6445205465568  | time =  1.669474385000001\n",
      "PID parallel:  25120  | process number  0\n",
      "iteration =  27  | loss =  578.2992605726907  | time =  1.8075412390000025\n",
      "PID parallel:  25122  | process number  0\n",
      "iteration =  29  | loss =  558.323167765819  | time =  1.9412319060000023\n",
      "PID parallel:  25124  | process number  0\n",
      "iteration =  31  | loss =  539.697190735636  | time =  2.075026619999999\n",
      "PID parallel:  25126  | process number  0\n",
      "iteration =  33  | loss =  522.3892851866675  | time =  2.216460453\n",
      "PID parallel:  25128  | process number  0\n",
      "iteration =  35  | loss =  506.49939368437595  | time =  2.3588957750000006\n",
      "PID parallel:  25130  | process number  0\n",
      "iteration =  37  | loss =  491.69139647349107  | time =  2.5013421470000026\n",
      "PID parallel:  25132  | process number  0\n",
      "iteration =  39  | loss =  477.9892887001974  | time =  2.6540821510000008\n",
      "PID parallel:  25134  | process number  0\n",
      "iteration =  41  | loss =  465.34776665955496  | time =  2.802403011999999\n",
      "PID parallel:  25136  | process number  0\n",
      "iteration =  43  | loss =  453.7777190235492  | time =  2.94275897\n",
      "PID parallel:  25138  | process number  0\n",
      "iteration =  45  | loss =  443.2099011019165  | time =  3.083053715000002\n",
      "PID parallel:  25140  | process number  0\n",
      "iteration =  47  | loss =  433.568369843032  | time =  3.221035360000002\n",
      "PID parallel:  25142  | process number  0\n",
      "iteration =  49  | loss =  424.77589232443586  | time =  3.3606072670000025\n",
      "PID parallel:  25144  | process number  0\n",
      "iteration =  50  | loss =  416.75664631508283  | time =  3.4591783150000026\n"
     ]
    }
   ],
   "source": [
    "loss_momBCD_GS,iteration_momBCD_GS,theta_momBCD_GS,t_momBCD_GS = CaGD_ls.mom_BCD_GS_ls(\n",
    "                            x_scaled_pca,y,theta_0,lambda_LASSO,lr,loss_accepted,max_iter,2,0.75)"
   ]
  },
  {
   "cell_type": "code",
   "execution_count": 11,
   "metadata": {
    "scrolled": true
   },
   "outputs": [
    {
     "name": "stdout",
     "output_type": "stream",
     "text": [
      "iteration =  0  | loss =  853.1092227710537  | time =  0.0028406160000002956\n",
      "iteration =  0  | loss =  853.1092227710537  | time =  0.0032725609999992855\n",
      "PID parallel:  PID parallel: 25146  25147 | process number  PID parallel:   | process number  0 \n",
      "25148PID parallel: 1   | process number 25149\n",
      "  2 | process number PID parallel: \n",
      "  3PID parallel: 25150\n",
      "   | process number 25151  4\n",
      " | process number  5\n",
      "iteration =  6  | loss =  850.1818013687523  | time =  0.16516468600000067\n",
      "PID parallel:  25153PID parallel:   25154 | process number  PID parallel:   | process number  0 \n",
      "251551 \n",
      "PID parallel:  | process number PID parallel:    PID parallel: 225156 25157\n",
      "25158    | process number  | process number  | process number    435\n",
      "\n",
      "\n",
      "iteration =  12  | loss =  844.9195441940143  | time =  0.34232477000000117\n",
      "PID parallel:  25160PID parallel:    | process number  PID parallel: 251610  \n",
      "25162 | process number  PID parallel:  1  | process number \n",
      "PID parallel:  251632  \n",
      " | process number 25164   | process number 3PID parallel:  \n",
      " 425165 \n",
      " | process number  5\n",
      "iteration =  18  | loss =  843.3813180034499  | time =  0.5159158959999992\n",
      "PID parallel:  PID parallel: 25167   | process number PID parallel: 25168   251690 | process number   \n",
      "1 | process number  PID parallel: \n",
      "PID parallel: 2 \n",
      " 2517125170   | process number   | process number PID parallel: 4  \n",
      "325172\n",
      "  | process number  5\n",
      "iteration =  24  | loss =  836.9307934422088  | time =  0.6975867390000019\n",
      "PID parallel:  PID parallel:  25174 25175  | process number PID parallel:  | process number    0125176\n",
      "PID parallel:  \n",
      "  | process number PID parallel: 25177   225178 | process number PID parallel:  \n",
      "   | process number 325179 \n",
      " 4 | process number \n",
      " 5\n",
      "iteration =  30  | loss =  830.1212492482435  | time =  0.8761070890000013\n",
      "PID parallel:  25181 PID parallel:   | process number PID parallel: 25182   PID parallel: 025183 | process number \n",
      "   | process number  25184PID parallel:  1  2 | process number 25185\n",
      "PID parallel: \n",
      "    | process number 325186 \n",
      " 4 | process number \n",
      " 5\n",
      "iteration =  36  | loss =  829.9614810532552  | time =  1.0494577780000007\n",
      "PID parallel:  PID parallel: 25188  25189 | process number    | process number 0 PID parallel: \n",
      "PID parallel: 1  \n",
      "2519025191  | process number  PID parallel:   | process number  2 PID parallel: \n",
      "25192 3 \n",
      "25193 | process number    | process number 4 \n",
      "5\n",
      "iteration =  42  | loss =  829.3575893766955  | time =  1.2278641199999996\n",
      "PID parallel:  PID parallel: 25195  25196 | process number PID parallel:    0 | process number 25197 \n",
      " 1 | process number PID parallel: \n",
      "  25198PID parallel: 2\n",
      "   | process number 25199  PID parallel: 3 | process number  \n",
      " 252004 \n",
      " | process number  5\n",
      "iteration =  48  | loss =  829.3253195685095  | time =  1.4103469010000005\n",
      "PID parallel:  25202 PID parallel:  | process number   PID parallel: 252030  \n",
      "25204  | process number PID parallel:   | process number  1 25205\n",
      "2PID parallel:  \n",
      "  | process number 25206  3PID parallel: \n",
      " | process number   252074 \n",
      " | process number  5\n",
      "iteration =  54  | loss =  821.8137679118067  | time =  1.5865409140000004\n"
     ]
    }
   ],
   "source": [
    "loss_randomBCD_GS,iteration_randomBCD_GS,theta_randomBCD_GS,t_randomBCD_GS = CaGD_ls.mom_BCD_random_ls(\n",
    "                            x_scaled_pca,y,theta_0,lambda_LASSO,lr,loss_accepted,max_iter,2,0.75)"
   ]
  },
  {
   "cell_type": "code",
   "execution_count": 12,
   "metadata": {
    "scrolled": true
   },
   "outputs": [
    {
     "name": "stdout",
     "output_type": "stream",
     "text": [
      "iteration =  0  | loss =  853.1092227710537  | time =  0.003557361999998676\n",
      "iteration =  1  | loss =  853.1083727335757  | time =  0.03845445199999986\n",
      "PID parallel:  25209  | process number  0\n",
      "iteration =  3  | loss =  847.4236354571611  | time =  0.17308872299999933\n",
      "PID parallel:  25211  | process number  0\n",
      "iteration =  5  | loss =  842.2947198702328  | time =  0.3133940009999989\n",
      "PID parallel:  25213  | process number  0\n",
      "iteration =  7  | loss =  837.5576654333782  | time =  0.4460772069999983\n",
      "PID parallel:  25215  | process number  0\n",
      "iteration =  9  | loss =  833.0970695393108  | time =  0.5809440369999983\n",
      "PID parallel:  25217  | process number  0\n",
      "iteration =  11  | loss =  828.8355002676815  | time =  0.717728564999998\n",
      "PID parallel:  25219  | process number  0\n",
      "iteration =  13  | loss =  824.719892628876  | time =  0.8557261909999987\n",
      "PID parallel:  25221  | process number  0\n",
      "iteration =  15  | loss =  820.713854823568  | time =  0.9888435579999992\n",
      "PID parallel:  25223  | process number  0\n",
      "iteration =  17  | loss =  816.792404024848  | time =  1.1266050109999988\n",
      "PID parallel:  25225  | process number  0\n",
      "iteration =  19  | loss =  812.9383644869318  | time =  1.2661741679999992\n",
      "PID parallel:  25227  | process number  0\n",
      "iteration =  21  | loss =  809.1399030500249  | time =  1.403793008000001\n",
      "PID parallel:  25229  | process number  0\n",
      "iteration =  23  | loss =  805.388842873738  | time =  1.5414220870000008\n",
      "PID parallel:  25231  | process number  0\n",
      "iteration =  25  | loss =  801.6745160486926  | time =  1.679689862\n",
      "PID parallel:  25233  | process number  0\n",
      "iteration =  27  | loss =  797.9924160020056  | time =  1.8165792699999983\n",
      "PID parallel:  25235  | process number  0\n",
      "iteration =  29  | loss =  794.3418740554687  | time =  1.9623364199999997\n",
      "PID parallel:  25237  | process number  0\n",
      "iteration =  31  | loss =  790.7222959306146  | time =  2.105611563\n",
      "PID parallel:  25239  | process number  0\n",
      "iteration =  33  | loss =  787.1331492933036  | time =  2.2498787219999983\n",
      "PID parallel:  25241  | process number  0\n",
      "iteration =  35  | loss =  783.5739534451059  | time =  2.3980291839999985\n",
      "PID parallel:  25243  | process number  0\n",
      "iteration =  37  | loss =  780.04427079061  | time =  2.545209945\n",
      "PID parallel:  25245  | process number  0\n",
      "iteration =  39  | loss =  776.5436997738508  | time =  2.6961026439999998\n",
      "PID parallel:  25247  | process number  0\n",
      "iteration =  41  | loss =  773.071869030097  | time =  2.8456441079999983\n",
      "PID parallel:  25249  | process number  0\n",
      "iteration =  43  | loss =  769.6284325430693  | time =  2.984682997\n",
      "PID parallel:  25251  | process number  0\n",
      "iteration =  45  | loss =  766.2130656339525  | time =  3.1250468409999996\n",
      "PID parallel:  25253  | process number  0\n",
      "iteration =  47  | loss =  762.8254616385586  | time =  3.2643318830000005\n",
      "PID parallel:  25255  | process number  0\n",
      "iteration =  49  | loss =  759.4653291538287  | time =  3.4063713789999994\n",
      "PID parallel:  25257  | process number  0\n",
      "iteration =  50  | loss =  756.1320696480243  | time =  3.5016286080000008\n"
     ]
    }
   ],
   "source": [
    "loss_BCD_GS,iteration_BCD_GS,theta_BCD_GS,t_BCD_GS = CaGD_ls.BCD_GS_ls(\n",
    "                            x_scaled_pca,y,theta_0,lambda_LASSO,lr,loss_accepted,max_iter,2,0.75)"
   ]
  },
  {
   "cell_type": "code",
   "execution_count": 13,
   "metadata": {
    "scrolled": true
   },
   "outputs": [
    {
     "name": "stdout",
     "output_type": "stream",
     "text": [
      "iteration =  0  | loss =  853.1092227710537  | time =  0.0028983840000016414\n",
      "iteration =  2  | loss =  850.1612753161202  | time =  0.0886237850000029\n",
      "PID parallel:  25259  | process number  0  | iterations CA =  5\n",
      "iteration =  4  | loss =  799.8063749454955  | time =  0.29154420900000133\n",
      "PID parallel:  25261  | process number  0  | iterations CA =  100\n",
      "iteration =  6  | loss =  351.5722448964641  | time =  0.5252528760000033\n",
      "PID parallel:  25263  | process number  0  | iterations CA =  8\n",
      "PID parallel:  25264  | process number  1  | iterations CA =  34\n",
      "iteration =  8  | loss =  347.3739084617532  | time =  0.7919458160000019\n",
      "PID parallel:  25266  | process number  0  | iterations CA =  100\n",
      "iteration =  10  | loss =  342.3920243701274  | time =  1.0322171600000019\n",
      "PID parallel:  25268  | process number  0PID parallel:    | iterations CA =  25269 14 | process number \n",
      " 1  | iterations CA =  22\n",
      "iteration =  12  | loss =  341.07555398054757  | time =  1.2951924430000012\n",
      "PID parallel:  25271PID parallel:   | process number   252720   | process number  | iterations CA =   157 \n",
      " | iterations CA =  1\n",
      "iteration =  14  | loss =  338.70999989445016  | time =  1.591382793000001\n",
      "PID parallel:  25274  | process number  0  | iterations CA =  100\n",
      "iteration =  16  | loss =  337.92573866573247  | time =  1.8432805730000048\n",
      "PID parallel:  25276  | process number  0  | iterations CA =  10\n",
      "iteration =  18  | loss =  337.7459300244926  | time =  2.0888841460000016\n",
      "PID parallel:  25278  | process number  0  | iterations CA =  2PID parallel:  \n",
      "25279  | process number  1  | iterations CA =  4\n",
      "iteration =  20  | loss =  337.7306367394668  | time =  2.387856203000002\n",
      "PID parallel:  25281  | process number  0 PID parallel:  | iterations CA =   2025282 \n",
      " | process number  1  | iterations CA =  70\n",
      "iteration =  22  | loss =  337.7284209060499  | time =  2.6611524450000026\n",
      "PID parallel:  25284  | process number  0  | iterations CA =  1\n",
      "iteration =  24  | loss =  337.7232052128657  | time =  2.892252489000004\n",
      "PID parallel:  25286  | process number  0  | iterations CA =  2\n",
      "iteration =  26  | loss =  337.7127796173009  | time =  3.133370021000001\n",
      "PID parallel:  25288  | process number  0  | iterations CA =  1\n",
      "PID parallel:  25289  | process number  1  | iterations CA =  9\n",
      "iteration =  28  | loss =  337.71286951917455  | time =  3.3978879490000047\n",
      "PID parallel:  25292  | process number  0  | iterations CA =  1\n",
      "iteration =  30  | loss =  337.7145226178564  | time =  3.649506413000001\n",
      "PID parallel:  25294  | process number  0  | iterations CA =  1\n",
      "iteration =  32  | loss =  337.71455437781236  | time =  3.8857256990000018\n",
      "PID parallel:  25296  | process number  0  | iterations CA =  56\n",
      "iteration =  34  | loss =  338.25641655625  | time =  4.126586185000004\n",
      "PID parallel:  25298  | process number  0  | iterations CA =  11\n",
      "iteration =  36  | loss =  337.7316560774134  | time =  4.362534769000003\n",
      "PID parallel:  25300  | process number  0  | iterations CA =  1\n",
      "iteration =  38  | loss =  337.7153501672842  | time =  4.601456131999999\n",
      "PID parallel:  25302  | process number  0  | iterations CA =  1\n",
      "iteration =  40  | loss =  337.7101666914723  | time =  4.837739213999999\n",
      "PID parallel:  25304  | process number  0  | iterations CA =  1\n",
      "iteration =  42  | loss =  337.7111497661879  | time =  5.0687374990000045\n",
      "PID parallel:  25306  | process number  0  | iterations CA =  1\n",
      "iteration =  44  | loss =  337.71304516335357  | time =  5.3019894850000036\n",
      "PID parallel:  25308  | process number  0  | iterations CA =  16\n",
      "iteration =  46  | loss =  337.7061428276518  | time =  5.540738175000005\n",
      "PID parallel:  25310  | process number  0  | iterations CA =  1\n",
      "iteration =  48  | loss =  337.70583959993417  | time =  5.774790302000003\n",
      "PID parallel:  25312  | process number  0  | iterations CA =  1\n",
      "iteration =  50  | loss =  337.7064356351615  | time =  6.009480315000001\n",
      "PID parallel:  25314  | process number  0  | iterations CA =  1\n",
      "iteration =  50  | loss =  337.7064356351615  | time =  6.124935838999999\n"
     ]
    }
   ],
   "source": [
    "loss_momCA_GS,iteration_momCA_GS,theta_momCA_GS,t_momCA_GS = CaGD_ls.mom_CA_BCD_GS_ls(\n",
    "                            x_scaled_pca,y,theta_0,lambda_LASSO,lr,loss_accepted,max_iter,2,0.75)"
   ]
  },
  {
   "cell_type": "code",
   "execution_count": 14,
   "metadata": {
    "scrolled": true
   },
   "outputs": [
    {
     "name": "stdout",
     "output_type": "stream",
     "text": [
      "iteration =  0  | loss =  853.1092227710537  | time =  0.0019958519999931923\n",
      "iteration =  2  | loss =  850.183887169724  | time =  0.053181622999993294\n",
      "PID parallel:  25316  | process number PID parallel:   025317   | process number  | iterations CA =   12 \n",
      " | iterations CA =  100\n",
      "iteration =  4  | loss =  353.430728793059  | time =  0.272419210999999\n",
      "PID parallel:  25319 PID parallel:  | process number   253200   | process number  | iterations CA =   16 \n",
      " | iterations CA =  13\n",
      "iteration =  6  | loss =  351.16011530819156  | time =  0.47068282199999345\n",
      "PID parallel:  25323  | process number  1  | iterations CA = PID parallel:  1 \n",
      "25322  | process number  0  | iterations CA =  4\n",
      "iteration =  8  | loss =  350.9071208864931  | time =  0.6712378389999998\n",
      "PID parallel:  25326PID parallel:    | process number  25325 1 | process number   | iterations CA =   01 \n",
      " | iterations CA =  18\n",
      "iteration =  10  | loss =  349.07018574286235  | time =  0.8769091419999953\n",
      "PID parallel: PID parallel:   2532925328   | process number  | process number   10   | iterations CA =  | iterations CA =   331\n",
      "\n",
      "iteration =  12  | loss =  348.7666150518356  | time =  1.0651523129999987\n",
      "PID parallel:  25331PID parallel:   25332 | process number    | process number 0  1 | iterations CA =    | iterations CA = 22\n",
      " 56\n",
      "iteration =  14  | loss =  343.2596475704329  | time =  1.2552317009999996\n",
      "PID parallel:  25334  | process number  PID parallel: 0  25335 | iterations CA =    | process number  100\n",
      "1  | iterations CA =  2\n",
      "iteration =  16  | loss =  339.0560259518422  | time =  1.4550537269999992\n",
      "PID parallel: PID parallel:   2533925338   | process number  | process number   01   | iterations CA =  | iterations CA =   19\n",
      "\n",
      "iteration =  18  | loss =  339.04250824840506  | time =  1.654600718999994\n",
      "PID parallel:  25341PID parallel:    | process number 25342  0 | process number    | iterations CA = 1  87 | iterations CA = \n",
      " 34\n",
      "iteration =  20  | loss =  338.6397580575375  | time =  1.8515768089999938\n",
      "PID parallel: PID parallel:   2534425345   | process number  | process number   10   | iterations CA =  | iterations CA =   1008\n",
      "\n",
      "iteration =  22  | loss =  338.92665147235095  | time =  2.0573527409999954\n",
      "PID parallel:  25347  | process number  0PID parallel:    | iterations CA = 25348  1 | process number \n",
      " 1  | iterations CA =  12\n",
      "iteration =  24  | loss =  341.5626996521228  | time =  2.273922032999998\n",
      "PID parallel:  PID parallel: 25351   | process number 25350  1 | process number    | iterations CA = 0  5 | iterations CA = \n",
      " 1\n",
      "iteration =  26  | loss =  338.1829464348178  | time =  2.482180758999995\n",
      "PID parallel:  25353PID parallel:    | process number 25354  0 | process number    | iterations CA =  11  | iterations CA = \n",
      " 34\n",
      "iteration =  28  | loss =  338.1943118102775  | time =  2.6716698759999957\n",
      "PID parallel:  25356  | process number  PID parallel: 0  25357 | iterations CA =    | process number 1 \n",
      "1  | iterations CA =  6\n",
      "iteration =  30  | loss =  338.16077977288194  | time =  2.8960453919999978\n",
      "PID parallel:  PID parallel: 25360 25359   | process number  | process number   10   | iterations CA =  | iterations CA =   100\n",
      "69\n",
      "iteration =  32  | loss =  338.43895699855716  | time =  3.1142649779999942\n",
      "PID parallel:  25362  | process number  0 PID parallel:  | iterations CA =   325363\n",
      "  | process number  1  | iterations CA =  1\n",
      "iteration =  34  | loss =  338.24214589943995  | time =  3.331202825999995\n",
      "PID parallel: PID parallel:   2536625365   | process number   | process number 1  0  | iterations CA =  | iterations CA =  11 \n",
      "1\n",
      "iteration =  36  | loss =  338.22920396172185  | time =  3.5321164339999953\n",
      "PID parallel:  25368  | process number  0  | iterations CA = PID parallel:  1 \n",
      "25369  | process number  1  | iterations CA =  100\n",
      "iteration =  38  | loss =  338.2261488873453  | time =  3.7536704989999947\n",
      "PID parallel:  25371 PID parallel:  | process number   25372 0 | process number   | iterations CA =  1  1 | iterations CA = \n",
      " 6\n",
      "iteration =  40  | loss =  338.22232729572  | time =  3.982478559999997\n",
      "PID parallel:  25375  | process number PID parallel:  1 25374  | iterations CA =   | process number  30 \n",
      "0  | iterations CA =  100\n",
      "iteration =  42  | loss =  338.2307517553901  | time =  4.205275721\n",
      "PID parallel:  25377PID parallel:    | process number 25378  0  | process number   | iterations CA = 1  1\n",
      " | iterations CA =  20\n",
      "iteration =  44  | loss =  338.0051212029384  | time =  4.4225951279999975\n",
      "PID parallel: PID parallel:   2538025381   | process number  | process number   01   | iterations CA =  | iterations CA =   11\n",
      "\n",
      "iteration =  46  | loss =  337.80290852978965  | time =  4.6275510579999946\n",
      "PID parallel: PID parallel:   2538325384   | process number  | process number   10   | iterations CA =  | iterations CA =   11\n",
      "\n",
      "iteration =  48  | loss =  337.8029444384178  | time =  4.833318667999997\n",
      "PID parallel:  25387  | process number  PID parallel: 1 25386   | iterations CA =  | process number   10\n",
      "  | iterations CA =  1\n",
      "iteration =  50  | loss =  337.80327892959735  | time =  5.059230475999996\n",
      "PID parallel:  PID parallel:  25390 25389  | process number  | process number   10  | iterations CA =   | iterations CA =   1\n",
      "100\n",
      "iteration =  50  | loss =  337.80246966454865  | time =  5.203721599999994\n"
     ]
    }
   ],
   "source": [
    "loss_momCA_random,iteration_momCA_random,theta_momCA_random,t_momCA_random = CaGD_ls.mom_CA_BCD_random_ls(\n",
    "                            x_scaled_pca,y,theta_0,lambda_LASSO,lr,loss_accepted,max_iter,2,0.5)"
   ]
  },
  {
   "cell_type": "code",
   "execution_count": 15,
   "metadata": {
    "scrolled": true
   },
   "outputs": [
    {
     "name": "stdout",
     "output_type": "stream",
     "text": [
      "iteration =  0  | loss =  853.1092227710537  | time =  0.003258563999999353\n",
      "iteration =  2  | loss =  850.1612753161202  | time =  0.07316244799999794\n",
      "PID parallel:  25392  | process number  0  | iterations CA =  100\n",
      "iteration =  4  | loss =  680.4726726897544  | time =  0.27718885999999543\n",
      "PID parallel:  25394  | process number  0  | iterations CA =  100\n",
      "iteration =  6  | loss =  569.4172340531  | time =  0.48874642099999477\n",
      "PID parallel:  25396  | process number  0  | iterations CA =  100\n",
      "iteration =  8  | loss =  494.4489124664711  | time =  0.7052925630000004\n",
      "PID parallel:  25398  | process number  0  | iterations CA =  100\n",
      "iteration =  10  | loss =  443.7203450363104  | time =  0.942503189\n",
      "PID parallel:  25400  | process number  0  | iterations CA =  100\n",
      "iteration =  12  | loss =  410.0987436365318  | time =  1.1677016599999988\n",
      "PID parallel:  25402  | process number  0  | iterations CA =  100\n",
      "iteration =  14  | loss =  386.8294254502509  | time =  1.385487206999997\n",
      "PID parallel:  25404  | process number  0  | iterations CA =  100\n",
      "iteration =  16  | loss =  371.1937685535378  | time =  1.6072111239999956\n",
      "PID parallel:  25406  | process number  0  | iterations CA =  100\n",
      "iteration =  18  | loss =  360.92553607936014  | time =  1.8432712689999988\n",
      "PID parallel:  25408  | process number  0  | iterations CA =  100\n",
      "iteration =  20  | loss =  353.9689196299125  | time =  2.0693775809999977\n",
      "PID parallel:  25410  | process number  0  | iterations CA =  100\n",
      "iteration =  22  | loss =  349.2267780045749  | time =  2.294626205\n",
      "PID parallel:  25412  | process number  PID parallel:  0 25413 | iterations CA =    | process number 100 1\n",
      "  | iterations CA =  13\n",
      "iteration =  24  | loss =  345.93052044003684  | time =  2.5342354900000004\n",
      "PID parallel:  25415  | process number  0  | iterations CA =  100\n",
      "iteration =  26  | loss =  343.69530295405207  | time =  2.7535002599999956\n",
      "PID parallel:  25417  | process number  0  | iterations CA =  100\n",
      "iteration =  28  | loss =  342.1492573356213  | time =  2.981384155999997\n",
      "PID parallel:  25419  | process number  0  | iterations CA =  100\n",
      "iteration =  30  | loss =  341.14305078281143  | time =  3.2191637219999976\n",
      "PID parallel:  25421  | process number  0  | iterations CA =  100\n",
      "iteration =  32  | loss =  340.3499751060144  | time =  3.4551344939999993\n",
      "PID parallel:  25423  | process number  0  | iterations CA =  100\n",
      "iteration =  34  | loss =  339.7802772436328  | time =  3.695582844999997\n",
      "PID parallel:  25425  | process number  0  | iterations CA =  100\n",
      "iteration =  36  | loss =  339.3376384694763  | time =  3.9272938899999943\n",
      "PID parallel:  25427  | process number  0  | iterations CA =  100\n",
      "iteration =  38  | loss =  339.01666859997437  | time =  4.158101236999997\n",
      "PID parallel:  25429  | process number  0  | iterations CA = PID parallel:   25430100\n",
      "  | process number  1  | iterations CA =  100\n",
      "iteration =  40  | loss =  338.6894370766927  | time =  4.442852953999996\n",
      "PID parallel:  25432  | process number  0  | iterations CA =  100\n",
      "iteration =  42  | loss =  338.5054349326731  | time =  4.663611951999997\n",
      "PID parallel:  25434  | process number  0  | iterations CA =  100\n",
      "iteration =  44  | loss =  338.3634055030531  | time =  4.8962651149999985\n",
      "PID parallel:  25436  | process number  0  | iterations CA =  100\n",
      "iteration =  46  | loss =  338.2509626816333  | time =  5.109281222999996\n",
      "PID parallel:  25438  | process number  0PID parallel:    | iterations CA = 25439   | process number 100 \n",
      "1  | iterations CA =  100\n",
      "iteration =  48  | loss =  338.119386076611  | time =  5.365732760999997\n",
      "PID parallel:  25441  | process number  0  | iterations CA =  100\n",
      "iteration =  50  | loss =  338.04171209559024  | time =  5.588945828\n",
      "PID parallel:  25443  | process number  0  | iterations CA =  100\n",
      "iteration =  50  | loss =  337.98161851268196  | time =  5.712951087999997\n"
     ]
    }
   ],
   "source": [
    "loss_CABCD_stand_GS,iteration_CABCD_stand_GS,theta_CABCD_stand_GS,t_CABCD_stand_GS = CaGD_ls.CA_BCD_GS_ls(\n",
    "                             x_scaled_pca,y,theta_0,lambda_LASSO,lr,loss_accepted,max_iter,2,0.75)"
   ]
  },
  {
   "cell_type": "code",
   "execution_count": 16,
   "metadata": {
    "scrolled": true
   },
   "outputs": [
    {
     "name": "stdout",
     "output_type": "stream",
     "text": [
      "iteration =  0  | loss =  853.1092227710537  | time =  0.003668968999996025\n",
      "iteration =  1  | loss =  788.0176325126484  | time =  0.12245295999999684\n",
      "iteration =  2  | loss =  725.8891162108099  | time =  0.217561357000001\n",
      "iteration =  3  | loss =  668.1312171259659  | time =  0.31472800299999903\n",
      "iteration =  4  | loss =  615.9362415024679  | time =  0.41274808600000057\n",
      "iteration =  5  | loss =  569.2800259630784  | time =  0.5083687559999959\n",
      "iteration =  6  | loss =  528.3936356546517  | time =  0.6018599450000011\n",
      "iteration =  7  | loss =  493.3455387917007  | time =  0.6950212300000018\n",
      "iteration =  8  | loss =  464.75959474049654  | time =  0.7970755199999999\n",
      "iteration =  9  | loss =  442.5909625711744  | time =  0.8911477959999985\n",
      "iteration =  10  | loss =  428.2795719652026  | time =  0.9869378009999963\n",
      "iteration =  11  | loss =  421.5974046650451  | time =  1.097564693999999\n",
      "iteration =  12  | loss =  419.86021521338523  | time =  1.1970155399999953\n",
      "iteration =  13  | loss =  419.2147921852793  | time =  1.2948957149999956\n",
      "iteration =  14  | loss =  418.7070668120264  | time =  1.3897849499999992\n",
      "iteration =  15  | loss =  418.707277292876  | time =  1.4852953449999973\n",
      "iteration =  16  | loss =  418.7119644526376  | time =  1.5800610359999965\n",
      "iteration =  17  | loss =  418.6903276307965  | time =  1.6799286739999957\n",
      "iteration =  18  | loss =  418.9579996045364  | time =  1.7747530389999966\n",
      "iteration =  19  | loss =  418.88855846118923  | time =  1.8703881399999958\n",
      "iteration =  20  | loss =  419.0516960963491  | time =  1.9723409610000004\n",
      "iteration =  21  | loss =  418.48459333954264  | time =  2.070525328000002\n",
      "iteration =  22  | loss =  418.88355922333744  | time =  2.1626316030000012\n",
      "iteration =  23  | loss =  418.77281104723977  | time =  2.2589880539999996\n",
      "iteration =  24  | loss =  418.9088364412856  | time =  2.351247309999998\n",
      "iteration =  25  | loss =  419.079200933303  | time =  2.450131829\n",
      "iteration =  26  | loss =  418.8626417464516  | time =  2.5460068860000007\n",
      "iteration =  27  | loss =  418.9987035971002  | time =  2.641124472999998\n",
      "iteration =  28  | loss =  419.1535266843588  | time =  2.740639354999999\n",
      "iteration =  29  | loss =  419.1339832807977  | time =  2.834396360999996\n",
      "iteration =  30  | loss =  418.94559222133614  | time =  2.931130969999998\n",
      "iteration =  31  | loss =  419.04077551053615  | time =  3.0393691840000017\n",
      "iteration =  32  | loss =  419.01526085204824  | time =  3.1419707549999956\n",
      "iteration =  33  | loss =  418.8219317469189  | time =  3.2402805619999953\n",
      "iteration =  34  | loss =  418.8970696663045  | time =  3.346416908000002\n",
      "iteration =  35  | loss =  418.9205335464031  | time =  3.453901355999996\n",
      "iteration =  36  | loss =  419.0779041494408  | time =  3.5620057450000004\n",
      "iteration =  37  | loss =  418.7148439865948  | time =  3.6697327589999986\n",
      "iteration =  38  | loss =  418.86305934838003  | time =  3.7758257340000014\n",
      "iteration =  39  | loss =  418.8994900445546  | time =  3.880313119\n",
      "iteration =  40  | loss =  418.84412983760416  | time =  3.977097657999998\n",
      "iteration =  41  | loss =  418.9362193361661  | time =  4.079114622999995\n",
      "iteration =  42  | loss =  418.95665568686644  | time =  4.175991331999995\n",
      "iteration =  43  | loss =  419.2196393703491  | time =  4.2761574740000015\n",
      "iteration =  44  | loss =  418.9399631777552  | time =  4.371981790999996\n",
      "iteration =  45  | loss =  419.21496136996063  | time =  4.470335687999999\n",
      "iteration =  46  | loss =  418.7923510097078  | time =  4.573519941999997\n",
      "iteration =  47  | loss =  418.9179147726375  | time =  4.678581256999998\n",
      "iteration =  48  | loss =  419.0016935285957  | time =  4.777133741\n",
      "iteration =  49  | loss =  418.9636927176721  | time =  4.871191590999999\n",
      "iteration =  50  | loss =  419.0723909472335  | time =  4.970473833999996\n",
      "iteration =  51  | loss =  419.092185410194  | time =  5.070305912000002\n"
     ]
    }
   ],
   "source": [
    "loss_ADAM,iteration_ADAM,theta_ADAM,t_ADAM = CaGD_ls.ADAM_ls(x_scaled_pca,y,theta_0,lambda_LASSO,batch_size,lr,loss_accepted,max_iter)"
   ]
  },
  {
   "cell_type": "code",
   "execution_count": 17,
   "metadata": {
    "scrolled": true
   },
   "outputs": [
    {
     "name": "stdout",
     "output_type": "stream",
     "text": [
      "iteration =  0  | loss =  853.1092227710537  | time =  0.010357220999999583\n",
      "iteration =  1  | loss =  848.2013385009049  | time =  0.16770287199999956\n",
      "iteration =  2  | loss =  843.6721950433302  | time =  0.3590742700000007\n",
      "iteration =  3  | loss =  839.4914651349926  | time =  0.554534314999998\n",
      "iteration =  4  | loss =  835.5613717919045  | time =  0.7489140010000028\n",
      "iteration =  5  | loss =  831.7959998184899  | time =  0.942462919999997\n",
      "iteration =  6  | loss =  828.1759581842297  | time =  1.1370501500000003\n",
      "iteration =  7  | loss =  824.6666217393077  | time =  1.331366226\n",
      "iteration =  8  | loss =  821.2331493710475  | time =  1.525109483999998\n",
      "iteration =  9  | loss =  817.8653916006805  | time =  1.7198920209999997\n",
      "iteration =  10  | loss =  814.5478036855125  | time =  1.9133603719999996\n",
      "iteration =  11  | loss =  811.273455092701  | time =  2.108732531000001\n",
      "iteration =  12  | loss =  808.0370866937076  | time =  2.315745880999998\n",
      "iteration =  13  | loss =  804.8344844068836  | time =  2.513091940999999\n",
      "iteration =  14  | loss =  801.6614145017397  | time =  2.731581048999999\n",
      "iteration =  15  | loss =  798.516121833465  | time =  2.942505027000003\n",
      "iteration =  16  | loss =  795.3969286005753  | time =  3.148919059999997\n",
      "iteration =  17  | loss =  792.3025059776979  | time =  3.3645598009999986\n",
      "iteration =  18  | loss =  789.2317673570943  | time =  3.562812637999997\n",
      "iteration =  19  | loss =  786.183701861481  | time =  3.7555434289999994\n",
      "iteration =  20  | loss =  783.1586102951449  | time =  3.9525936519999973\n",
      "iteration =  21  | loss =  780.1551086928328  | time =  4.159171675000003\n",
      "iteration =  22  | loss =  777.1732563028893  | time =  4.361586743000004\n",
      "iteration =  23  | loss =  774.2126227292787  | time =  4.554574467000002\n",
      "iteration =  24  | loss =  771.2728787229432  | time =  4.750192634000001\n",
      "iteration =  25  | loss =  768.3537813770316  | time =  4.94013563\n",
      "iteration =  26  | loss =  765.4550820814612  | time =  5.150662314999998\n",
      "iteration =  27  | loss =  762.5764353416811  | time =  5.338899337000001\n",
      "iteration =  28  | loss =  759.7180028508349  | time =  5.533386518\n",
      "iteration =  29  | loss =  756.8794082360868  | time =  5.732071781000002\n",
      "iteration =  30  | loss =  754.0604116559592  | time =  5.930623222999998\n",
      "iteration =  31  | loss =  751.2609448374174  | time =  6.128517498000001\n",
      "iteration =  32  | loss =  748.4807397752371  | time =  6.336315912000003\n",
      "iteration =  33  | loss =  745.7197661221506  | time =  6.5307284180000025\n",
      "iteration =  34  | loss =  742.9778629986973  | time =  6.738798572999997\n",
      "iteration =  35  | loss =  740.2548097408103  | time =  6.931340384999999\n",
      "iteration =  36  | loss =  737.5504354920818  | time =  7.129021199999997\n",
      "iteration =  37  | loss =  734.8647988437106  | time =  7.3389558029999975\n",
      "iteration =  38  | loss =  732.1977068212096  | time =  7.5352425620000005\n",
      "iteration =  39  | loss =  729.5489098059057  | time =  7.731188592000002\n",
      "iteration =  40  | loss =  726.9182662145579  | time =  7.923818075\n",
      "iteration =  41  | loss =  724.3055703104321  | time =  8.120552682000003\n",
      "iteration =  42  | loss =  721.7108178649587  | time =  8.312307031000003\n",
      "iteration =  43  | loss =  719.133784825312  | time =  8.511517036\n",
      "iteration =  44  | loss =  716.5743400882197  | time =  8.713599078000001\n",
      "iteration =  45  | loss =  714.0323491891855  | time =  8.913870735000003\n",
      "iteration =  46  | loss =  711.5077507104266  | time =  9.113549372999998\n",
      "iteration =  47  | loss =  709.0003522591206  | time =  9.306845381999999\n",
      "iteration =  48  | loss =  706.5100460277032  | time =  9.498899051000002\n",
      "iteration =  49  | loss =  704.0366896738396  | time =  9.696800359999997\n",
      "iteration =  50  | loss =  701.5802043788843  | time =  9.894143885000005\n",
      "iteration =  51  | loss =  699.1404544717956  | time =  10.091518962999999\n"
     ]
    }
   ],
   "source": [
    "lr = 1e-6\n",
    "loss_SAG,iteration_SAG,theta_SAG,t_SAG = CaGD_ls.SAG_ls(x_scaled_pca,y,theta_0,lambda_LASSO,batch_size,lr,loss_accepted,max_iter)"
   ]
  },
  {
   "cell_type": "code",
   "execution_count": 18,
   "metadata": {},
   "outputs": [
    {
     "name": "stdout",
     "output_type": "stream",
     "text": [
      "loss min mom GS CA =  337.70583959993417\n",
      "loss min mom random CA =  337.80246966454865\n",
      "loss min standard GS CA =  337.98161851268196\n",
      "loss min ADAM =  418.48459333954264\n",
      "loss min SAG =  699.1404544717956\n"
     ]
    }
   ],
   "source": [
    "print(\"loss min mom GS CA = \", min(loss_momCA_GS))\n",
    "print(\"loss min mom random CA = \", min(loss_momCA_random))\n",
    "print(\"loss min standard GS CA = \", min(loss_CABCD_stand_GS))\n",
    "print(\"loss min ADAM = \", min(loss_ADAM))\n",
    "print(\"loss min SAG = \", min(loss_SAG))"
   ]
  },
  {
   "cell_type": "code",
   "execution_count": 19,
   "metadata": {},
   "outputs": [
    {
     "data": {
      "image/png": "[encoded data removed]",
      "text/plain": [
       "<Figure size 432x288 with 1 Axes>"
      ]
     },
     "metadata": {
      "needs_background": "light"
     },
     "output_type": "display_data"
    },
    {
     "data": {
      "image/png": "[encoded data removed]",
      "text/plain": [
       "<Figure size 432x288 with 1 Axes>"
      ]
     },
     "metadata": {
      "needs_background": "light"
     },
     "output_type": "display_data"
    }
   ],
   "source": [
    "from matplotlib import pyplot as plt\n",
    "# plt.rcParams.update({'font.size': 10})\n",
    "\n",
    "plt.plot(t_momBCD_GS, loss_momBCD_GS, label=\"BCD mom GS\", color='green')\n",
    "plt.plot(t_randomBCD_GS, loss_randomBCD_GS, label=\"BCD mom random\", color='blue')\n",
    "plt.plot(t_BCD_GS, loss_BCD_GS, label=\"BCD GS\", color='orange')\n",
    "plt.plot(t_momCA_GS, loss_momCA_GS, label=\"CaBCD mom GS\", linestyle='--', color='green')\n",
    "plt.plot(t_momCA_random, loss_momCA_random, label=\"CaBCD mom random\", linestyle='--', color='blue')\n",
    "plt.plot(t_CABCD_stand_GS, loss_CABCD_stand_GS, label=\"CaBCD GS\", linestyle='--', color='orange')\n",
    "plt.plot(t_ADAM, loss_ADAM, label=\"ADAM\", linestyle=':', color='red')\n",
    "plt.plot(t_SAG, loss_SAG, label=\"SAG\", linestyle=':', color='black')\n",
    "plt.legend(loc = \"right\")\n",
    "plt.title('Loss MSE vs time 3DRoads')\n",
    "plt.xlabel('time')\n",
    "plt.ylabel('loss')\n",
    "\n",
    "plt.xlim([0,2])\n",
    "plt.ylim([min(loss_ADAM)*0.8,max(loss_ADAM)])\n",
    "# plt.savefig('CaBCD_vs_all_time_3DRoads.pdf', bbox_inches='tight')\n",
    "plt.show()\n",
    "\n",
    "plt.plot(iteration_momBCD_GS, loss_momBCD_GS, label=\"BCD mom GS\", color='green')\n",
    "plt.plot(iteration_randomBCD_GS, loss_randomBCD_GS, label=\"BCD mom random\", color='blue')\n",
    "plt.plot(iteration_BCD_GS, loss_BCD_GS, label=\"BCD GS\", color='orange')\n",
    "plt.plot(iteration_momCA_GS, loss_momCA_GS, label=\"CaBCD mom GS\", linestyle='--', color='green')\n",
    "plt.plot(iteration_momCA_random, loss_momCA_random, label=\"CaBCD mom random\", linestyle='--', color='blue')\n",
    "plt.plot(iteration_CABCD_stand_GS, loss_CABCD_stand_GS, label=\"CaBCD GS\", linestyle='--', color='orange')\n",
    "plt.plot(iteration_ADAM, loss_ADAM, label=\"ADAM\", linestyle=':', color='red')\n",
    "plt.plot(iteration_SAG, loss_SAG, label=\"SAG\", linestyle=':', color='black')\n",
    "plt.legend(loc = \"right\")\n",
    "plt.title('Loss MSE vs iteration 3DRoads')\n",
    "plt.xlabel('iteration (over the entire dataset)')\n",
    "plt.ylabel('loss')\n",
    "plt.xlim([0,20])\n",
    "plt.ylim([min(loss_ADAM)*0.8,max(loss_ADAM)])\n",
    "# plt.savefig('CaBCD_vs_all_iteration_3DRoads.pdf', bbox_inches='tight')\n",
    "plt.show()"
   ]
  },
  {
   "cell_type": "code",
   "execution_count": null,
   "metadata": {},
   "outputs": [],
   "source": []
  },
  {
   "cell_type": "code",
   "execution_count": null,
   "metadata": {},
   "outputs": [],
   "source": []
  }
 ],
 "metadata": {
  "kernelspec": {
   "display_name": "Python 3",
   "language": "python",
   "name": "python3"
  },
  "language_info": {
   "codemirror_mode": {
    "name": "ipython",
    "version": 3
   },
   "file_extension": ".py",
   "mimetype": "text/x-python",
   "name": "python",
   "nbconvert_exporter": "python",
   "pygments_lexer": "ipython3",
   "version": "3.7.9"
  }
 },
 "nbformat": 4,
 "nbformat_minor": 4
}
