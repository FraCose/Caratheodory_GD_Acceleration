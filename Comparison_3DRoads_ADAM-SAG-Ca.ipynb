{
 "cells": [
  {
   "cell_type": "code",
   "execution_count": 1,
   "metadata": {},
   "outputs": [],
   "source": [
    "import numpy as np\n",
    "import pandas as pd"
   ]
  },
  {
   "cell_type": "code",
   "execution_count": 2,
   "metadata": {},
   "outputs": [
    {
     "name": "stdout",
     "output_type": "stream",
     "text": [
      "['Longitude', 'Latitude', 'Altitude']\n",
      "(434873, 3)\n",
      "Longitude    float64\n",
      "Latitude     float64\n",
      "Altitude     float64\n",
      "dtype: object\n"
     ]
    }
   ],
   "source": [
    "# Please, to run the experiments donwload the following dataset and put them in the /Dataset folder:\n",
    "# \t- 3D_spatial_network.txt - \n",
    "#       https://archive.ics.uci.edu/ml/machine-learning-databases/00246/3D_spatial_network.txt\n",
    "\n",
    "filename = \"Datasets/3D_spatial_network.txt\"\n",
    "df = pd.read_csv(filename, sep=',', usecols=[1,2,3])\n",
    "df = df.dropna()\n",
    "\n",
    "df.columns = ['Longitude', 'Latitude', 'Altitude']\n",
    "print(list(df.columns.values) )\n",
    "\n",
    "df['Longitude'] = pd.to_numeric(df['Longitude'], errors='coerce')\n",
    "df['Latitude'] = pd.to_numeric(df['Latitude'], errors='coerce')\n",
    "df['Altitude'] = pd.to_numeric(df['Altitude'], errors='coerce')\n",
    "\n",
    "df = df.dropna()\n",
    "\n",
    "print(df.shape)\n",
    "print(df.dtypes)"
   ]
  },
  {
   "cell_type": "code",
   "execution_count": 3,
   "metadata": {},
   "outputs": [],
   "source": [
    "x = df[['Longitude','Latitude']]\n",
    "x = x.to_numpy()\n",
    "y = df['Altitude']\n",
    "y = y.to_numpy()"
   ]
  },
  {
   "cell_type": "code",
   "execution_count": 4,
   "metadata": {
    "scrolled": true
   },
   "outputs": [
    {
     "name": "stdout",
     "output_type": "stream",
     "text": [
      "(434873, 2)\n",
      "(434873, 62)\n"
     ]
    }
   ],
   "source": [
    "import CaGD_ls\n",
    "\n",
    "x = np.ascontiguousarray(x)\n",
    "print(x.shape)\n",
    "x = CaGD_ls.tens_pow(x,5) \n",
    "print(x.shape)"
   ]
  },
  {
   "cell_type": "code",
   "execution_count": 5,
   "metadata": {},
   "outputs": [],
   "source": [
    "from sklearn.preprocessing import StandardScaler\n",
    "\n",
    "scaler = StandardScaler()\n",
    "scaler.fit(x)\n",
    "x_scaled = scaler.transform(x)"
   ]
  },
  {
   "cell_type": "code",
   "execution_count": 6,
   "metadata": {},
   "outputs": [
    {
     "name": "stdout",
     "output_type": "stream",
     "text": [
      "(434873, 7)\n"
     ]
    },
    {
     "data": {
      "text/plain": [
       "0.9999999999999957"
      ]
     },
     "execution_count": 6,
     "metadata": {},
     "output_type": "execute_result"
    }
   ],
   "source": [
    "from sklearn.decomposition import PCA\n",
    "\n",
    "pca = PCA(n_components=0.999, svd_solver='full')\n",
    "pca.fit(x_scaled)\n",
    "\n",
    "x_scaled_pca = pca.transform(x_scaled)\n",
    "\n",
    "print(np.shape(x_scaled_pca))\n",
    "pca.explained_variance_ratio_.sum()"
   ]
  },
  {
   "cell_type": "code",
   "execution_count": 7,
   "metadata": {},
   "outputs": [
    {
     "name": "stdout",
     "output_type": "stream",
     "text": [
      "(434873, 8)\n"
     ]
    }
   ],
   "source": [
    "x_scaled_pca = CaGD_ls.add_bias(x_scaled_pca)\n",
    "print(np.shape(x_scaled_pca))"
   ]
  },
  {
   "cell_type": "code",
   "execution_count": 8,
   "metadata": {},
   "outputs": [
    {
     "data": {
      "text/plain": [
       "18.617987672939996"
      ]
     },
     "execution_count": 8,
     "metadata": {},
     "output_type": "execute_result"
    },
    {
     "data": {
      "image/png": "[encoded data removed]",
      "text/plain": [
       "<Figure size 432x288 with 1 Axes>"
      ]
     },
     "metadata": {
      "needs_background": "light"
     },
     "output_type": "display_data"
    }
   ],
   "source": [
    "import seaborn as sns\n",
    "\n",
    "sns.distplot(y, hist=True, kde=True, \n",
    "             bins=int(180/5), color = 'darkblue', \n",
    "             hist_kws={'edgecolor':'black'},\n",
    "             kde_kws={'linewidth': 4})\n",
    "y.std()"
   ]
  },
  {
   "cell_type": "code",
   "execution_count": 9,
   "metadata": {
    "scrolled": true
   },
   "outputs": [
    {
     "name": "stdout",
     "output_type": "stream",
     "text": [
      "number of parameters  8\n",
      "number of points  434873\n"
     ]
    }
   ],
   "source": [
    "lr = 1e-3 \n",
    "block_dim = 2\n",
    "loss_accepted = 1e-5\n",
    "max_iter = 5e1\n",
    "lambda_LASSO = 1e-2\n",
    "batch_size = 256\n",
    "\n",
    "n = np.shape(x_scaled_pca)[1]\n",
    "print(\"number of parameters \", n)\n",
    "print(\"number of points \", x_scaled_pca.shape[0])\n",
    "theta_0 = np.random.uniform(-1/n**0.5,1/n**0.5,n)"
   ]
  },
  {
   "cell_type": "code",
   "execution_count": 10,
   "metadata": {
    "scrolled": true
   },
   "outputs": [
    {
     "name": "stdout",
     "output_type": "stream",
     "text": [
      "iteration =  0  | loss =  831.0412130305117  | time =  0.014220099999874947\n",
      "iteration =  2  | loss =  829.0137166026348  | time =  0.20760249999989355\n",
      "iteration =  4  | loss =  351.7665544629618  | time =  1.9076602000000094\n",
      "iteration =  6  | loss =  347.50438871614665  | time =  5.173120799999879\n",
      "iteration =  8  | loss =  341.9007921874553  | time =  8.365551399999958\n",
      "iteration =  10  | loss =  339.4877243569358  | time =  11.50105769999982\n",
      "iteration =  12  | loss =  339.16698641999585  | time =  13.570848899999874\n",
      "iteration =  14  | loss =  338.3251023222777  | time =  16.699168999999983\n",
      "iteration =  16  | loss =  337.9775191744222  | time =  20.101335999999947\n",
      "iteration =  18  | loss =  337.9277793026237  | time =  24.68646949999993\n",
      "iteration =  20  | loss =  337.860555328009  | time =  27.96210659999997\n",
      "iteration =  22  | loss =  337.79022455548267  | time =  31.339286799999854\n",
      "iteration =  24  | loss =  337.7778344772757  | time =  34.651566799999955\n",
      "iteration =  26  | loss =  337.75936646852693  | time =  36.644236999999976\n",
      "iteration =  28  | loss =  337.7592303928836  | time =  40.0433524\n",
      "iteration =  30  | loss =  337.756072702312  | time =  43.31749590000004\n",
      "iteration =  32  | loss =  337.75831553675545  | time =  45.381485599999905\n",
      "iteration =  34  | loss =  337.74351573728933  | time =  47.447521699999925\n",
      "iteration =  36  | loss =  337.7412455326109  | time =  50.72003410000002\n",
      "iteration =  38  | loss =  337.74001381987006  | time =  53.9893497999999\n",
      "iteration =  40  | loss =  337.7400409372134  | time =  56.022400899999866\n",
      "iteration =  42  | loss =  337.7399931711164  | time =  58.078381000000036\n",
      "iteration =  44  | loss =  337.7399210449338  | time =  60.0983698\n",
      "iteration =  46  | loss =  337.7399623806938  | time =  62.178233599999885\n",
      "iteration =  48  | loss =  337.73576538204173  | time =  64.27196630000003\n",
      "iteration =  50  | loss =  337.7332059114141  | time =  66.4195052\n",
      "iteration =  50  | loss =  337.73313685693284  | time =  69.56831319999992\n"
     ]
    }
   ],
   "source": [
    "loss_momCA_GS,iteration_momCA_GS,theta_momCA_GS,t_momCA_GS = CaGD_ls.mom_CA_BCD_GS_ls(\n",
    "                            x_scaled_pca,y,theta_0,lambda_LASSO,lr,loss_accepted,max_iter,2,0.75)"
   ]
  },
  {
   "cell_type": "code",
   "execution_count": 11,
   "metadata": {
    "scrolled": true
   },
   "outputs": [
    {
     "name": "stdout",
     "output_type": "stream",
     "text": [
      "iteration =  0  | loss =  831.0412130305117  | time =  0.011792600000035236\n",
      "iteration =  2  | loss =  831.0174359770489  | time =  0.17158689999996568\n",
      "iteration =  4  | loss =  825.6883466087737  | time =  3.5177627000000484\n",
      "iteration =  6  | loss =  822.2063948013301  | time =  7.507489599999872\n",
      "iteration =  8  | loss =  821.949033690825  | time =  10.90312700000004\n",
      "iteration =  10  | loss =  821.767142370711  | time =  14.237131699999964\n",
      "iteration =  12  | loss =  819.8627831859299  | time =  17.58715110000003\n",
      "iteration =  14  | loss =  342.92336897031686  | time =  20.82801840000002\n",
      "iteration =  16  | loss =  342.61386208065727  | time =  24.138713199999984\n",
      "iteration =  18  | loss =  341.26967825311  | time =  27.388704799999914\n",
      "iteration =  20  | loss =  341.0035642579727  | time =  30.98782159999996\n",
      "iteration =  22  | loss =  338.89610441804956  | time =  35.43965920000005\n",
      "iteration =  24  | loss =  337.94741829739763  | time =  38.86847420000004\n",
      "iteration =  26  | loss =  337.83208805021627  | time =  42.15053519999992\n",
      "iteration =  28  | loss =  337.8297936745786  | time =  45.57473989999994\n",
      "iteration =  30  | loss =  337.7955734010566  | time =  48.90806120000002\n",
      "iteration =  32  | loss =  337.7626254527593  | time =  52.31826799999999\n",
      "iteration =  34  | loss =  337.7630230256111  | time =  55.61852309999995\n",
      "iteration =  36  | loss =  337.76226636286697  | time =  58.96028290000004\n",
      "iteration =  38  | loss =  337.7507830286176  | time =  62.24111300000004\n",
      "iteration =  40  | loss =  337.7334049092218  | time =  65.57863840000005\n",
      "iteration =  42  | loss =  337.73254160499715  | time =  68.93095210000001\n",
      "iteration =  44  | loss =  337.73306889347015  | time =  72.36152100000004\n",
      "iteration =  46  | loss =  337.73388317141854  | time =  75.80408599999987\n",
      "iteration =  48  | loss =  337.73420657109085  | time =  79.14528969999992\n",
      "iteration =  50  | loss =  337.78016291013256  | time =  82.56615639999995\n",
      "iteration =  50  | loss =  337.78016291013256  | time =  85.81136949999996\n"
     ]
    }
   ],
   "source": [
    "loss_momCA_random,iteration_momCA_random,theta_momCA_random,t_momCA_random = CaGD_ls.mom_CA_BCD_random_ls(\n",
    "                            x_scaled_pca,y,theta_0,lambda_LASSO,lr,loss_accepted,max_iter,2,0.5)"
   ]
  },
  {
   "cell_type": "code",
   "execution_count": 12,
   "metadata": {
    "scrolled": true
   },
   "outputs": [
    {
     "name": "stdout",
     "output_type": "stream",
     "text": [
      "iteration =  0  | loss =  831.0412130305117  | time =  0.013760000000047512\n",
      "iteration =  2  | loss =  829.0137166026348  | time =  0.24129110000012588\n",
      "iteration =  4  | loss =  668.6698687649939  | time =  2.340229700000009\n",
      "iteration =  6  | loss =  560.47651296378  | time =  4.448718999999983\n",
      "iteration =  8  | loss =  489.0040990861953  | time =  6.632277899999963\n",
      "iteration =  10  | loss =  440.8100903450888  | time =  8.702685400000064\n",
      "iteration =  12  | loss =  407.6927836340912  | time =  10.746024900000066\n",
      "iteration =  14  | loss =  385.19703566913483  | time =  14.101309300000139\n",
      "iteration =  16  | loss =  370.3775648679782  | time =  16.264339199999995\n",
      "iteration =  18  | loss =  360.09807089819566  | time =  19.61113189999992\n",
      "iteration =  20  | loss =  353.08438009542215  | time =  21.70247549999999\n",
      "iteration =  22  | loss =  348.3876844895116  | time =  25.047338800000034\n",
      "iteration =  24  | loss =  345.2671302926469  | time =  27.17193680000014\n",
      "iteration =  26  | loss =  343.02770042734977  | time =  30.513341800000035\n",
      "iteration =  28  | loss =  341.4882801992034  | time =  33.838849499999924\n",
      "iteration =  30  | loss =  340.3908448183431  | time =  37.14733679999995\n",
      "iteration =  32  | loss =  339.6236952803368  | time =  40.34457169999996\n",
      "iteration =  34  | loss =  339.1403017704366  | time =  43.780757600000015\n",
      "iteration =  36  | loss =  338.7758523066569  | time =  47.03518340000005\n",
      "iteration =  38  | loss =  338.5138139753848  | time =  50.25366020000001\n",
      "iteration =  40  | loss =  338.3267476273625  | time =  53.6287827000001\n",
      "iteration =  42  | loss =  338.1938094242816  | time =  56.883517499999925\n",
      "iteration =  44  | loss =  338.0880576431179  | time =  60.13304700000003\n",
      "iteration =  46  | loss =  338.00815259382773  | time =  63.33763090000002\n",
      "iteration =  48  | loss =  337.9494385406505  | time =  66.65939509999998\n",
      "iteration =  50  | loss =  337.9052728121579  | time =  69.91511659999992\n",
      "iteration =  50  | loss =  337.8703558464659  | time =  73.06674880000014\n"
     ]
    }
   ],
   "source": [
    "loss_CABCD_stand_GS,iteration_CABCD_stand_GS,theta_CABCD_stand_GS,t_CABCD_stand_GS = CaGD_ls.CA_BCD_GS_ls(\n",
    "                             x_scaled_pca,y,theta_0,lambda_LASSO,lr,loss_accepted,max_iter,2,0.75)"
   ]
  },
  {
   "cell_type": "code",
   "execution_count": 13,
   "metadata": {
    "scrolled": true
   },
   "outputs": [
    {
     "name": "stdout",
     "output_type": "stream",
     "text": [
      "iteration =  0  | loss =  831.0412130305117  | time =  0.010841800000207513\n",
      "iteration =  1  | loss =  760.4357933159329  | time =  0.329258000000209\n",
      "iteration =  2  | loss =  698.477423760696  | time =  0.6599418000000696\n",
      "iteration =  3  | loss =  642.9400250699899  | time =  0.9975393000001986\n",
      "iteration =  4  | loss =  593.3527015096287  | time =  1.2473151000001508\n",
      "iteration =  5  | loss =  549.3647826382588  | time =  1.6290548000001763\n",
      "iteration =  6  | loss =  511.17340933883247  | time =  1.9077027000000726\n",
      "iteration =  7  | loss =  478.887230606761  | time =  2.136735700000145\n",
      "iteration =  8  | loss =  453.1515605342668  | time =  2.368114500000047\n",
      "iteration =  9  | loss =  434.74556165583095  | time =  2.5950476000000435\n",
      "iteration =  10  | loss =  424.3018835694355  | time =  2.839619300000095\n",
      "iteration =  11  | loss =  420.30947503922357  | time =  3.0956047000001945\n",
      "iteration =  12  | loss =  419.3955374967504  | time =  3.3767582000000402\n",
      "iteration =  13  | loss =  418.91013508920054  | time =  3.624052600000141\n",
      "iteration =  14  | loss =  419.1581669535734  | time =  3.8692927000001873\n",
      "iteration =  15  | loss =  418.84682565968114  | time =  4.095702100000153\n",
      "iteration =  16  | loss =  418.9342824226549  | time =  4.315516200000047\n",
      "iteration =  17  | loss =  418.7300951007994  | time =  4.5529886000001625\n",
      "iteration =  18  | loss =  419.0329287287076  | time =  4.797595800000181\n",
      "iteration =  19  | loss =  419.04201571905554  | time =  5.021592000000055\n",
      "iteration =  20  | loss =  418.7588587131155  | time =  5.255520900000192\n",
      "iteration =  21  | loss =  418.83901497192437  | time =  5.50687240000002\n",
      "iteration =  22  | loss =  418.81020331289693  | time =  5.69740650000017\n",
      "iteration =  23  | loss =  418.98077536532537  | time =  5.948561400000017\n",
      "iteration =  24  | loss =  418.8927499121379  | time =  6.15825400000017\n",
      "iteration =  25  | loss =  419.04504819200884  | time =  6.372492100000045\n",
      "iteration =  26  | loss =  418.9906046697523  | time =  6.642119800000046\n",
      "iteration =  27  | loss =  418.7717856372899  | time =  6.850277700000106\n",
      "iteration =  28  | loss =  418.99960986518437  | time =  7.101840500000208\n",
      "iteration =  29  | loss =  418.73987679973874  | time =  7.318633300000101\n",
      "iteration =  30  | loss =  418.7709855002656  | time =  7.529948600000125\n",
      "iteration =  31  | loss =  418.8615603046641  | time =  7.778665400000136\n",
      "iteration =  32  | loss =  418.8305420135037  | time =  8.008823699999994\n",
      "iteration =  33  | loss =  418.79604430382335  | time =  8.224901000000045\n",
      "iteration =  34  | loss =  418.8730354248272  | time =  8.442131100000097\n",
      "iteration =  35  | loss =  419.0611450107645  | time =  8.679681100000153\n",
      "iteration =  36  | loss =  418.9186184371684  | time =  8.915644900000188\n",
      "iteration =  37  | loss =  418.98889432231573  | time =  9.162378200000148\n",
      "iteration =  38  | loss =  419.16928622302186  | time =  9.404096900000013\n",
      "iteration =  39  | loss =  419.0600863328378  | time =  9.648158899999999\n",
      "iteration =  40  | loss =  418.9965666606176  | time =  9.864131400000133\n",
      "iteration =  41  | loss =  418.99231713733263  | time =  10.090041500000098\n",
      "iteration =  42  | loss =  418.82454547891797  | time =  10.344602400000213\n",
      "iteration =  43  | loss =  418.872018058139  | time =  10.573863000000074\n",
      "iteration =  44  | loss =  418.6780715971723  | time =  10.829275499999994\n",
      "iteration =  45  | loss =  419.0298404655676  | time =  11.053376700000172\n",
      "iteration =  46  | loss =  418.93642491417904  | time =  11.276206900000034\n",
      "iteration =  47  | loss =  419.0415428027666  | time =  11.49919900000009\n",
      "iteration =  48  | loss =  419.0100755457201  | time =  11.726625700000113\n",
      "iteration =  49  | loss =  419.1270468140841  | time =  11.936304700000164\n",
      "iteration =  50  | loss =  419.111806806585  | time =  12.180191100000002\n",
      "iteration =  51  | loss =  418.9447279843684  | time =  12.37597740000001\n"
     ]
    }
   ],
   "source": [
    "loss_ADAM,iteration_ADAM,theta_ADAM,t_ADAM = CaGD_ls.ADAM_ls(x_scaled_pca,y,theta_0,lambda_LASSO,batch_size,lr,loss_accepted,max_iter)"
   ]
  },
  {
   "cell_type": "code",
   "execution_count": 14,
   "metadata": {
    "scrolled": true
   },
   "outputs": [
    {
     "name": "stdout",
     "output_type": "stream",
     "text": [
      "iteration =  0  | loss =  831.0412130305117  | time =  0.010485199999948236\n",
      "iteration =  1  | loss =  827.6273857521552  | time =  0.3450720000000729\n",
      "iteration =  2  | loss =  824.227091269043  | time =  0.7145307000000685\n",
      "iteration =  3  | loss =  820.8828380770694  | time =  1.0734354999999596\n",
      "iteration =  4  | loss =  817.5733518859283  | time =  1.4872087999999621\n",
      "iteration =  5  | loss =  814.2998105636088  | time =  1.8588842999999997\n",
      "iteration =  6  | loss =  811.0566794948415  | time =  2.232501700000057\n",
      "iteration =  7  | loss =  807.8414432704233  | time =  2.608844999999974\n",
      "iteration =  8  | loss =  804.652835440439  | time =  2.9897673000000395\n",
      "iteration =  9  | loss =  801.4889789298966  | time =  3.3658961000001\n",
      "iteration =  10  | loss =  798.3497190719332  | time =  3.747039099999938\n",
      "iteration =  11  | loss =  795.2339134910525  | time =  4.1131339000000935\n",
      "iteration =  12  | loss =  792.14091847031  | time =  4.497974500000055\n",
      "iteration =  13  | loss =  789.0702733746766  | time =  4.848567100000082\n",
      "iteration =  14  | loss =  786.0213496997745  | time =  5.204414300000053\n",
      "iteration =  15  | loss =  782.9943179226086  | time =  5.587716600000022\n",
      "iteration =  16  | loss =  779.9885773488238  | time =  5.923306800000091\n",
      "iteration =  17  | loss =  777.0038917214807  | time =  6.311397500000112\n",
      "iteration =  18  | loss =  774.0400406205907  | time =  6.668295299999954\n",
      "iteration =  19  | loss =  771.0968293599891  | time =  7.060023499999943\n",
      "iteration =  20  | loss =  768.1741231905816  | time =  7.425774000000047\n",
      "iteration =  21  | loss =  765.271609561692  | time =  7.77497470000003\n",
      "iteration =  22  | loss =  762.3892587912035  | time =  8.144643000000087\n",
      "iteration =  23  | loss =  759.5267675528734  | time =  8.593964500000084\n",
      "iteration =  24  | loss =  756.6841381628577  | time =  8.957382000000052\n",
      "iteration =  25  | loss =  753.861062019513  | time =  9.323026999999911\n",
      "iteration =  26  | loss =  751.0574422213757  | time =  9.673660700000028\n",
      "iteration =  27  | loss =  748.2730972631093  | time =  10.03221039999994\n",
      "iteration =  28  | loss =  745.5079060680035  | time =  10.40467209999997\n",
      "iteration =  29  | loss =  742.7616985664151  | time =  10.765390900000057\n",
      "iteration =  30  | loss =  740.0343456248121  | time =  11.121468499999992\n",
      "iteration =  31  | loss =  737.3256795234557  | time =  11.500079700000015\n",
      "iteration =  32  | loss =  734.635607936434  | time =  11.863932599999998\n",
      "iteration =  33  | loss =  731.9638697797063  | time =  12.22578969999995\n",
      "iteration =  34  | loss =  729.3105124856806  | time =  12.608367699999917\n",
      "iteration =  35  | loss =  726.6753152075148  | time =  12.978954599999952\n",
      "iteration =  36  | loss =  724.0581231131812  | time =  13.367575100000067\n",
      "iteration =  37  | loss =  721.4588089056282  | time =  13.724348599999985\n",
      "iteration =  38  | loss =  718.8772714255388  | time =  14.188704899999948\n",
      "iteration =  39  | loss =  716.3133486632871  | time =  14.569488300000103\n",
      "iteration =  40  | loss =  713.766908722953  | time =  14.941737099999955\n",
      "iteration =  41  | loss =  711.2378628880394  | time =  15.32339479999996\n",
      "iteration =  42  | loss =  708.7260689951329  | time =  15.681443400000035\n",
      "iteration =  43  | loss =  706.2313809402345  | time =  16.048611800000117\n",
      "iteration =  44  | loss =  703.7536849818428  | time =  16.42651060000003\n",
      "iteration =  45  | loss =  701.2928711987311  | time =  16.813254599999937\n",
      "iteration =  46  | loss =  698.8488268636962  | time =  17.180526899999904\n",
      "iteration =  47  | loss =  696.4214105175865  | time =  17.551544599999943\n",
      "iteration =  48  | loss =  694.0104913523581  | time =  17.93097069999999\n",
      "iteration =  49  | loss =  691.6159953655887  | time =  18.30214909999995\n",
      "iteration =  50  | loss =  689.2377651462148  | time =  18.673874999999953\n",
      "iteration =  51  | loss =  686.8757206708233  | time =  19.067820499999925\n"
     ]
    }
   ],
   "source": [
    "lr = 1e-6\n",
    "loss_SAG,iteration_SAG,theta_SAG,t_SAG = CaGD_ls.SAG_ls(x_scaled_pca,y,theta_0,lambda_LASSO,batch_size,lr,loss_accepted,max_iter)"
   ]
  },
  {
   "cell_type": "code",
   "execution_count": 15,
   "metadata": {},
   "outputs": [
    {
     "name": "stdout",
     "output_type": "stream",
     "text": [
      "loss min mom GS CA =  337.73313685693284\n",
      "loss min mom random CA =  337.73254160499715\n",
      "loss min standard GS CA =  337.8703558464659\n",
      "loss min ADAM =  418.6780715971723\n",
      "loss min SAG =  686.8757206708233\n"
     ]
    }
   ],
   "source": [
    "print(\"loss min mom GS CA = \", min(loss_momCA_GS))\n",
    "print(\"loss min mom random CA = \", min(loss_momCA_random))\n",
    "print(\"loss min standard GS CA = \", min(loss_CABCD_stand_GS))\n",
    "print(\"loss min ADAM = \", min(loss_ADAM))\n",
    "print(\"loss min SAG = \", min(loss_SAG))"
   ]
  },
  {
   "cell_type": "code",
   "execution_count": 16,
   "metadata": {},
   "outputs": [
    {
     "data": {
      "image/png": "[encoded data removed]",
      "text/plain": [
       "<Figure size 432x288 with 1 Axes>"
      ]
     },
     "metadata": {
      "needs_background": "light"
     },
     "output_type": "display_data"
    },
    {
     "data": {
      "image/png": "[encoded data removed]",
      "text/plain": [
       "<Figure size 432x288 with 1 Axes>"
      ]
     },
     "metadata": {
      "needs_background": "light"
     },
     "output_type": "display_data"
    }
   ],
   "source": [
    "from matplotlib import pyplot as plt\n",
    "\n",
    "plt.plot(t_momCA_GS, loss_momCA_GS, label=\"CaBCD mom GS\")\n",
    "plt.plot(t_momCA_random, loss_momCA_random, label=\"CaBCD mom random\")\n",
    "plt.plot(t_CABCD_stand_GS, loss_CABCD_stand_GS, label=\"CaBCD GS\")\n",
    "plt.plot(t_ADAM, loss_ADAM, label=\"ADAM\")\n",
    "plt.plot(t_SAG, loss_SAG, label=\"SAG\")\n",
    "plt.legend()\n",
    "plt.title('Loss MSE vs time 3DRoads')\n",
    "plt.xlabel('time')\n",
    "plt.ylabel('loss')\n",
    "\n",
    "plt.xlim([0,2])\n",
    "plt.ylim([min(loss_ADAM)*0.8,max(loss_ADAM)])\n",
    "# plt.savefig('CaBCD_vs_all_time_3DRoads.pdf', bbox_inches='tight')\n",
    "plt.show()\n",
    "\n",
    "plt.plot(iteration_momCA_GS, loss_momCA_GS, label=\"CaBCD mom GS\")\n",
    "plt.plot(iteration_momCA_random, loss_momCA_random, label=\"CaBCD mom random\")\n",
    "plt.plot(iteration_CABCD_stand_GS, loss_CABCD_stand_GS, label=\"CaBCD GS\")\n",
    "plt.plot(iteration_ADAM, loss_ADAM, label=\"ADAM\")\n",
    "plt.plot(iteration_SAG, loss_SAG, label=\"SAG\")\n",
    "plt.legend()\n",
    "plt.title('Loss MSE vs iteration 3DRoads')\n",
    "plt.xlabel('iteration (over the entire dataset)')\n",
    "plt.ylabel('loss')\n",
    "plt.xlim([0,20])\n",
    "plt.ylim([min(loss_ADAM)*0.8,max(loss_ADAM)])\n",
    "# plt.savefig('CaBCD_vs_all_iteration_3DRoads.pdf', bbox_inches='tight')\n",
    "plt.show()"
   ]
  },
  {
   "cell_type": "code",
   "execution_count": null,
   "metadata": {},
   "outputs": [],
   "source": []
  }
 ],
 "metadata": {
  "kernelspec": {
   "display_name": "Python 3",
   "language": "python",
   "name": "python3"
  },
  "language_info": {
   "codemirror_mode": {
    "name": "ipython",
    "version": 3
   },
   "file_extension": ".py",
   "mimetype": "text/x-python",
   "name": "python",
   "nbconvert_exporter": "python",
   "pygments_lexer": "ipython3",
   "version": "3.7.6"
  }
 },
 "nbformat": 4,
 "nbformat_minor": 4
}
