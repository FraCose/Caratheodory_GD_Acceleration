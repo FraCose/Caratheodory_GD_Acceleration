{
 "cells": [
  {
   "cell_type": "code",
   "execution_count": 1,
   "metadata": {},
   "outputs": [],
   "source": [
    "import numpy as np\n",
    "import CaGD_log"
   ]
  },
  {
   "cell_type": "code",
   "execution_count": 2,
   "metadata": {},
   "outputs": [],
   "source": [
    "N = 5000\n",
    "n = 15\n",
    "X = np.random.exponential(2., (N,n))-5\n",
    "\n",
    "tmp = X<0\n",
    "tmp = np.all(tmp,1)\n",
    "Y = np.zeros(N)\n",
    "Y[tmp] = 1"
   ]
  },
  {
   "cell_type": "code",
   "execution_count": null,
   "metadata": {
    "scrolled": true
   },
   "outputs": [],
   "source": [
    "step = 1e-3\n",
    "block_dim = 3\n",
    "error = 5e-3\n",
    "max_it = 1e4\n",
    "\n",
    "theta_0 = np.random.uniform(-1/n**0.5,1/n**0.5,size=n)\n",
    "err,iteration,theta,t = CaGD_log.gd_log(X,Y,theta_0,step,error,max_it)\n",
    "err_to_beat = err\n",
    "\n",
    "print(\"#################################\")\n",
    "\n",
    "err_CA, iteration_CA, theta_CA, t_CA = CaGD_log.BCD_log_CA(X,Y,theta_0,step,err_to_beat,max_it,block_dim)"
   ]
  },
  {
   "cell_type": "code",
   "execution_count": null,
   "metadata": {},
   "outputs": [],
   "source": [
    "import matplotlib.pyplot as plt\n",
    "\n",
    "idx_1=0\n",
    "idx_2=5\n",
    "\n",
    "plt.plot(theta[:,idx_1],theta[:,idx_2],'--', label = \"GD\") \n",
    "plt.plot(theta_CA[:,idx_1],theta_CA[:,idx_2],'-', label = \"CaBCD\") \n",
    "plt.plot(theta[0,idx_1],theta[0,idx_2],'x', label = r'$\\theta_0$')\n",
    "plt.legend() \n",
    "plt.title('GD vs CaBCD path')\n",
    "plt.xlabel(r'$\\theta^{(i)}$')\n",
    "plt.ylabel(r'$\\theta^{(j)}$')\n",
    "# plt.savefig('gd_vs_CaBCD_path_case_0-5.pdf', bbox_inches='tight')\n",
    "plt.show()"
   ]
  },
  {
   "cell_type": "code",
   "execution_count": null,
   "metadata": {},
   "outputs": [],
   "source": []
  }
 ],
 "metadata": {
  "kernelspec": {
   "display_name": "Python 3",
   "language": "python",
   "name": "python3"
  },
  "language_info": {
   "codemirror_mode": {
    "name": "ipython",
    "version": 3
   },
   "file_extension": ".py",
   "mimetype": "text/x-python",
   "name": "python",
   "nbconvert_exporter": "python",
   "pygments_lexer": "ipython3",
   "version": "3.7.6"
  }
 },
 "nbformat": 4,
 "nbformat_minor": 4
}
