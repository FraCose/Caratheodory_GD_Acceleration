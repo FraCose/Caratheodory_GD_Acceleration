{
 "cells": [
  {
   "cell_type": "code",
   "execution_count": 1,
   "metadata": {},
   "outputs": [],
   "source": [
    "import numpy as np\n",
    "import pandas as pd"
   ]
  },
  {
   "cell_type": "code",
   "execution_count": 2,
   "metadata": {},
   "outputs": [
    {
     "name": "stderr",
     "output_type": "stream",
     "text": [
      "/Users/fcosentino/opt/anaconda3/lib/python3.7/site-packages/IPython/core/interactiveshell.py:3063: DtypeWarning: Columns (2,3,4,5,6,7) have mixed types.Specify dtype option on import or set low_memory=False.\n",
      "  interactivity=interactivity, compiler=compiler, result=result)\n"
     ]
    },
    {
     "name": "stdout",
     "output_type": "stream",
     "text": [
      "(2049280, 7)\n",
      "Global_active_power      float64\n",
      "Global_reactive_power    float64\n",
      "Voltage                  float64\n",
      "Global_intensity         float64\n",
      "Sub_metering_1           float64\n",
      "Sub_metering_2           float64\n",
      "Sub_metering_3           float64\n",
      "dtype: object\n"
     ]
    }
   ],
   "source": [
    "# Please, to run the experiments donwload the following dataset and put them in the /Dataset folder:\n",
    "# \t- household_power_consumption.txt - \n",
    "#       https://archive.ics.uci.edu/ml/machine-learning-databases/00235/household_power_consumption.zip\n",
    "#       (extract the .txt file)\n",
    "    \n",
    "\n",
    "filename = \"Datasets/household_power_consumption.txt\"\n",
    "df = pd.read_csv(filename, sep=';', header=0, usecols=[2,3,6,7,8,4,5])\n",
    "df = df.dropna()\n",
    "\n",
    "# print(list(df.columns.values))\n",
    "\n",
    "df['Global_active_power'] = pd.to_numeric(df['Global_active_power'], errors='coerce')\n",
    "df['Global_reactive_power'] = pd.to_numeric(df['Global_reactive_power'], errors='coerce')\n",
    "df['Voltage'] = pd.to_numeric(df['Voltage'], errors='coerce')\n",
    "df['Global_intensity'] = pd.to_numeric(df['Global_intensity'], errors='coerce')\n",
    "\n",
    "df['Sub_metering_1'] = pd.to_numeric(df['Sub_metering_1'], errors='coerce')\n",
    "df['Sub_metering_2'] = pd.to_numeric(df['Sub_metering_2'], errors='coerce')\n",
    "df['Sub_metering_3'] = pd.to_numeric(df['Sub_metering_3'], errors='coerce')\n",
    "\n",
    "df = df.dropna()\n",
    "\n",
    "print(df.shape)\n",
    "print(df.dtypes)"
   ]
  },
  {
   "cell_type": "code",
   "execution_count": 3,
   "metadata": {},
   "outputs": [],
   "source": [
    "x = df[['Global_active_power','Global_reactive_power','Global_intensity']]\n",
    "x = x.to_numpy()\n",
    "y = df['Voltage']\n",
    "y = y.to_numpy()"
   ]
  },
  {
   "cell_type": "code",
   "execution_count": 4,
   "metadata": {
    "scrolled": true
   },
   "outputs": [
    {
     "name": "stdout",
     "output_type": "stream",
     "text": [
      "(2049280, 3)\n",
      "(2049280, 363)\n"
     ]
    }
   ],
   "source": [
    "import CaGD_ls\n",
    "\n",
    "x = np.ascontiguousarray(x)\n",
    "print(x.shape)\n",
    "x = CaGD_ls.tens_pow(x,5) \n",
    "\n",
    "print(x.shape)"
   ]
  },
  {
   "cell_type": "code",
   "execution_count": 5,
   "metadata": {},
   "outputs": [],
   "source": [
    "from sklearn.preprocessing import StandardScaler\n",
    "\n",
    "scaler = StandardScaler()\n",
    "scaler.fit(x)\n",
    "x_scaled = scaler.transform(x)"
   ]
  },
  {
   "cell_type": "code",
   "execution_count": 6,
   "metadata": {},
   "outputs": [
    {
     "name": "stdout",
     "output_type": "stream",
     "text": [
      "(2049280, 7)\n"
     ]
    },
    {
     "data": {
      "text/plain": [
       "0.9999910810039667"
      ]
     },
     "execution_count": 6,
     "metadata": {},
     "output_type": "execute_result"
    }
   ],
   "source": [
    "from sklearn.decomposition import PCA\n",
    " \n",
    "pca = PCA(n_components=0.999, svd_solver='full')\n",
    "pca.fit(x_scaled)\n",
    "x_scaled_pca = pca.transform(x_scaled)\n",
    "print(np.shape(x_scaled_pca))\n",
    "pca.explained_variance_ratio_.sum()"
   ]
  },
  {
   "cell_type": "code",
   "execution_count": null,
   "metadata": {},
   "outputs": [],
   "source": [
    "x_scaled_pca = CaGD_ls.add_bias(x_scaled_pca)\n",
    "print(np.shape(x_scaled_pca))"
   ]
  },
  {
   "cell_type": "code",
   "execution_count": null,
   "metadata": {},
   "outputs": [],
   "source": [
    "import seaborn as sns\n",
    "sns.distplot(y, hist=True, kde=True, \n",
    "             bins=int(180/5), color = 'darkblue', \n",
    "             hist_kws={'edgecolor':'black'},\n",
    "             kde_kws={'linewidth': 4})\n",
    "y.std()"
   ]
  },
  {
   "cell_type": "code",
   "execution_count": null,
   "metadata": {
    "scrolled": true
   },
   "outputs": [],
   "source": [
    "lr = 1e-3  \n",
    "block_dim = 2 \n",
    "loss_accepted = 1e-5\n",
    "max_iter = 5e1\n",
    "lambda_LASSO = 1e-2\n",
    "batch_size = 256\n",
    "\n",
    "n = np.shape(x_scaled_pca)[1]\n",
    "print(\"number of parameters \", n)\n",
    "print(\"number of points \", x_scaled_pca.shape[0])\n",
    "theta_0 = np.random.uniform(-1/n**0.5,1/n**0.5,n)"
   ]
  },
  {
   "cell_type": "code",
   "execution_count": null,
   "metadata": {
    "scrolled": true
   },
   "outputs": [],
   "source": [
    "loss_momCA_GS,iteration_momCA_GS,theta_momCA_GS,t_momCA_GS = CaGD_ls.mom_CA_BCD_GS_ls(\n",
    "                            x_scaled_pca,y,theta_0,lambda_LASSO,lr,loss_accepted,max_iter,2,0.75)"
   ]
  },
  {
   "cell_type": "code",
   "execution_count": null,
   "metadata": {
    "scrolled": true
   },
   "outputs": [],
   "source": [
    "loss_momCA_random,iteration_momCA_random,theta_momCA_random,t_momCA_random = CaGD_ls.mom_CA_BCD_random_ls(\n",
    "                            x_scaled_pca,y,theta_0,lambda_LASSO,lr,loss_accepted,max_iter,2,0.5)"
   ]
  },
  {
   "cell_type": "code",
   "execution_count": null,
   "metadata": {
    "scrolled": true
   },
   "outputs": [],
   "source": [
    "loss_CABCD_stand_GS,iteration_CABCD_stand_GS,theta_CABCD_stand_GS,t_CABCD_stand_GS = CaGD_ls.CA_BCD_GS_ls(\n",
    "                             x_scaled_pca,y,theta_0,lambda_LASSO,lr,loss_accepted,max_iter,2,0.75)"
   ]
  },
  {
   "cell_type": "code",
   "execution_count": null,
   "metadata": {
    "scrolled": true
   },
   "outputs": [],
   "source": [
    "loss_ADAM,iteration_ADAM,theta_ADAM,t_ADAM = CaGD_ls.ADAM_ls(x_scaled_pca,y,theta_0,lambda_LASSO,batch_size,lr,loss_accepted,max_iter)"
   ]
  },
  {
   "cell_type": "code",
   "execution_count": null,
   "metadata": {
    "scrolled": true
   },
   "outputs": [],
   "source": [
    "lr = 1e-6\n",
    "loss_SAG,iteration_SAG,theta_SAG,t_SAG = CaGD_ls.SAG_ls(x_scaled_pca,y,theta_0,lambda_LASSO,batch_size,lr,loss_accepted,max_iter)"
   ]
  },
  {
   "cell_type": "code",
   "execution_count": null,
   "metadata": {},
   "outputs": [],
   "source": [
    "print(\"loss min mom GS CA = \", min(loss_momCA_GS))\n",
    "print(\"loss min mom random CA = \", min(loss_momCA_random))\n",
    "print(\"loss min standard GS CA = \", min(loss_CABCD_stand_GS))\n",
    "print(\"loss min ADAM = \", min(loss_ADAM))\n",
    "print(\"loss min SAG = \", min(loss_SAG))"
   ]
  },
  {
   "cell_type": "code",
   "execution_count": null,
   "metadata": {},
   "outputs": [],
   "source": [
    "from matplotlib import pyplot as plt\n",
    "\n",
    "plt.plot(t_momCA_GS, loss_momCA_GS, label=\"CaBCD mom GS\")\n",
    "plt.plot(t_momCA_random, loss_momCA_random, label=\"CaBCD mom random\")\n",
    "plt.plot(t_CABCD_stand_GS, loss_CABCD_stand_GS, label=\"CaBCD GS\")\n",
    "plt.plot(t_ADAM, loss_ADAM, label=\"ADAM\")\n",
    "plt.plot(t_SAG, loss_SAG, label=\"SAG\")\n",
    "plt.legend()\n",
    "plt.title('Loss MSE vs time Power Consumption')\n",
    "plt.xlabel('time')\n",
    "plt.ylabel('loss')\n",
    "\n",
    "plt.xlim([0,10])\n",
    "plt.ylim([0,max(loss_momCA_GS)])\n",
    "# plt.savefig('CaBCD_vs_all_time_Elec.pdf', bbox_inches='tight')\n",
    "plt.show()\n",
    "\n",
    "plt.plot(iteration_momCA_GS, loss_momCA_GS, label=\"CaBCD mom GS\")\n",
    "plt.plot(iteration_momCA_random, loss_momCA_random, label=\"CaBCD mom random\")\n",
    "plt.plot(iteration_CABCD_stand_GS, loss_CABCD_stand_GS, label=\"CaBCD GS\")\n",
    "plt.plot(iteration_ADAM, loss_ADAM, label=\"ADAM\")\n",
    "plt.plot(iteration_SAG, loss_SAG, label=\"SAG\")\n",
    "plt.legend()\n",
    "plt.title('Loss MSE vs iteration Power Consumption')\n",
    "plt.xlabel('iteration (over the entire dataset)')\n",
    "plt.ylabel('loss')\n",
    "plt.xlim([0,15])\n",
    "plt.ylim([0,max(loss_momCA_GS)])\n",
    "# plt.savefig('CaBCD_vs_all_iteration_Elec.pdf', bbox_inches='tight')\n",
    "plt.show()"
   ]
  },
  {
   "cell_type": "code",
   "execution_count": null,
   "metadata": {},
   "outputs": [],
   "source": []
  }
 ],
 "metadata": {
  "kernelspec": {
   "display_name": "Python 3",
   "language": "python",
   "name": "python3"
  },
  "language_info": {
   "codemirror_mode": {
    "name": "ipython",
    "version": 3
   },
   "file_extension": ".py",
   "mimetype": "text/x-python",
   "name": "python",
   "nbconvert_exporter": "python",
   "pygments_lexer": "ipython3",
   "version": "3.7.6"
  }
 },
 "nbformat": 4,
 "nbformat_minor": 4
}
