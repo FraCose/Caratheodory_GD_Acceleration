{
 "cells": [
  {
   "cell_type": "code",
   "execution_count": 1,
   "metadata": {},
   "outputs": [],
   "source": [
    "import numpy as np\n",
    "import pandas as pd"
   ]
  },
  {
   "cell_type": "code",
   "execution_count": 2,
   "metadata": {},
   "outputs": [
    {
     "name": "stderr",
     "output_type": "stream",
     "text": [
      "/Users/fcosentino/opt/anaconda3/lib/python3.7/site-packages/IPython/core/interactiveshell.py:3147: DtypeWarning: Columns (2,3,4,5,6,7) have mixed types.Specify dtype option on import or set low_memory=False.\n",
      "  interactivity=interactivity, compiler=compiler, result=result)\n"
     ]
    },
    {
     "name": "stdout",
     "output_type": "stream",
     "text": [
      "(2049280, 7)\n",
      "Global_active_power      float64\n",
      "Global_reactive_power    float64\n",
      "Voltage                  float64\n",
      "Global_intensity         float64\n",
      "Sub_metering_1           float64\n",
      "Sub_metering_2           float64\n",
      "Sub_metering_3           float64\n",
      "dtype: object\n"
     ]
    }
   ],
   "source": [
    "# Please, to run the experiments donwload the following dataset and put them in the /Datasets folder:\n",
    "# \t- household_power_consumption.txt - \n",
    "#       https://archive.ics.uci.edu/ml/machine-learning-databases/00235/household_power_consumption.zip\n",
    "#       (extract the .txt file)\n",
    "    \n",
    "\n",
    "filename = \"Datasets/household_power_consumption.txt\"\n",
    "df = pd.read_csv(filename, sep=';', header=0, usecols=[2,3,6,7,8,4,5])\n",
    "df = df.dropna()\n",
    "\n",
    "# print(list(df.columns.values))\n",
    "\n",
    "df['Global_active_power'] = pd.to_numeric(df['Global_active_power'], errors='coerce')\n",
    "df['Global_reactive_power'] = pd.to_numeric(df['Global_reactive_power'], errors='coerce')\n",
    "df['Voltage'] = pd.to_numeric(df['Voltage'], errors='coerce')\n",
    "df['Global_intensity'] = pd.to_numeric(df['Global_intensity'], errors='coerce')\n",
    "\n",
    "df['Sub_metering_1'] = pd.to_numeric(df['Sub_metering_1'], errors='coerce')\n",
    "df['Sub_metering_2'] = pd.to_numeric(df['Sub_metering_2'], errors='coerce')\n",
    "df['Sub_metering_3'] = pd.to_numeric(df['Sub_metering_3'], errors='coerce')\n",
    "\n",
    "df = df.dropna()\n",
    "\n",
    "print(df.shape)\n",
    "print(df.dtypes)"
   ]
  },
  {
   "cell_type": "code",
   "execution_count": 3,
   "metadata": {},
   "outputs": [],
   "source": [
    "x = df[['Global_active_power','Global_reactive_power','Global_intensity']]\n",
    "x = x.to_numpy()\n",
    "y = df['Voltage']\n",
    "y = y.to_numpy()"
   ]
  },
  {
   "cell_type": "code",
   "execution_count": 4,
   "metadata": {
    "scrolled": true
   },
   "outputs": [
    {
     "name": "stdout",
     "output_type": "stream",
     "text": [
      "(2049280, 3)\n",
      "(2049280, 363)\n"
     ]
    }
   ],
   "source": [
    "import CaGD_ls\n",
    "\n",
    "x = np.ascontiguousarray(x)\n",
    "print(x.shape)\n",
    "x = CaGD_ls.tens_pow(x,5) \n",
    "\n",
    "print(x.shape)"
   ]
  },
  {
   "cell_type": "code",
   "execution_count": 5,
   "metadata": {},
   "outputs": [],
   "source": [
    "from sklearn.preprocessing import StandardScaler\n",
    "\n",
    "scaler = StandardScaler()\n",
    "scaler.fit(x)\n",
    "x_scaled = scaler.transform(x)"
   ]
  },
  {
   "cell_type": "code",
   "execution_count": 6,
   "metadata": {},
   "outputs": [
    {
     "name": "stdout",
     "output_type": "stream",
     "text": [
      "(2049280, 7)\n"
     ]
    },
    {
     "data": {
      "text/plain": [
       "0.9999912424914186"
      ]
     },
     "execution_count": 6,
     "metadata": {},
     "output_type": "execute_result"
    }
   ],
   "source": [
    "from sklearn.decomposition import PCA\n",
    " \n",
    "pca = PCA(n_components=0.999, svd_solver='full')\n",
    "pca.fit(x_scaled)\n",
    "x_scaled_pca = pca.transform(x_scaled)\n",
    "print(np.shape(x_scaled_pca))\n",
    "pca.explained_variance_ratio_.sum()"
   ]
  },
  {
   "cell_type": "code",
   "execution_count": 7,
   "metadata": {},
   "outputs": [
    {
     "name": "stdout",
     "output_type": "stream",
     "text": [
      "(2049280, 8)\n"
     ]
    }
   ],
   "source": [
    "x_scaled_pca = CaGD_ls.add_bias(x_scaled_pca)\n",
    "print(np.shape(x_scaled_pca))"
   ]
  },
  {
   "cell_type": "code",
   "execution_count": 8,
   "metadata": {},
   "outputs": [
    {
     "name": "stderr",
     "output_type": "stream",
     "text": [
      "/Users/fcosentino/opt/anaconda3/lib/python3.7/site-packages/seaborn/distributions.py:2551: FutureWarning: `distplot` is a deprecated function and will be removed in a future version. Please adapt your code to use either `displot` (a figure-level function with similar flexibility) or `histplot` (an axes-level function for histograms).\n",
      "  warnings.warn(msg, FutureWarning)\n"
     ]
    },
    {
     "data": {
      "text/plain": [
       "3.239985888491173"
      ]
     },
     "execution_count": 8,
     "metadata": {},
     "output_type": "execute_result"
    },
    {
     "data": {
      "image/png": "[encoded data removed]",
      "text/plain": [
       "<Figure size 432x288 with 1 Axes>"
      ]
     },
     "metadata": {
      "needs_background": "light"
     },
     "output_type": "display_data"
    }
   ],
   "source": [
    "import seaborn as sns\n",
    "sns.distplot(y, hist=True, kde=True, \n",
    "             bins=int(180/5), color = 'darkblue', \n",
    "             hist_kws={'edgecolor':'black'},\n",
    "             kde_kws={'linewidth': 4})\n",
    "y.std()"
   ]
  },
  {
   "cell_type": "code",
   "execution_count": 9,
   "metadata": {
    "scrolled": true
   },
   "outputs": [
    {
     "name": "stdout",
     "output_type": "stream",
     "text": [
      "number of parameters  8\n",
      "number of points  2049280\n"
     ]
    }
   ],
   "source": [
    "lr = 1e-3  \n",
    "block_dim = 2 \n",
    "loss_accepted = 1e-5\n",
    "max_iter = 5e1\n",
    "lambda_LASSO = 1e-2\n",
    "batch_size = 256\n",
    "\n",
    "n = np.shape(x_scaled_pca)[1]\n",
    "print(\"number of parameters \", n)\n",
    "print(\"number of points \", x_scaled_pca.shape[0])\n",
    "theta_0 = np.random.uniform(-1/n**0.5,1/n**0.5,n)"
   ]
  },
  {
   "cell_type": "code",
   "execution_count": 10,
   "metadata": {
    "scrolled": true
   },
   "outputs": [
    {
     "name": "stdout",
     "output_type": "stream",
     "text": [
      "iteration =  0  | loss =  58144.87847628718  | time =  0.011284497000019655\n",
      "iteration =  1  | loss =  58144.87774642416  | time =  0.1390587620000474\n",
      "PID parallel:  23146  | process number  0\n",
      "iteration =  3  | loss =  57472.37486853506  | time =  0.5261386619999939\n",
      "PID parallel:  23148  | process number  0\n",
      "iteration =  5  | loss =  56065.30278296926  | time =  0.9791096339999967\n",
      "PID parallel:  23150  | process number  0\n",
      "iteration =  7  | loss =  54099.06111357234  | time =  1.425262454999995\n",
      "PID parallel:  23152  | process number  0\n",
      "iteration =  9  | loss =  51725.24570498805  | time =  1.8809904010000196\n",
      "PID parallel:  23154  | process number  0\n",
      "iteration =  11  | loss =  49073.09136418616  | time =  2.3215866410000103\n",
      "PID parallel:  23156  | process number  0\n",
      "iteration =  13  | loss =  46249.73972011763  | time =  2.778176701999996\n",
      "PID parallel:  23158  | process number  0\n",
      "iteration =  15  | loss =  43341.532338486584  | time =  3.2216395330000296\n",
      "PID parallel:  23160  | process number  0\n",
      "iteration =  17  | loss =  40417.04582051324  | time =  3.6727133790000153\n",
      "PID parallel:  23162  | process number  0\n",
      "iteration =  19  | loss =  37529.08994209636  | time =  4.116483644000027\n",
      "PID parallel:  23164  | process number  0\n",
      "iteration =  21  | loss =  34717.9730844149  | time =  4.57068453100004\n",
      "PID parallel:  23166  | process number  0\n",
      "iteration =  23  | loss =  32012.9255401315  | time =  5.013944598000023\n",
      "PID parallel:  23168  | process number  0\n",
      "iteration =  25  | loss =  29434.336799338584  | time =  5.469705082000019\n",
      "PID parallel:  23170  | process number  0\n",
      "iteration =  27  | loss =  26995.215664793785  | time =  5.911004874000014\n",
      "PID parallel:  23172  | process number  0\n",
      "iteration =  29  | loss =  24703.16839244627  | time =  6.370590825000022\n",
      "PID parallel:  23175  | process number  0\n",
      "iteration =  31  | loss =  22561.26393919979  | time =  6.8216417230000275\n",
      "PID parallel:  23177  | process number  0\n",
      "iteration =  33  | loss =  20569.197396876298  | time =  7.270995129000028\n",
      "PID parallel:  23179  | process number  0\n",
      "iteration =  35  | loss =  18723.945626064677  | time =  7.713859095000032\n",
      "PID parallel:  23181  | process number  0\n",
      "iteration =  37  | loss =  17020.757623141893  | time =  8.179841509000028\n",
      "PID parallel:  23183  | process number  0\n",
      "iteration =  39  | loss =  15453.534190489376  | time =  8.627493809000043\n",
      "PID parallel:  23185  | process number  0\n",
      "iteration =  41  | loss =  14015.305767817066  | time =  9.08730175200003\n",
      "PID parallel:  23187  | process number  0\n",
      "iteration =  43  | loss =  12698.571399549275  | time =  9.532181753000032\n",
      "PID parallel:  23189  | process number  0\n",
      "iteration =  45  | loss =  11495.531966546065  | time =  9.989863877000005\n",
      "PID parallel:  23191  | process number  0\n",
      "iteration =  47  | loss =  10398.405606065078  | time =  10.433570438999993\n",
      "PID parallel:  23193  | process number  0\n",
      "iteration =  49  | loss =  9399.477624379437  | time =  10.889594144\n",
      "PID parallel:  23195  | process number  0\n",
      "iteration =  50  | loss =  8491.250168969398  | time =  11.148415014000022\n"
     ]
    }
   ],
   "source": [
    "loss_momBCD_GS,iteration_momBCD_GS,theta_momBCD_GS,t_momBCD_GS = CaGD_ls.mom_BCD_GS_ls(\n",
    "                            x_scaled_pca,y,theta_0,lambda_LASSO,lr,loss_accepted,max_iter,2,0.75)"
   ]
  },
  {
   "cell_type": "code",
   "execution_count": 11,
   "metadata": {
    "scrolled": true
   },
   "outputs": [
    {
     "name": "stdout",
     "output_type": "stream",
     "text": [
      "iteration =  0  | loss =  58144.87847628718  | time =  0.011369242000000668\n",
      "iteration =  0  | loss =  58144.87847628718  | time =  0.012221323000005668\n",
      "PID parallel:  23197  | process number  0PID parallel: \n",
      " 23198 PID parallel:  | process number   231991 \n",
      " | process number  2\n",
      "PID parallel:  PID parallel: 23200 PID parallel:  23201   | process number 23202 | process number     | process number 43 \n",
      "\n",
      "5\n",
      "iteration =  6  | loss =  57912.3149772826  | time =  0.4962225429999876\n",
      "PID parallel:  23204  | process number  0\n",
      "PID parallel: PID parallel:   2320523206   | process number  | process number   PID parallel: 12 \n",
      "\n",
      "23207  | process number  PID parallel: 3 \n",
      "23208PID parallel:   | process number   232094  | process number \n",
      " 5\n",
      "iteration =  12  | loss =  57911.981625945235  | time =  0.9836726899999917\n",
      "PID parallel: PID parallel:   2321123212PID parallel:    PID parallel:  | process number  | process number 23214    2321310 \n",
      " | process number \n",
      " | process number  PID parallel: PID parallel: 3   \n",
      "22321523217\n",
      "   | process number   | process number 4 \n",
      "5\n",
      "iteration =  18  | loss =  57472.14941460269  | time =  1.474122009000041\n",
      "PID parallel: PID parallel: PID parallel: PID parallel: PID parallel: PID parallel:       232242322323220232212321923222       | process number  | process number  | process number  | process number  | process number  | process number     24 1\n",
      "\n",
      "0 3\n",
      "\n",
      "\n",
      "5\n",
      "iteration =  24  | loss =  57472.13366791501  | time =  1.9603189040000188\n",
      "PID parallel:  23226  | process number PID parallel:  PID parallel:  232270  \n",
      "23228 | process number    | process number PID parallel: 1  \n",
      "223229\n",
      "  | process number  PID parallel: 3 \n",
      "23230 PID parallel:  | process number   23231 4 | process number \n",
      " 5\n",
      "iteration =  30  | loss =  56849.19686841666  | time =  2.4402454810000336\n",
      "PID parallel:  23233  | process number  0\n",
      "PID parallel:  23234PID parallel:    | process number 23235 PID parallel:  1  | process number \n",
      "PID parallel:  23237 2 \n",
      " | process number 23236  4 | process number \n",
      " 3\n",
      "PID parallel:  23238  | process number  5\n",
      "iteration =  36  | loss =  56065.30333032675  | time =  2.931911678000006\n",
      "PID parallel:  23240 PID parallel:  | process number  PID parallel:  PID parallel: 23241 0  23242\n",
      "23243 | process number     | process number PID parallel:   | process number 1 2 \n",
      "232443\n",
      "\n",
      "  | process number  4\n",
      "PID parallel:  23245  | process number  5\n",
      "iteration =  42  | loss =  56065.44333766675  | time =  3.4123138479999966\n",
      "PID parallel:  23247  | process number  0PID parallel: PID parallel:   PID parallel: \n",
      " 232482324923250    | process number  | process number  | process number    123\n",
      "\n",
      "\n",
      "PID parallel: PID parallel:   2325123252   | process number  | process number   45\n",
      "\n",
      "iteration =  48  | loss =  55142.030450008555  | time =  3.8956037010000273\n",
      "PID parallel:  23255PID parallel:   PID parallel:  | process number 23254   232561 | process number  PID parallel: \n",
      "  | process number  023257 \n",
      " 2 | process number \n",
      " 3\n",
      "PID parallel:  23259PID parallel:    | process number 23258  5 | process number  \n",
      "4\n",
      "iteration =  54  | loss =  54098.746375094575  | time =  4.381026488000032\n"
     ]
    }
   ],
   "source": [
    "loss_randomBCD_GS,iteration_randomBCD_GS,theta_randomBCD_GS,t_randomBCD_GS = CaGD_ls.mom_BCD_random_ls(\n",
    "                            x_scaled_pca,y,theta_0,lambda_LASSO,lr,loss_accepted,max_iter,2,0.75)"
   ]
  },
  {
   "cell_type": "code",
   "execution_count": 12,
   "metadata": {
    "scrolled": true
   },
   "outputs": [
    {
     "name": "stdout",
     "output_type": "stream",
     "text": [
      "iteration =  0  | loss =  58144.87847628718  | time =  0.010421962000009444\n",
      "iteration =  1  | loss =  58144.87774642416  | time =  0.13056073300003845\n",
      "PID parallel:  23261  | process number  0\n",
      "iteration =  3  | loss =  57680.77229805938  | time =  0.5840548370000533\n",
      "PID parallel:  23263  | process number  0\n",
      "iteration =  5  | loss =  57220.605724432935  | time =  1.0282373990000337\n",
      "PID parallel:  23265  | process number  0\n",
      "iteration =  7  | loss =  56764.21245363657  | time =  1.482909545000041\n",
      "PID parallel:  23267  | process number  0\n",
      "iteration =  9  | loss =  56311.50602777107  | time =  1.9287534420000156\n",
      "PID parallel:  23269  | process number  0\n",
      "iteration =  11  | loss =  55862.43153901507  | time =  2.382100863000005\n",
      "PID parallel:  23271  | process number  0\n",
      "iteration =  13  | loss =  55416.940401066226  | time =  2.8271896260000062\n",
      "PID parallel:  23273  | process number  0\n",
      "iteration =  15  | loss =  54975.004373082265  | time =  3.279492345000051\n",
      "PID parallel:  23275  | process number  0\n",
      "iteration =  17  | loss =  54536.59459254691  | time =  3.723485770000025\n",
      "PID parallel:  23277  | process number  0\n",
      "iteration =  19  | loss =  54101.68259088525  | time =  4.177968141000008\n",
      "PID parallel:  23279  | process number  0\n",
      "iteration =  21  | loss =  53670.24023676838  | time =  4.6190315180000425\n",
      "PID parallel:  23281  | process number  0\n",
      "iteration =  23  | loss =  53242.239697400386  | time =  5.069485220000047\n",
      "PID parallel:  23283  | process number  0\n",
      "iteration =  25  | loss =  52817.6534119059  | time =  5.515701183000033\n",
      "PID parallel:  23285  | process number  0\n",
      "iteration =  27  | loss =  52396.454072860906  | time =  5.9713970430000245\n",
      "PID parallel:  23287  | process number  0\n",
      "iteration =  29  | loss =  51978.614613306694  | time =  6.413417429000049\n",
      "PID parallel:  23289  | process number  0\n",
      "iteration =  31  | loss =  51564.108197455585  | time =  6.875636233000023\n",
      "PID parallel:  23292  | process number  0\n",
      "iteration =  33  | loss =  51152.90821388446  | time =  7.319682164000028\n",
      "PID parallel:  23294  | process number  0\n",
      "iteration =  35  | loss =  50744.98827040711  | time =  7.77788990800002\n",
      "PID parallel:  23296  | process number  0\n",
      "iteration =  37  | loss =  50340.322190078645  | time =  8.221787512000049\n",
      "PID parallel:  23298  | process number  0\n",
      "iteration =  39  | loss =  49938.8840079671  | time =  8.677957602000049\n",
      "PID parallel:  23300  | process number  0\n",
      "iteration =  41  | loss =  49540.64796893593  | time =  9.124156602000028\n",
      "PID parallel:  23302  | process number  0\n",
      "iteration =  43  | loss =  49145.588525045  | time =  9.578635801000019\n",
      "PID parallel:  23304  | process number  0\n",
      "iteration =  45  | loss =  48753.68033232504  | time =  10.017860708\n",
      "PID parallel:  23306  | process number  0\n",
      "iteration =  47  | loss =  48364.89824775469  | time =  10.480024352000044\n",
      "PID parallel:  23308  | process number  0\n",
      "iteration =  49  | loss =  47979.21733177353  | time =  10.93281541600004\n",
      "PID parallel:  23310  | process number  0\n",
      "iteration =  50  | loss =  47596.60846588875  | time =  11.195789805000004\n"
     ]
    }
   ],
   "source": [
    "loss_BCD_GS,iteration_BCD_GS,theta_BCD_GS,t_BCD_GS = CaGD_ls.BCD_GS_ls(\n",
    "                            x_scaled_pca,y,theta_0,lambda_LASSO,lr,loss_accepted,max_iter,2,0.75)"
   ]
  },
  {
   "cell_type": "code",
   "execution_count": 13,
   "metadata": {
    "scrolled": true
   },
   "outputs": [
    {
     "name": "stdout",
     "output_type": "stream",
     "text": [
      "iteration =  0  | loss =  58144.87847628718  | time =  0.011972288999970715\n",
      "iteration =  2  | loss =  57912.30292514359  | time =  0.3474811620000082\n",
      "PID parallel:  23312  | process number  0  | iterations CA =  100\n",
      "iteration =  4  | loss =  533.4899566381672  | time =  1.1885289829999692\n",
      "PID parallel:  23314  | process number  0  | iterations CA =  12\n",
      "iteration =  6  | loss =  274.7746849362493  | time =  2.097054233999984\n",
      "PID parallel:  23316  | process number  0  | iterations CA =  30\n",
      "iteration =  8  | loss =  62.71825935722531  | time =  2.997981781999954\n",
      "PID parallel:  23318  | process number  0  | iterations CA =  55\n",
      "iteration =  10  | loss =  13.867046953262282  | time =  3.897866070999953\n",
      "PID parallel:  23320  | process number  0  | iterations CA =  12\n",
      "iteration =  12  | loss =  12.55808244887991  | time =  4.804955430999996\n",
      "PID parallel:  23322  | process number  0  | iterations CA =  25\n",
      "iteration =  14  | loss =  11.569635146595498  | time =  5.711986336999985\n",
      "PID parallel:  23324  | process number  0  | iterations CA =  18\n",
      "PID parallel:  23325  | process number  1  | iterations CA =  100\n",
      "iteration =  16  | loss =  11.345556708232706  | time =  6.7092051980000065\n",
      "PID parallel:  23327  | process number  0  | iterations CA =  100\n",
      "iteration =  18  | loss =  11.237514229214657  | time =  7.616935345999991\n",
      "PID parallel:  23329  | process number  0  | iterations CA =  3\n",
      "PID parallel:  23330  | process number  1  | iterations CA =  81\n",
      "iteration =  20  | loss =  11.22668057672071  | time =  8.610289886999965\n",
      "PID parallel:  23332  | process number  0  | iterations CA =  16\n",
      "iteration =  22  | loss =  11.19773558884967  | time =  9.513445156999978\n",
      "PID parallel:  23334  | process number  0  | iterations CA =  5\n",
      "PID parallel:  23335  | process number  1  | iterations CA =  2\n",
      "iteration =  24  | loss =  11.194388141348284  | time =  10.504146117999994\n",
      "PID parallel:  23337  | process number  0  | iterations CA =  3\n",
      "PID parallel:  23338  | process number  1  | iterations CA =  26\n",
      "iteration =  26  | loss =  11.192398889994823  | time =  11.506492618999971\n",
      "PID parallel:  23341  | process number  0  | iterations CA =  34\n",
      "PID parallel:  23342  | process number  1  | iterations CA =  2\n",
      "iteration =  28  | loss =  11.19103054306038  | time =  12.492962654999985\n",
      "PID parallel:  23344  | process number  0  | iterations CA =  20\n",
      "PID parallel:  23345  | process number  1  | iterations CA =  14\n",
      "iteration =  30  | loss =  11.190546597729325  | time =  13.483517055999982\n",
      "PID parallel:  23347  | process number  0  | iterations CA =  7\n",
      "PID parallel:  23348  | process number  1  | iterations CA =  5\n",
      "iteration =  32  | loss =  11.190482036813625  | time =  14.482440889999964\n",
      "PID parallel:  23350  | process number  0  | iterations CA =  9\n",
      "PID parallel:  23351  | process number  1  | iterations CA =  2\n",
      "iteration =  34  | loss =  11.190416378525178  | time =  15.473003275999986\n",
      "PID parallel:  23353  | process number  0  | iterations CA =  1\n",
      "PID parallel:  23354  | process number  1  | iterations CA =  1\n",
      "iteration =  36  | loss =  11.19042001750043  | time =  16.467450318999965\n",
      "PID parallel:  23356  | process number  0  | iterations CA =  1\n",
      "PID parallel:  23357  | process number  1  | iterations CA =  1\n",
      "PID parallel:  23358  | process number  2  | iterations CA =  1\n",
      "iteration =  38  | loss =  11.190422755674874  | time =  17.547637245999965\n",
      "PID parallel:  23360  | process number  0  | iterations CA =  1\n",
      "PID parallel:  23361  | process number  1  | iterations CA =  1\n",
      "iteration =  40  | loss =  11.190422205447785  | time =  18.538247444999968\n",
      "PID parallel:  23363  | process number  0  | iterations CA =  1\n",
      "PID parallel:  23364  | process number  1  | iterations CA =  1\n",
      "iteration =  42  | loss =  11.190418257330814  | time =  19.527032222000003\n",
      "PID parallel:  23366  | process number  0  | iterations CA =  1\n",
      "PID parallel:  23367  | process number  1  | iterations CA =  1\n",
      "iteration =  44  | loss =  11.190412133270891  | time =  20.531540700999983\n",
      "PID parallel:  23369  | process number  0  | iterations CA =  1\n",
      "PID parallel:  23370  | process number  1  | iterations CA =  4\n",
      "iteration =  46  | loss =  11.190383483336717  | time =  21.532229532999963\n",
      "PID parallel:  23372  | process number  0  | iterations CA =  1\n",
      "PID parallel:  23373  | process number  1  | iterations CA =  1\n",
      "iteration =  48  | loss =  11.190375110175337  | time =  22.517885460000002\n",
      "PID parallel:  23376  | process number  0  | iterations CA =  1\n",
      "PID parallel:  23377  | process number  1  | iterations CA =  1\n",
      "iteration =  50  | loss =  11.190365298842654  | time =  23.51425047099997\n",
      "PID parallel:  23379  | process number  0  | iterations CA =  1\n",
      "PID parallel:  23380  | process number  1  | iterations CA =  1\n",
      "iteration =  50  | loss =  11.190365298842654  | time =  23.962817909999956\n"
     ]
    }
   ],
   "source": [
    "loss_momCA_GS,iteration_momCA_GS,theta_momCA_GS,t_momCA_GS = CaGD_ls.mom_CA_BCD_GS_ls(\n",
    "                            x_scaled_pca,y,theta_0,lambda_LASSO,lr,loss_accepted,max_iter,2,0.75)"
   ]
  },
  {
   "cell_type": "code",
   "execution_count": 14,
   "metadata": {
    "scrolled": true
   },
   "outputs": [
    {
     "name": "stdout",
     "output_type": "stream",
     "text": [
      "iteration =  0  | loss =  58144.87847628718  | time =  0.01074277599997231\n",
      "iteration =  2  | loss =  57912.56711773291  | time =  0.2381769570000074\n",
      "PID parallel:  23383 PID parallel:  | process number   123382   | process number  | iterations CA =   08 \n",
      " | iterations CA =  35\n",
      "iteration =  4  | loss =  16351.437654124378  | time =  0.8754094579999787\n",
      "PID parallel:  PID parallel: 23385  23386 | process number    | process number 0  1 | iterations CA =   56 | iterations CA = \n",
      " 1\n",
      "iteration =  6  | loss =  15578.323692172928  | time =  1.5133586860000037\n",
      "PID parallel:  23388  | process number PID parallel:   023389   | iterations CA =  | process number   11\n",
      "  | iterations CA =  100\n",
      "iteration =  8  | loss =  89.4403103356863  | time =  2.1874911709999765\n",
      "PID parallel: PID parallel:   2339123392   | process number  | process number  0  1  | iterations CA =  | iterations CA =  6 \n",
      "1\n",
      "iteration =  10  | loss =  65.46846732141931  | time =  2.871225783\n",
      "PID parallel: PID parallel:   2339423395   | process number  | process number   01   | iterations CA =  | iterations CA =   2915\n",
      "\n",
      "iteration =  12  | loss =  23.137720427344608  | time =  3.5468346220000058\n",
      "PID parallel:  23397  | process number PID parallel:   023398   | iterations CA =  | process number   11\n",
      "  | iterations CA =  100\n",
      "iteration =  14  | loss =  22.998305318428063  | time =  4.225669691999997\n",
      "PID parallel:  PID parallel: 23401 23402  | process number    | process number 0  1  | iterations CA =   | iterations CA = 28 50\n",
      "\n",
      "iteration =  16  | loss =  22.37857900879182  | time =  4.900263745000018\n",
      "PID parallel:  23404PID parallel:   | process number  23405  0 | process number    | iterations CA = 1  18 | iterations CA = \n",
      " 37\n",
      "iteration =  18  | loss =  13.079673930994522  | time =  5.591805033000014\n",
      "PID parallel:  23407 PID parallel:  | process number   234080   | process number  | iterations CA =   11\n",
      "  | iterations CA =  1\n",
      "iteration =  20  | loss =  12.980694643066547  | time =  6.271194160999983\n",
      "PID parallel:  PID parallel:  2341023411   | process number   | process number 0 1  | iterations CA =    | iterations CA = 4 \n",
      "35\n",
      "iteration =  22  | loss =  11.665343472545816  | time =  6.943224683999972\n",
      "PID parallel:  23413  | process number  0 PID parallel:  | iterations CA =  23414 28  | process number \n",
      " 1  | iterations CA =  37\n",
      "iteration =  24  | loss =  11.767735995258638  | time =  7.63525884500001\n",
      "PID parallel: PID parallel:   2341723416   | process number  | process number   10   | iterations CA =  | iterations CA =   9\n",
      "1\n",
      "iteration =  26  | loss =  11.465713637194467  | time =  8.30257952400001\n",
      "PID parallel:  23419  | process number  0  | iterations CA =  PID parallel:  5\n",
      "23420  | process number  1  | iterations CA =  86\n",
      "iteration =  28  | loss =  11.383980348923023  | time =  8.983498156999985\n",
      "PID parallel: PID parallel:   2342323422   | process number  | process number   01   | iterations CA =  | iterations CA =   231\n",
      "\n",
      "iteration =  30  | loss =  11.372031675252966  | time =  9.65457045300002\n",
      "PID parallel:  23425 PID parallel:  | process number   234260   | process number  | iterations CA =   11 \n",
      " | iterations CA =  100\n",
      "iteration =  32  | loss =  11.886207184564457  | time =  10.329073544999972\n",
      "PID parallel: PID parallel:   2342923428   | process number  | process number   10   | iterations CA =  | iterations CA =   118\n",
      "\n",
      "iteration =  34  | loss =  11.898785533398208  | time =  10.99698258699999\n",
      "PID parallel:  PID parallel: 23432  23431 | process number    | process number 1  0 | iterations CA =   | iterations CA =   19\n",
      "\n",
      "iteration =  36  | loss =  11.877804740609825  | time =  11.697964574000025\n",
      "PID parallel:  23435PID parallel:   | process number   234360   | process number  | iterations CA =   11 \n",
      " | iterations CA =  1\n",
      "iteration =  38  | loss =  11.883151200327799  | time =  12.377407928000025\n",
      "PID parallel:  23438PID parallel:    | process number 23439  0 | process number    | iterations CA = 1  28 | iterations CA = \n",
      " 1\n",
      "iteration =  40  | loss =  11.298197658596836  | time =  13.053861057999995\n",
      "PID parallel:  23441  | process number  0  | iterations CA =  1\n",
      "PID parallel:  23442  | process number  1  | iterations CA =  100\n",
      "iteration =  42  | loss =  11.193016424067773  | time =  13.73597698399999\n",
      "PID parallel:  23444 PID parallel:  | process number   234450   | process number  | iterations CA =  1  1\n",
      " | iterations CA =  20\n",
      "iteration =  44  | loss =  11.192121499637379  | time =  14.408504409999978\n",
      "PID parallel:  23447 PID parallel:   | process number 23448  0  | process number  | iterations CA =   133 \n",
      " | iterations CA =  1\n",
      "iteration =  46  | loss =  11.19310844035712  | time =  15.085498540999993\n",
      "PID parallel:  23451 PID parallel:  | process number   123450   | iterations CA =  | process number   10\n",
      "  | iterations CA =  1\n",
      "iteration =  48  | loss =  11.194603898325024  | time =  15.752973224000016\n",
      "PID parallel:  23453  | process number  PID parallel: 0  23454 | iterations CA =   1 | process number \n",
      " 1  | iterations CA =  1\n",
      "iteration =  50  | loss =  11.1962724735871  | time =  16.42548638599999\n",
      "PID parallel:  PID parallel: 23456  23457 | process number   0 | process number    | iterations CA = 1   | iterations CA = 45 \n",
      "1\n",
      "iteration =  50  | loss =  11.19586340042  | time =  16.772358440000005\n"
     ]
    }
   ],
   "source": [
    "loss_momCA_random,iteration_momCA_random,theta_momCA_random,t_momCA_random = CaGD_ls.mom_CA_BCD_random_ls(\n",
    "                            x_scaled_pca,y,theta_0,lambda_LASSO,lr,loss_accepted,max_iter,2,0.5)"
   ]
  },
  {
   "cell_type": "code",
   "execution_count": 15,
   "metadata": {
    "scrolled": true
   },
   "outputs": [
    {
     "name": "stdout",
     "output_type": "stream",
     "text": [
      "iteration =  0  | loss =  58144.87847628718  | time =  0.011560392000035336\n",
      "iteration =  2  | loss =  57912.30292514359  | time =  0.2855161100000032\n",
      "PID parallel:  23459  | process number  0  | iterations CA =  100\n",
      "iteration =  4  | loss =  38652.95560102794  | time =  1.0543608120000272\n",
      "PID parallel:  23461  | process number  0  | iterations CA =  100\n",
      "iteration =  6  | loss =  25799.250609116145  | time =  1.8443362589999879\n",
      "PID parallel:  23463  | process number  0  | iterations CA =  100\n",
      "iteration =  8  | loss =  17221.362015049075  | time =  2.6354404900000077\n",
      "PID parallel:  23465  | process number  0  | iterations CA =  100\n",
      "iteration =  10  | loss =  11496.798478940667  | time =  3.4227017119999914\n",
      "PID parallel:  23467  | process number  0  | iterations CA =  100\n",
      "iteration =  12  | loss =  7676.356724479476  | time =  4.213107575000038\n",
      "PID parallel:  23469  | process number  0  | iterations CA =  100\n",
      "iteration =  14  | loss =  5126.7811668709055  | time =  4.994402783999988\n",
      "PID parallel:  23471  | process number  0  | iterations CA =  100\n",
      "iteration =  16  | loss =  3425.1931383850583  | time =  5.772504846000004\n",
      "PID parallel:  23473  | process number  0  | iterations CA =  100\n",
      "iteration =  18  | loss =  2289.618672461164  | time =  6.548698169000033\n",
      "PID parallel:  23475  | process number  0  | iterations CA =  100\n",
      "iteration =  20  | loss =  1531.7693117000783  | time =  7.339304576000018\n",
      "PID parallel:  23477  | process number  0  | iterations CA =  100\n",
      "iteration =  22  | loss =  1025.9959767553407  | time =  8.124351895000018\n",
      "PID parallel:  23479  | process number  0  | iterations CA =  100\n",
      "iteration =  24  | loss =  688.4478960214356  | time =  8.907855007000023\n",
      "PID parallel:  23481  | process number  0  | iterations CA =  100\n",
      "iteration =  26  | loss =  463.1821324390539  | time =  9.692982829000016\n",
      "PID parallel:  23483  | process number  0  | iterations CA =  100\n",
      "iteration =  28  | loss =  312.8448772959519  | time =  10.473386062000031\n",
      "PID parallel:  23485  | process number  0  | iterations CA =  100\n",
      "iteration =  30  | loss =  212.5130774871286  | time =  11.253561235999996\n",
      "PID parallel:  23487  | process number  0  | iterations CA =  100\n",
      "iteration =  32  | loss =  145.55371634576133  | time =  12.039536510999994\n",
      "PID parallel:  23489  | process number  0  | iterations CA =  100\n",
      "iteration =  34  | loss =  100.86898573319445  | time =  12.822317251000015\n",
      "PID parallel:  23491  | process number  0  | iterations CA =  100\n",
      "iteration =  36  | loss =  71.04037679211213  | time =  13.60266021800004\n",
      "PID parallel:  23493  | process number  0  | iterations CA =  100\n",
      "iteration =  38  | loss =  51.13480613971913  | time =  14.396325976000014\n",
      "PID parallel:  23495  | process number  0  | iterations CA =  100\n",
      "iteration =  40  | loss =  37.84878549082053  | time =  15.178623816000027\n",
      "PID parallel:  23497  | process number  0  | iterations CA =  100\n",
      "iteration =  42  | loss =  28.98478091174495  | time =  15.98803843600001\n",
      "PID parallel:  23499  | process number  0  | iterations CA =  100\n",
      "iteration =  44  | loss =  23.066540980982833  | time =  16.765588552999986\n",
      "PID parallel:  23501  | process number  0  | iterations CA =  100\n",
      "iteration =  46  | loss =  19.118861541226636  | time =  17.548281425000027\n",
      "PID parallel:  23503  | process number  0  | iterations CA =  100\n",
      "iteration =  48  | loss =  16.481532594302987  | time =  18.341936486999998\n",
      "PID parallel:  23505  | process number  0  | iterations CA =  89\n",
      "iteration =  50  | loss =  14.878121201958686  | time =  19.12994530399999\n",
      "PID parallel:  23507  | process number  0  | iterations CA =  100\n",
      "iteration =  50  | loss =  13.661917333633099  | time =  19.490315355000007\n"
     ]
    }
   ],
   "source": [
    "loss_CABCD_stand_GS,iteration_CABCD_stand_GS,theta_CABCD_stand_GS,t_CABCD_stand_GS = CaGD_ls.CA_BCD_GS_ls(\n",
    "                             x_scaled_pca,y,theta_0,lambda_LASSO,lr,loss_accepted,max_iter,2,0.75)"
   ]
  },
  {
   "cell_type": "code",
   "execution_count": 16,
   "metadata": {
    "scrolled": true
   },
   "outputs": [
    {
     "name": "stdout",
     "output_type": "stream",
     "text": [
      "iteration =  0  | loss =  58144.87847628718  | time =  0.011570215000006101\n",
      "iteration =  1  | loss =  54442.56949031716  | time =  0.5547722489999956\n",
      "iteration =  2  | loss =  50790.24647826186  | time =  1.0889156719999846\n",
      "iteration =  3  | loss =  47265.49322053992  | time =  1.6192129909999835\n",
      "iteration =  4  | loss =  43868.369013904805  | time =  2.163480791999973\n",
      "iteration =  5  | loss =  40598.81515309088  | time =  2.6978419749999603\n",
      "iteration =  6  | loss =  37456.85005322459  | time =  3.219395338999959\n",
      "iteration =  7  | loss =  34442.38978263563  | time =  3.7409629599999903\n",
      "iteration =  8  | loss =  31555.47078871887  | time =  4.2664949320000005\n",
      "iteration =  9  | loss =  28796.04274833854  | time =  4.811980285000004\n",
      "iteration =  10  | loss =  26164.09685621553  | time =  5.343684682000003\n",
      "iteration =  11  | loss =  23659.613409806247  | time =  5.865241228000002\n",
      "iteration =  12  | loss =  21282.545984372857  | time =  6.396432846999971\n",
      "iteration =  13  | loss =  19032.88714388549  | time =  6.9225141599999915\n",
      "iteration =  14  | loss =  16910.554006641105  | time =  7.446963983999979\n",
      "iteration =  15  | loss =  14915.612496706604  | time =  7.9652867730000025\n",
      "iteration =  16  | loss =  13048.009763055228  | time =  8.48943121100001\n",
      "iteration =  17  | loss =  11307.699223190752  | time =  9.012573481000004\n",
      "iteration =  18  | loss =  9694.805291992152  | time =  9.536971125999969\n",
      "iteration =  19  | loss =  8209.204854357065  | time =  10.062793954999961\n",
      "iteration =  20  | loss =  6851.191513727872  | time =  10.581389964999971\n",
      "iteration =  21  | loss =  5620.9172714831275  | time =  11.106117727999958\n",
      "iteration =  22  | loss =  4518.954297833081  | time =  11.666346411000006\n",
      "iteration =  23  | loss =  3546.7102410161706  | time =  12.186202304999995\n",
      "iteration =  24  | loss =  2707.8903684004513  | time =  12.715603691000013\n",
      "iteration =  25  | loss =  2017.163514550243  | time =  13.251379764999967\n",
      "iteration =  26  | loss =  1618.5874523852099  | time =  13.76529076899999\n",
      "iteration =  27  | loss =  1615.1329369621537  | time =  14.298604759\n",
      "iteration =  28  | loss =  1613.5052154773261  | time =  14.875135760999967\n",
      "iteration =  29  | loss =  1615.0955165353841  | time =  15.410848310000006\n",
      "iteration =  30  | loss =  1615.2284589087806  | time =  15.937242856000012\n",
      "iteration =  31  | loss =  1614.15623009348  | time =  16.461909289000005\n",
      "iteration =  32  | loss =  1615.9607911245635  | time =  16.987594102999992\n",
      "iteration =  33  | loss =  1614.6499172163149  | time =  17.507871867000006\n",
      "iteration =  34  | loss =  1613.1718442215497  | time =  18.03543228000001\n",
      "iteration =  35  | loss =  1614.9861257439122  | time =  18.564455441000007\n",
      "iteration =  36  | loss =  1613.60842357564  | time =  19.09175810199997\n",
      "iteration =  37  | loss =  1615.5967478557122  | time =  19.618290657999978\n",
      "iteration =  38  | loss =  1613.197575435567  | time =  20.148617602\n",
      "iteration =  39  | loss =  1614.51150227734  | time =  20.676812116000008\n",
      "iteration =  40  | loss =  1614.9535133063823  | time =  21.206684334999977\n",
      "iteration =  41  | loss =  1614.3068690740524  | time =  21.737903422999977\n",
      "iteration =  42  | loss =  1613.987584564797  | time =  22.264376999999968\n",
      "iteration =  43  | loss =  1615.53209561021  | time =  22.79628025599999\n",
      "iteration =  44  | loss =  1616.025948815454  | time =  23.324892401\n",
      "iteration =  45  | loss =  1613.7150877077058  | time =  23.843830529\n",
      "iteration =  46  | loss =  1615.4099888427202  | time =  24.371003859999973\n",
      "iteration =  47  | loss =  1613.2225641269547  | time =  24.891810582000005\n",
      "iteration =  48  | loss =  1614.1233419006753  | time =  25.42910333599997\n",
      "iteration =  49  | loss =  1614.2145232453856  | time =  25.953392323999992\n",
      "iteration =  50  | loss =  1614.3506745554657  | time =  26.48108380100001\n",
      "iteration =  51  | loss =  1614.4416068904152  | time =  27.00503086499998\n"
     ]
    }
   ],
   "source": [
    "loss_ADAM,iteration_ADAM,theta_ADAM,t_ADAM = CaGD_ls.ADAM_ls(x_scaled_pca,y,theta_0,lambda_LASSO,batch_size,lr,loss_accepted,max_iter)"
   ]
  },
  {
   "cell_type": "code",
   "execution_count": 17,
   "metadata": {
    "scrolled": true
   },
   "outputs": [
    {
     "name": "stdout",
     "output_type": "stream",
     "text": [
      "iteration =  0  | loss =  58144.87847628718  | time =  0.05557073099998888\n",
      "iteration =  1  | loss =  56304.80096891193  | time =  0.8314107890000173\n",
      "iteration =  2  | loss =  54514.21998468262  | time =  1.8526989000000071\n",
      "iteration =  3  | loss =  52780.574526757955  | time =  2.8833593489999885\n",
      "iteration =  4  | loss =  51102.07825466511  | time =  3.879619907999995\n",
      "iteration =  5  | loss =  49476.97546996412  | time =  4.896410796999987\n",
      "iteration =  6  | loss =  47903.565821326774  | time =  5.898077832000013\n",
      "iteration =  7  | loss =  46380.20788012028  | time =  6.90461471399999\n",
      "iteration =  8  | loss =  44905.307520535425  | time =  7.920452736000016\n",
      "iteration =  9  | loss =  43477.31942367883  | time =  8.934249371000021\n",
      "iteration =  10  | loss =  42094.75740106715  | time =  9.943712038000001\n",
      "iteration =  11  | loss =  40756.17282205371  | time =  10.962973248000026\n",
      "iteration =  12  | loss =  39460.167348856485  | time =  11.983067112000015\n",
      "iteration =  13  | loss =  38205.38801114458  | time =  12.997407948999978\n",
      "iteration =  14  | loss =  36990.52083528167  | time =  14.01360797000001\n",
      "iteration =  15  | loss =  35814.29581481971  | time =  15.028755357000023\n",
      "iteration =  16  | loss =  34675.48493220654  | time =  16.05427284199999\n",
      "iteration =  17  | loss =  33572.89718588553  | time =  17.061635690999992\n",
      "iteration =  18  | loss =  32505.380600297492  | time =  18.060710917999984\n",
      "iteration =  19  | loss =  31471.820452609216  | time =  19.05836102799998\n",
      "iteration =  20  | loss =  30471.136026385928  | time =  20.063301449999983\n",
      "iteration =  21  | loss =  29502.280773852  | time =  21.06916879099998\n",
      "iteration =  22  | loss =  28564.24340435159  | time =  22.08415587899998\n",
      "iteration =  23  | loss =  27656.0441541874  | time =  23.099038495000002\n",
      "iteration =  24  | loss =  26776.73264538834  | time =  24.116401311999994\n",
      "iteration =  25  | loss =  25925.388708287275  | time =  25.118732039000008\n",
      "iteration =  26  | loss =  25101.125436880546  | time =  26.13552323700003\n",
      "iteration =  27  | loss =  24303.079403397274  | time =  27.149787301000003\n",
      "iteration =  28  | loss =  23530.417866823922  | time =  28.167203614000016\n",
      "iteration =  29  | loss =  22782.334014626056  | time =  29.183843378999995\n",
      "iteration =  30  | loss =  22058.04477348368  | time =  30.188988376999987\n",
      "iteration =  31  | loss =  21356.793778663232  | time =  31.201850800999978\n",
      "iteration =  32  | loss =  20677.84833680229  | time =  32.214975122\n",
      "iteration =  33  | loss =  20020.497504406583  | time =  33.23518660100001\n",
      "iteration =  34  | loss =  19384.056363118958  | time =  34.24057270600002\n",
      "iteration =  35  | loss =  18767.858948588535  | time =  35.26169448400003\n",
      "iteration =  36  | loss =  18171.259610896104  | time =  36.26265963499998\n",
      "iteration =  37  | loss =  17593.636631868685  | time =  37.259549728000025\n",
      "iteration =  38  | loss =  17034.38740000278  | time =  38.266638202000024\n",
      "iteration =  39  | loss =  16492.92656464356  | time =  39.275452124000026\n",
      "iteration =  40  | loss =  15968.687531884354  | time =  40.27426172999998\n",
      "iteration =  41  | loss =  15461.12450926418  | time =  41.28045111\n",
      "iteration =  42  | loss =  14969.703822494948  | time =  42.295068162999996\n",
      "iteration =  43  | loss =  14493.915028292504  | time =  43.31718519999998\n",
      "iteration =  44  | loss =  14033.259757784748  | time =  44.4638248\n",
      "iteration =  45  | loss =  13587.256944150788  | time =  45.48883796299998\n",
      "iteration =  46  | loss =  13155.439642537538  | time =  46.49274828900002\n",
      "iteration =  47  | loss =  12737.357547505231  | time =  47.533073031000015\n",
      "iteration =  48  | loss =  12332.573851683459  | time =  48.54717561699999\n",
      "iteration =  49  | loss =  11940.665114507332  | time =  49.55704310300001\n",
      "iteration =  50  | loss =  11561.220696877741  | time =  50.56946017299998\n",
      "iteration =  51  | loss =  11193.846031747207  | time =  51.58016642900003\n"
     ]
    }
   ],
   "source": [
    "lr = 1e-6\n",
    "loss_SAG,iteration_SAG,theta_SAG,t_SAG = CaGD_ls.SAG_ls(x_scaled_pca,y,theta_0,lambda_LASSO,batch_size,lr,loss_accepted,max_iter)"
   ]
  },
  {
   "cell_type": "code",
   "execution_count": 18,
   "metadata": {},
   "outputs": [
    {
     "name": "stdout",
     "output_type": "stream",
     "text": [
      "loss min mom GS CA =  11.190365298842654\n",
      "loss min mom random CA =  11.192121499637379\n",
      "loss min standard GS CA =  13.661917333633099\n",
      "loss min ADAM =  1613.1718442215497\n",
      "loss min SAG =  11193.846031747207\n"
     ]
    }
   ],
   "source": [
    "print(\"loss min mom GS CA = \", min(loss_momCA_GS))\n",
    "print(\"loss min mom random CA = \", min(loss_momCA_random))\n",
    "print(\"loss min standard GS CA = \", min(loss_CABCD_stand_GS))\n",
    "print(\"loss min ADAM = \", min(loss_ADAM))\n",
    "print(\"loss min SAG = \", min(loss_SAG))"
   ]
  },
  {
   "cell_type": "code",
   "execution_count": 20,
   "metadata": {},
   "outputs": [
    {
     "data": {
      "image/png": "[encoded data removed]",
      "text/plain": [
       "<Figure size 432x288 with 1 Axes>"
      ]
     },
     "metadata": {
      "needs_background": "light"
     },
     "output_type": "display_data"
    },
    {
     "data": {
      "image/png": "[encoded data removed]",
      "text/plain": [
       "<Figure size 432x288 with 1 Axes>"
      ]
     },
     "metadata": {
      "needs_background": "light"
     },
     "output_type": "display_data"
    }
   ],
   "source": [
    "from matplotlib import pyplot as plt\n",
    "\n",
    "plt.plot(t_momBCD_GS, loss_momBCD_GS, label=\"BCD mom GS\", color='green')\n",
    "plt.plot(t_randomBCD_GS, loss_randomBCD_GS, label=\"BCD mom random\", color='blue')\n",
    "plt.plot(t_BCD_GS, loss_BCD_GS, label=\"BCD GS\", color='orange')\n",
    "plt.plot(t_momCA_GS, loss_momCA_GS, label=\"CaBCD mom GS\", linestyle='--', color='green')\n",
    "plt.plot(t_momCA_random, loss_momCA_random, label=\"CaBCD mom random\", linestyle='--', color='blue')\n",
    "plt.plot(t_CABCD_stand_GS, loss_CABCD_stand_GS, label=\"CaBCD GS\", linestyle='--', color='orange')\n",
    "plt.plot(t_ADAM, loss_ADAM, label=\"ADAM\", linestyle=':', color='red')\n",
    "plt.plot(t_SAG, loss_SAG, label=\"SAG\", linestyle=':', color='black')\n",
    "plt.legend(loc = \"right\")\n",
    "plt.title('Loss MSE vs time 3DRoads')\n",
    "plt.xlabel('time')\n",
    "plt.ylabel('loss')\n",
    "\n",
    "plt.xlim([0,10])\n",
    "plt.ylim([0,max(loss_momCA_GS)])\n",
    "# plt.savefig('CaBCD_vs_all_time_Elec.pdf', bbox_inches='tight')\n",
    "plt.show()\n",
    "\n",
    "plt.plot(iteration_momBCD_GS, loss_momBCD_GS, label=\"BCD mom GS\", color='green')\n",
    "plt.plot(iteration_randomBCD_GS, loss_randomBCD_GS, label=\"BCD mom random\", color='blue')\n",
    "plt.plot(iteration_BCD_GS, loss_BCD_GS, label=\"BCD GS\", color='orange')\n",
    "plt.plot(iteration_momCA_GS, loss_momCA_GS, label=\"CaBCD mom GS\", linestyle='--', color='green')\n",
    "plt.plot(iteration_momCA_random, loss_momCA_random, label=\"CaBCD mom random\", linestyle='--', color='blue')\n",
    "plt.plot(iteration_CABCD_stand_GS, loss_CABCD_stand_GS, label=\"CaBCD GS\", linestyle='--', color='orange')\n",
    "plt.plot(iteration_ADAM, loss_ADAM, label=\"ADAM\", linestyle=':', color='red')\n",
    "plt.plot(iteration_SAG, loss_SAG, label=\"SAG\", linestyle=':', color='black')\n",
    "plt.legend(loc = \"right\")\n",
    "plt.title('Loss MSE vs iteration Power Consumption')\n",
    "plt.xlabel('iteration (over the entire dataset)')\n",
    "plt.ylabel('loss')\n",
    "plt.xlim([0,15])\n",
    "plt.ylim([0,max(loss_momCA_GS)])\n",
    "# plt.savefig('CaBCD_vs_all_iteration_Elec.pdf', bbox_inches='tight')\n",
    "plt.show()"
   ]
  },
  {
   "cell_type": "code",
   "execution_count": null,
   "metadata": {},
   "outputs": [],
   "source": []
  }
 ],
 "metadata": {
  "kernelspec": {
   "display_name": "Python 3",
   "language": "python",
   "name": "python3"
  },
  "language_info": {
   "codemirror_mode": {
    "name": "ipython",
    "version": 3
   },
   "file_extension": ".py",
   "mimetype": "text/x-python",
   "name": "python",
   "nbconvert_exporter": "python",
   "pygments_lexer": "ipython3",
   "version": "3.7.9"
  }
 },
 "nbformat": 4,
 "nbformat_minor": 4
}
